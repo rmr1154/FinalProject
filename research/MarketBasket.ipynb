{
 "cells": [
  {
   "cell_type": "code",
   "execution_count": 124,
   "metadata": {},
   "outputs": [],
   "source": [
    "import sqlite3 as sq\n",
    "import pandas as pd\n",
    "import numpy as np\n",
    "import matplotlib.pyplot as plt\n",
    "\n",
    "pd.options.display.max_columns = None\n",
    "pd.options.display.max_rows = None"
   ]
  },
  {
   "cell_type": "code",
   "execution_count": 125,
   "metadata": {},
   "outputs": [],
   "source": [
    "dbname = 'naxml_34.db'\n",
    "dbpath = '../data/'\n",
    "db_string = f'{dbpath}{dbname}'\n"
   ]
  },
  {
   "cell_type": "code",
   "execution_count": 126,
   "metadata": {},
   "outputs": [],
   "source": [
    "load_csv = False"
   ]
  },
  {
   "cell_type": "code",
   "execution_count": 127,
   "metadata": {},
   "outputs": [],
   "source": [
    "if load_csv == True:\n",
    "    df = pd.read_csv('../data/salestransbig.csv')\n"
   ]
  },
  {
   "cell_type": "code",
   "execution_count": 128,
   "metadata": {},
   "outputs": [],
   "source": [
    "if load_csv == False:\n",
    "    cnx = sq.connect(db_string)\n",
    "    df = pd.read_sql_query(\"SELECT Filename, SalesQuantity, Description, POSCode, MerchandiseCode FROM TransactionLine_Products\", cnx)\n",
    "    df = df.rename(columns={\"Filename\":\"transaction_id\", \"SalesQuantity\":\"salesquantity\", \"Description\":\"itemdesc\",\"POSCode\":\"plu\",\"MerchandiseCode\":\"category\"})"
   ]
  },
  {
   "cell_type": "code",
   "execution_count": 129,
   "metadata": {},
   "outputs": [
    {
     "data": {
      "text/html": [
       "<div>\n",
       "<style scoped>\n",
       "    .dataframe tbody tr th:only-of-type {\n",
       "        vertical-align: middle;\n",
       "    }\n",
       "\n",
       "    .dataframe tbody tr th {\n",
       "        vertical-align: top;\n",
       "    }\n",
       "\n",
       "    .dataframe thead th {\n",
       "        text-align: right;\n",
       "    }\n",
       "</style>\n",
       "<table border=\"1\" class=\"dataframe\">\n",
       "  <thead>\n",
       "    <tr style=\"text-align: right;\">\n",
       "      <th></th>\n",
       "      <th>transaction_id</th>\n",
       "      <th>salesquantity</th>\n",
       "      <th>itemdesc</th>\n",
       "      <th>plu</th>\n",
       "      <th>category</th>\n",
       "    </tr>\n",
       "  </thead>\n",
       "  <tbody>\n",
       "    <tr>\n",
       "      <th>0</th>\n",
       "      <td>PJR340170217063417731081.xml</td>\n",
       "      <td>1.0</td>\n",
       "      <td>300 MILLION GLDEN TICKET</td>\n",
       "      <td>649148000987</td>\n",
       "      <td>27</td>\n",
       "    </tr>\n",
       "    <tr>\n",
       "      <th>1</th>\n",
       "      <td>PJR340170217122859731871.xml</td>\n",
       "      <td>-1.0</td>\n",
       "      <td>Ultimate Wash</td>\n",
       "      <td>9999</td>\n",
       "      <td>88888</td>\n",
       "    </tr>\n",
       "    <tr>\n",
       "      <th>2</th>\n",
       "      <td>PJR340170217133453732046.xml</td>\n",
       "      <td>1.0</td>\n",
       "      <td>50X THE CASH LOTTERY EAC</td>\n",
       "      <td>649148001373</td>\n",
       "      <td>27</td>\n",
       "    </tr>\n",
       "    <tr>\n",
       "      <th>3</th>\n",
       "      <td>PJR340170217134815732082.xml</td>\n",
       "      <td>1.0</td>\n",
       "      <td>MONSTER REHAB TEA LMNDE</td>\n",
       "      <td>070847003229</td>\n",
       "      <td>7</td>\n",
       "    </tr>\n",
       "    <tr>\n",
       "      <th>4</th>\n",
       "      <td>PJR340170217134815732082.xml</td>\n",
       "      <td>1.0</td>\n",
       "      <td>MOUNTAIN DEW 20Z BTL 20</td>\n",
       "      <td>012000001314</td>\n",
       "      <td>7</td>\n",
       "    </tr>\n",
       "    <tr>\n",
       "      <th>5</th>\n",
       "      <td>PJR340170217134815732082.xml</td>\n",
       "      <td>5.0</td>\n",
       "      <td>5X THE CASH LOTTERY EACH</td>\n",
       "      <td>649148001403</td>\n",
       "      <td>27</td>\n",
       "    </tr>\n",
       "    <tr>\n",
       "      <th>6</th>\n",
       "      <td>PJR340170217141123732138.xml</td>\n",
       "      <td>1.0</td>\n",
       "      <td>50X THE CASH LOTTERY EAC</td>\n",
       "      <td>649148001373</td>\n",
       "      <td>27</td>\n",
       "    </tr>\n",
       "    <tr>\n",
       "      <th>7</th>\n",
       "      <td>PJR340170217142059732169.xml</td>\n",
       "      <td>1.0</td>\n",
       "      <td>DIAMOND DOLLARS $5 EACH</td>\n",
       "      <td>649148001229</td>\n",
       "      <td>27</td>\n",
       "    </tr>\n",
       "    <tr>\n",
       "      <th>8</th>\n",
       "      <td>PJR340170217142059732169.xml</td>\n",
       "      <td>1.0</td>\n",
       "      <td>DIAMOND DOLLARS $5 EACH</td>\n",
       "      <td>649148001229</td>\n",
       "      <td>27</td>\n",
       "    </tr>\n",
       "    <tr>\n",
       "      <th>9</th>\n",
       "      <td>PJR340170217142059732169.xml</td>\n",
       "      <td>1.0</td>\n",
       "      <td>DIAMOND DOLLARS $5 EACH</td>\n",
       "      <td>649148001229</td>\n",
       "      <td>27</td>\n",
       "    </tr>\n",
       "  </tbody>\n",
       "</table>\n",
       "</div>"
      ],
      "text/plain": [
       "                 transaction_id  salesquantity                  itemdesc  \\\n",
       "0  PJR340170217063417731081.xml            1.0  300 MILLION GLDEN TICKET   \n",
       "1  PJR340170217122859731871.xml           -1.0             Ultimate Wash   \n",
       "2  PJR340170217133453732046.xml            1.0  50X THE CASH LOTTERY EAC   \n",
       "3  PJR340170217134815732082.xml            1.0   MONSTER REHAB TEA LMNDE   \n",
       "4  PJR340170217134815732082.xml            1.0   MOUNTAIN DEW 20Z BTL 20   \n",
       "5  PJR340170217134815732082.xml            5.0  5X THE CASH LOTTERY EACH   \n",
       "6  PJR340170217141123732138.xml            1.0  50X THE CASH LOTTERY EAC   \n",
       "7  PJR340170217142059732169.xml            1.0   DIAMOND DOLLARS $5 EACH   \n",
       "8  PJR340170217142059732169.xml            1.0   DIAMOND DOLLARS $5 EACH   \n",
       "9  PJR340170217142059732169.xml            1.0   DIAMOND DOLLARS $5 EACH   \n",
       "\n",
       "            plu category  \n",
       "0  649148000987       27  \n",
       "1          9999    88888  \n",
       "2  649148001373       27  \n",
       "3  070847003229        7  \n",
       "4  012000001314        7  \n",
       "5  649148001403       27  \n",
       "6  649148001373       27  \n",
       "7  649148001229       27  \n",
       "8  649148001229       27  \n",
       "9  649148001229       27  "
      ]
     },
     "execution_count": 129,
     "metadata": {},
     "output_type": "execute_result"
    }
   ],
   "source": [
    "df.head(10)"
   ]
  },
  {
   "cell_type": "code",
   "execution_count": 130,
   "metadata": {},
   "outputs": [],
   "source": [
    "df_codes = pd.read_csv('../data/codes.csv')\n",
    "df_codes['MerchandiseCode'] = df_codes['MerchandiseCode'].astype(str)\n",
    "df_codes = df_codes.rename(columns={\"MerchandiseCode\":\"category\",\"MerchandiseCodeDescription\":\"category_name\"}) \n",
    "df = df.merge(df_codes, on='category', how='inner')"
   ]
  },
  {
   "cell_type": "code",
   "execution_count": 131,
   "metadata": {},
   "outputs": [
    {
     "data": {
      "text/html": [
       "<div>\n",
       "<style scoped>\n",
       "    .dataframe tbody tr th:only-of-type {\n",
       "        vertical-align: middle;\n",
       "    }\n",
       "\n",
       "    .dataframe tbody tr th {\n",
       "        vertical-align: top;\n",
       "    }\n",
       "\n",
       "    .dataframe thead th {\n",
       "        text-align: right;\n",
       "    }\n",
       "</style>\n",
       "<table border=\"1\" class=\"dataframe\">\n",
       "  <thead>\n",
       "    <tr style=\"text-align: right;\">\n",
       "      <th></th>\n",
       "      <th>category</th>\n",
       "      <th>category_name</th>\n",
       "    </tr>\n",
       "  </thead>\n",
       "  <tbody>\n",
       "    <tr>\n",
       "      <th>0</th>\n",
       "      <td>2</td>\n",
       "      <td>Cigarettes</td>\n",
       "    </tr>\n",
       "    <tr>\n",
       "      <th>1</th>\n",
       "      <td>3</td>\n",
       "      <td>Other Tobacco</td>\n",
       "    </tr>\n",
       "    <tr>\n",
       "      <th>2</th>\n",
       "      <td>4</td>\n",
       "      <td>Beer</td>\n",
       "    </tr>\n",
       "    <tr>\n",
       "      <th>3</th>\n",
       "      <td>6</td>\n",
       "      <td>Liquor</td>\n",
       "    </tr>\n",
       "    <tr>\n",
       "      <th>4</th>\n",
       "      <td>7</td>\n",
       "      <td>Soda and Juice</td>\n",
       "    </tr>\n",
       "  </tbody>\n",
       "</table>\n",
       "</div>"
      ],
      "text/plain": [
       "  category   category_name\n",
       "0        2      Cigarettes\n",
       "1        3   Other Tobacco\n",
       "2        4            Beer\n",
       "3        6          Liquor\n",
       "4        7  Soda and Juice"
      ]
     },
     "execution_count": 131,
     "metadata": {},
     "output_type": "execute_result"
    }
   ],
   "source": [
    "df_codes.head()"
   ]
  },
  {
   "cell_type": "code",
   "execution_count": 132,
   "metadata": {},
   "outputs": [
    {
     "data": {
      "text/html": [
       "<div>\n",
       "<style scoped>\n",
       "    .dataframe tbody tr th:only-of-type {\n",
       "        vertical-align: middle;\n",
       "    }\n",
       "\n",
       "    .dataframe tbody tr th {\n",
       "        vertical-align: top;\n",
       "    }\n",
       "\n",
       "    .dataframe thead th {\n",
       "        text-align: right;\n",
       "    }\n",
       "</style>\n",
       "<table border=\"1\" class=\"dataframe\">\n",
       "  <thead>\n",
       "    <tr style=\"text-align: right;\">\n",
       "      <th></th>\n",
       "      <th>transaction_id</th>\n",
       "      <th>salesquantity</th>\n",
       "      <th>itemdesc</th>\n",
       "      <th>plu</th>\n",
       "      <th>category</th>\n",
       "      <th>category_name</th>\n",
       "    </tr>\n",
       "  </thead>\n",
       "  <tbody>\n",
       "    <tr>\n",
       "      <th>0</th>\n",
       "      <td>PJR340170217063417731081.xml</td>\n",
       "      <td>1.0</td>\n",
       "      <td>300 MILLION GLDEN TICKET</td>\n",
       "      <td>649148000987</td>\n",
       "      <td>27</td>\n",
       "      <td>Scratch Off Tickets</td>\n",
       "    </tr>\n",
       "    <tr>\n",
       "      <th>1</th>\n",
       "      <td>PJR340170217133453732046.xml</td>\n",
       "      <td>1.0</td>\n",
       "      <td>50X THE CASH LOTTERY EAC</td>\n",
       "      <td>649148001373</td>\n",
       "      <td>27</td>\n",
       "      <td>Scratch Off Tickets</td>\n",
       "    </tr>\n",
       "    <tr>\n",
       "      <th>2</th>\n",
       "      <td>PJR340170217134815732082.xml</td>\n",
       "      <td>5.0</td>\n",
       "      <td>5X THE CASH LOTTERY EACH</td>\n",
       "      <td>649148001403</td>\n",
       "      <td>27</td>\n",
       "      <td>Scratch Off Tickets</td>\n",
       "    </tr>\n",
       "    <tr>\n",
       "      <th>3</th>\n",
       "      <td>PJR340170217141123732138.xml</td>\n",
       "      <td>1.0</td>\n",
       "      <td>50X THE CASH LOTTERY EAC</td>\n",
       "      <td>649148001373</td>\n",
       "      <td>27</td>\n",
       "      <td>Scratch Off Tickets</td>\n",
       "    </tr>\n",
       "    <tr>\n",
       "      <th>4</th>\n",
       "      <td>PJR340170217142059732169.xml</td>\n",
       "      <td>1.0</td>\n",
       "      <td>DIAMOND DOLLARS $5 EACH</td>\n",
       "      <td>649148001229</td>\n",
       "      <td>27</td>\n",
       "      <td>Scratch Off Tickets</td>\n",
       "    </tr>\n",
       "  </tbody>\n",
       "</table>\n",
       "</div>"
      ],
      "text/plain": [
       "                 transaction_id  salesquantity                  itemdesc  \\\n",
       "0  PJR340170217063417731081.xml            1.0  300 MILLION GLDEN TICKET   \n",
       "1  PJR340170217133453732046.xml            1.0  50X THE CASH LOTTERY EAC   \n",
       "2  PJR340170217134815732082.xml            5.0  5X THE CASH LOTTERY EACH   \n",
       "3  PJR340170217141123732138.xml            1.0  50X THE CASH LOTTERY EAC   \n",
       "4  PJR340170217142059732169.xml            1.0   DIAMOND DOLLARS $5 EACH   \n",
       "\n",
       "            plu category        category_name  \n",
       "0  649148000987       27  Scratch Off Tickets  \n",
       "1  649148001373       27  Scratch Off Tickets  \n",
       "2  649148001403       27  Scratch Off Tickets  \n",
       "3  649148001373       27  Scratch Off Tickets  \n",
       "4  649148001229       27  Scratch Off Tickets  "
      ]
     },
     "execution_count": 132,
     "metadata": {},
     "output_type": "execute_result"
    }
   ],
   "source": [
    "df.head()"
   ]
  },
  {
   "cell_type": "code",
   "execution_count": 133,
   "metadata": {},
   "outputs": [],
   "source": [
    "df.set_index('transaction_id',inplace=True)\n",
    "#df = df[df.groupby('transaction_id')['category'].count() > 1]\n",
    "#df.head()"
   ]
  },
  {
   "cell_type": "code",
   "execution_count": 252,
   "metadata": {},
   "outputs": [],
   "source": [
    "cat_count  = df['category_name'].value_counts() / len(df['category_name'])\n",
    "cat_count = cat_count[:15,]"
   ]
  },
  {
   "cell_type": "code",
   "execution_count": 253,
   "metadata": {},
   "outputs": [],
   "source": [
    "#plt.figure(figsize=(15,5))\n",
    "#sns.barplot(cat_count.index, cat_count.values, alpha=0.8)\n",
    "#plt.title('Top 15 categories')\n",
    "#plt.ylabel('% of Transactions', fontsize=12)\n",
    "#plt.xlabel('category_name', fontsize=12)\n",
    "#plt.xticks(rotation=45)\n",
    "#plt.show()"
   ]
  },
  {
   "cell_type": "code",
   "execution_count": 254,
   "metadata": {},
   "outputs": [
    {
     "data": {
      "application/vnd.plotly.v1+json": {
       "config": {
        "plotlyServerURL": "https://plot.ly"
       },
       "data": [
        {
         "labels": [
          "Fuel 1",
          "Soda and Juice",
          "Snacks and Grocery",
          "Fountain",
          "Cigarettes",
          "Tobacco Excise Tax",
          "Scratch Off Tickets",
          "Candy",
          "Coffee",
          "Other Tobacco",
          "Car Wash",
          "Beer",
          "Lotto",
          "Grocery High Tax",
          "Liquor"
         ],
         "type": "pie",
         "values": [
          0.23943661971830985,
          0.15622305260132222,
          0.08910606496119575,
          0.08522563955159529,
          0.07818338603046852,
          0.07688991089393504,
          0.057631503305547574,
          0.05734406438631791,
          0.032049439494107504,
          0.02960620868065536,
          0.017821212992239148,
          0.016240298936475998,
          0.012934751365334866,
          0.012791031905720035,
          0.012503592986490371
         ]
        }
       ],
       "layout": {
        "template": {
         "data": {
          "bar": [
           {
            "error_x": {
             "color": "#2a3f5f"
            },
            "error_y": {
             "color": "#2a3f5f"
            },
            "marker": {
             "line": {
              "color": "#E5ECF6",
              "width": 0.5
             }
            },
            "type": "bar"
           }
          ],
          "barpolar": [
           {
            "marker": {
             "line": {
              "color": "#E5ECF6",
              "width": 0.5
             }
            },
            "type": "barpolar"
           }
          ],
          "carpet": [
           {
            "aaxis": {
             "endlinecolor": "#2a3f5f",
             "gridcolor": "white",
             "linecolor": "white",
             "minorgridcolor": "white",
             "startlinecolor": "#2a3f5f"
            },
            "baxis": {
             "endlinecolor": "#2a3f5f",
             "gridcolor": "white",
             "linecolor": "white",
             "minorgridcolor": "white",
             "startlinecolor": "#2a3f5f"
            },
            "type": "carpet"
           }
          ],
          "choropleth": [
           {
            "colorbar": {
             "outlinewidth": 0,
             "ticks": ""
            },
            "type": "choropleth"
           }
          ],
          "contour": [
           {
            "colorbar": {
             "outlinewidth": 0,
             "ticks": ""
            },
            "colorscale": [
             [
              0,
              "#0d0887"
             ],
             [
              0.1111111111111111,
              "#46039f"
             ],
             [
              0.2222222222222222,
              "#7201a8"
             ],
             [
              0.3333333333333333,
              "#9c179e"
             ],
             [
              0.4444444444444444,
              "#bd3786"
             ],
             [
              0.5555555555555556,
              "#d8576b"
             ],
             [
              0.6666666666666666,
              "#ed7953"
             ],
             [
              0.7777777777777778,
              "#fb9f3a"
             ],
             [
              0.8888888888888888,
              "#fdca26"
             ],
             [
              1,
              "#f0f921"
             ]
            ],
            "type": "contour"
           }
          ],
          "contourcarpet": [
           {
            "colorbar": {
             "outlinewidth": 0,
             "ticks": ""
            },
            "type": "contourcarpet"
           }
          ],
          "heatmap": [
           {
            "colorbar": {
             "outlinewidth": 0,
             "ticks": ""
            },
            "colorscale": [
             [
              0,
              "#0d0887"
             ],
             [
              0.1111111111111111,
              "#46039f"
             ],
             [
              0.2222222222222222,
              "#7201a8"
             ],
             [
              0.3333333333333333,
              "#9c179e"
             ],
             [
              0.4444444444444444,
              "#bd3786"
             ],
             [
              0.5555555555555556,
              "#d8576b"
             ],
             [
              0.6666666666666666,
              "#ed7953"
             ],
             [
              0.7777777777777778,
              "#fb9f3a"
             ],
             [
              0.8888888888888888,
              "#fdca26"
             ],
             [
              1,
              "#f0f921"
             ]
            ],
            "type": "heatmap"
           }
          ],
          "heatmapgl": [
           {
            "colorbar": {
             "outlinewidth": 0,
             "ticks": ""
            },
            "colorscale": [
             [
              0,
              "#0d0887"
             ],
             [
              0.1111111111111111,
              "#46039f"
             ],
             [
              0.2222222222222222,
              "#7201a8"
             ],
             [
              0.3333333333333333,
              "#9c179e"
             ],
             [
              0.4444444444444444,
              "#bd3786"
             ],
             [
              0.5555555555555556,
              "#d8576b"
             ],
             [
              0.6666666666666666,
              "#ed7953"
             ],
             [
              0.7777777777777778,
              "#fb9f3a"
             ],
             [
              0.8888888888888888,
              "#fdca26"
             ],
             [
              1,
              "#f0f921"
             ]
            ],
            "type": "heatmapgl"
           }
          ],
          "histogram": [
           {
            "marker": {
             "colorbar": {
              "outlinewidth": 0,
              "ticks": ""
             }
            },
            "type": "histogram"
           }
          ],
          "histogram2d": [
           {
            "colorbar": {
             "outlinewidth": 0,
             "ticks": ""
            },
            "colorscale": [
             [
              0,
              "#0d0887"
             ],
             [
              0.1111111111111111,
              "#46039f"
             ],
             [
              0.2222222222222222,
              "#7201a8"
             ],
             [
              0.3333333333333333,
              "#9c179e"
             ],
             [
              0.4444444444444444,
              "#bd3786"
             ],
             [
              0.5555555555555556,
              "#d8576b"
             ],
             [
              0.6666666666666666,
              "#ed7953"
             ],
             [
              0.7777777777777778,
              "#fb9f3a"
             ],
             [
              0.8888888888888888,
              "#fdca26"
             ],
             [
              1,
              "#f0f921"
             ]
            ],
            "type": "histogram2d"
           }
          ],
          "histogram2dcontour": [
           {
            "colorbar": {
             "outlinewidth": 0,
             "ticks": ""
            },
            "colorscale": [
             [
              0,
              "#0d0887"
             ],
             [
              0.1111111111111111,
              "#46039f"
             ],
             [
              0.2222222222222222,
              "#7201a8"
             ],
             [
              0.3333333333333333,
              "#9c179e"
             ],
             [
              0.4444444444444444,
              "#bd3786"
             ],
             [
              0.5555555555555556,
              "#d8576b"
             ],
             [
              0.6666666666666666,
              "#ed7953"
             ],
             [
              0.7777777777777778,
              "#fb9f3a"
             ],
             [
              0.8888888888888888,
              "#fdca26"
             ],
             [
              1,
              "#f0f921"
             ]
            ],
            "type": "histogram2dcontour"
           }
          ],
          "mesh3d": [
           {
            "colorbar": {
             "outlinewidth": 0,
             "ticks": ""
            },
            "type": "mesh3d"
           }
          ],
          "parcoords": [
           {
            "line": {
             "colorbar": {
              "outlinewidth": 0,
              "ticks": ""
             }
            },
            "type": "parcoords"
           }
          ],
          "pie": [
           {
            "automargin": true,
            "type": "pie"
           }
          ],
          "scatter": [
           {
            "marker": {
             "colorbar": {
              "outlinewidth": 0,
              "ticks": ""
             }
            },
            "type": "scatter"
           }
          ],
          "scatter3d": [
           {
            "line": {
             "colorbar": {
              "outlinewidth": 0,
              "ticks": ""
             }
            },
            "marker": {
             "colorbar": {
              "outlinewidth": 0,
              "ticks": ""
             }
            },
            "type": "scatter3d"
           }
          ],
          "scattercarpet": [
           {
            "marker": {
             "colorbar": {
              "outlinewidth": 0,
              "ticks": ""
             }
            },
            "type": "scattercarpet"
           }
          ],
          "scattergeo": [
           {
            "marker": {
             "colorbar": {
              "outlinewidth": 0,
              "ticks": ""
             }
            },
            "type": "scattergeo"
           }
          ],
          "scattergl": [
           {
            "marker": {
             "colorbar": {
              "outlinewidth": 0,
              "ticks": ""
             }
            },
            "type": "scattergl"
           }
          ],
          "scattermapbox": [
           {
            "marker": {
             "colorbar": {
              "outlinewidth": 0,
              "ticks": ""
             }
            },
            "type": "scattermapbox"
           }
          ],
          "scatterpolar": [
           {
            "marker": {
             "colorbar": {
              "outlinewidth": 0,
              "ticks": ""
             }
            },
            "type": "scatterpolar"
           }
          ],
          "scatterpolargl": [
           {
            "marker": {
             "colorbar": {
              "outlinewidth": 0,
              "ticks": ""
             }
            },
            "type": "scatterpolargl"
           }
          ],
          "scatterternary": [
           {
            "marker": {
             "colorbar": {
              "outlinewidth": 0,
              "ticks": ""
             }
            },
            "type": "scatterternary"
           }
          ],
          "surface": [
           {
            "colorbar": {
             "outlinewidth": 0,
             "ticks": ""
            },
            "colorscale": [
             [
              0,
              "#0d0887"
             ],
             [
              0.1111111111111111,
              "#46039f"
             ],
             [
              0.2222222222222222,
              "#7201a8"
             ],
             [
              0.3333333333333333,
              "#9c179e"
             ],
             [
              0.4444444444444444,
              "#bd3786"
             ],
             [
              0.5555555555555556,
              "#d8576b"
             ],
             [
              0.6666666666666666,
              "#ed7953"
             ],
             [
              0.7777777777777778,
              "#fb9f3a"
             ],
             [
              0.8888888888888888,
              "#fdca26"
             ],
             [
              1,
              "#f0f921"
             ]
            ],
            "type": "surface"
           }
          ],
          "table": [
           {
            "cells": {
             "fill": {
              "color": "#EBF0F8"
             },
             "line": {
              "color": "white"
             }
            },
            "header": {
             "fill": {
              "color": "#C8D4E3"
             },
             "line": {
              "color": "white"
             }
            },
            "type": "table"
           }
          ]
         },
         "layout": {
          "annotationdefaults": {
           "arrowcolor": "#2a3f5f",
           "arrowhead": 0,
           "arrowwidth": 1
          },
          "coloraxis": {
           "colorbar": {
            "outlinewidth": 0,
            "ticks": ""
           }
          },
          "colorscale": {
           "diverging": [
            [
             0,
             "#8e0152"
            ],
            [
             0.1,
             "#c51b7d"
            ],
            [
             0.2,
             "#de77ae"
            ],
            [
             0.3,
             "#f1b6da"
            ],
            [
             0.4,
             "#fde0ef"
            ],
            [
             0.5,
             "#f7f7f7"
            ],
            [
             0.6,
             "#e6f5d0"
            ],
            [
             0.7,
             "#b8e186"
            ],
            [
             0.8,
             "#7fbc41"
            ],
            [
             0.9,
             "#4d9221"
            ],
            [
             1,
             "#276419"
            ]
           ],
           "sequential": [
            [
             0,
             "#0d0887"
            ],
            [
             0.1111111111111111,
             "#46039f"
            ],
            [
             0.2222222222222222,
             "#7201a8"
            ],
            [
             0.3333333333333333,
             "#9c179e"
            ],
            [
             0.4444444444444444,
             "#bd3786"
            ],
            [
             0.5555555555555556,
             "#d8576b"
            ],
            [
             0.6666666666666666,
             "#ed7953"
            ],
            [
             0.7777777777777778,
             "#fb9f3a"
            ],
            [
             0.8888888888888888,
             "#fdca26"
            ],
            [
             1,
             "#f0f921"
            ]
           ],
           "sequentialminus": [
            [
             0,
             "#0d0887"
            ],
            [
             0.1111111111111111,
             "#46039f"
            ],
            [
             0.2222222222222222,
             "#7201a8"
            ],
            [
             0.3333333333333333,
             "#9c179e"
            ],
            [
             0.4444444444444444,
             "#bd3786"
            ],
            [
             0.5555555555555556,
             "#d8576b"
            ],
            [
             0.6666666666666666,
             "#ed7953"
            ],
            [
             0.7777777777777778,
             "#fb9f3a"
            ],
            [
             0.8888888888888888,
             "#fdca26"
            ],
            [
             1,
             "#f0f921"
            ]
           ]
          },
          "colorway": [
           "#636efa",
           "#EF553B",
           "#00cc96",
           "#ab63fa",
           "#FFA15A",
           "#19d3f3",
           "#FF6692",
           "#B6E880",
           "#FF97FF",
           "#FECB52"
          ],
          "font": {
           "color": "#2a3f5f"
          },
          "geo": {
           "bgcolor": "white",
           "lakecolor": "white",
           "landcolor": "#E5ECF6",
           "showlakes": true,
           "showland": true,
           "subunitcolor": "white"
          },
          "hoverlabel": {
           "align": "left"
          },
          "hovermode": "closest",
          "mapbox": {
           "style": "light"
          },
          "paper_bgcolor": "white",
          "plot_bgcolor": "#E5ECF6",
          "polar": {
           "angularaxis": {
            "gridcolor": "white",
            "linecolor": "white",
            "ticks": ""
           },
           "bgcolor": "#E5ECF6",
           "radialaxis": {
            "gridcolor": "white",
            "linecolor": "white",
            "ticks": ""
           }
          },
          "scene": {
           "xaxis": {
            "backgroundcolor": "#E5ECF6",
            "gridcolor": "white",
            "gridwidth": 2,
            "linecolor": "white",
            "showbackground": true,
            "ticks": "",
            "zerolinecolor": "white"
           },
           "yaxis": {
            "backgroundcolor": "#E5ECF6",
            "gridcolor": "white",
            "gridwidth": 2,
            "linecolor": "white",
            "showbackground": true,
            "ticks": "",
            "zerolinecolor": "white"
           },
           "zaxis": {
            "backgroundcolor": "#E5ECF6",
            "gridcolor": "white",
            "gridwidth": 2,
            "linecolor": "white",
            "showbackground": true,
            "ticks": "",
            "zerolinecolor": "white"
           }
          },
          "shapedefaults": {
           "line": {
            "color": "#2a3f5f"
           }
          },
          "ternary": {
           "aaxis": {
            "gridcolor": "white",
            "linecolor": "white",
            "ticks": ""
           },
           "baxis": {
            "gridcolor": "white",
            "linecolor": "white",
            "ticks": ""
           },
           "bgcolor": "#E5ECF6",
           "caxis": {
            "gridcolor": "white",
            "linecolor": "white",
            "ticks": ""
           }
          },
          "title": {
           "x": 0.05
          },
          "xaxis": {
           "automargin": true,
           "gridcolor": "white",
           "linecolor": "white",
           "ticks": "",
           "title": {
            "standoff": 15
           },
           "zerolinecolor": "white",
           "zerolinewidth": 2
          },
          "yaxis": {
           "automargin": true,
           "gridcolor": "white",
           "linecolor": "white",
           "ticks": "",
           "title": {
            "standoff": 15
           },
           "zerolinecolor": "white",
           "zerolinewidth": 2
          }
         }
        },
        "title": {
         "text": "Categories by % of Sales"
        }
       }
      },
      "text/html": [
       "<div>\n",
       "        \n",
       "        \n",
       "            <div id=\"a93e596c-6552-45cf-ae24-0563026cfd97\" class=\"plotly-graph-div\" style=\"height:525px; width:100%;\"></div>\n",
       "            <script type=\"text/javascript\">\n",
       "                require([\"plotly\"], function(Plotly) {\n",
       "                    window.PLOTLYENV=window.PLOTLYENV || {};\n",
       "                    \n",
       "                if (document.getElementById(\"a93e596c-6552-45cf-ae24-0563026cfd97\")) {\n",
       "                    Plotly.newPlot(\n",
       "                        'a93e596c-6552-45cf-ae24-0563026cfd97',\n",
       "                        [{\"labels\": [\"Fuel 1\", \"Soda and Juice\", \"Snacks and Grocery\", \"Fountain\", \"Cigarettes\", \"Tobacco Excise Tax\", \"Scratch Off Tickets\", \"Candy\", \"Coffee\", \"Other Tobacco\", \"Car Wash\", \"Beer\", \"Lotto\", \"Grocery High Tax\", \"Liquor\"], \"type\": \"pie\", \"values\": [0.23943661971830985, 0.15622305260132222, 0.08910606496119575, 0.08522563955159529, 0.07818338603046852, 0.07688991089393504, 0.057631503305547574, 0.05734406438631791, 0.032049439494107504, 0.02960620868065536, 0.017821212992239148, 0.016240298936475998, 0.012934751365334866, 0.012791031905720035, 0.012503592986490371]}],\n",
       "                        {\"template\": {\"data\": {\"bar\": [{\"error_x\": {\"color\": \"#2a3f5f\"}, \"error_y\": {\"color\": \"#2a3f5f\"}, \"marker\": {\"line\": {\"color\": \"#E5ECF6\", \"width\": 0.5}}, \"type\": \"bar\"}], \"barpolar\": [{\"marker\": {\"line\": {\"color\": \"#E5ECF6\", \"width\": 0.5}}, \"type\": \"barpolar\"}], \"carpet\": [{\"aaxis\": {\"endlinecolor\": \"#2a3f5f\", \"gridcolor\": \"white\", \"linecolor\": \"white\", \"minorgridcolor\": \"white\", \"startlinecolor\": \"#2a3f5f\"}, \"baxis\": {\"endlinecolor\": \"#2a3f5f\", \"gridcolor\": \"white\", \"linecolor\": \"white\", \"minorgridcolor\": \"white\", \"startlinecolor\": \"#2a3f5f\"}, \"type\": \"carpet\"}], \"choropleth\": [{\"colorbar\": {\"outlinewidth\": 0, \"ticks\": \"\"}, \"type\": \"choropleth\"}], \"contour\": [{\"colorbar\": {\"outlinewidth\": 0, \"ticks\": \"\"}, \"colorscale\": [[0.0, \"#0d0887\"], [0.1111111111111111, \"#46039f\"], [0.2222222222222222, \"#7201a8\"], [0.3333333333333333, \"#9c179e\"], [0.4444444444444444, \"#bd3786\"], [0.5555555555555556, \"#d8576b\"], [0.6666666666666666, \"#ed7953\"], [0.7777777777777778, \"#fb9f3a\"], [0.8888888888888888, \"#fdca26\"], [1.0, \"#f0f921\"]], \"type\": \"contour\"}], \"contourcarpet\": [{\"colorbar\": {\"outlinewidth\": 0, \"ticks\": \"\"}, \"type\": \"contourcarpet\"}], \"heatmap\": [{\"colorbar\": {\"outlinewidth\": 0, \"ticks\": \"\"}, \"colorscale\": [[0.0, \"#0d0887\"], [0.1111111111111111, \"#46039f\"], [0.2222222222222222, \"#7201a8\"], [0.3333333333333333, \"#9c179e\"], [0.4444444444444444, \"#bd3786\"], [0.5555555555555556, \"#d8576b\"], [0.6666666666666666, \"#ed7953\"], [0.7777777777777778, \"#fb9f3a\"], [0.8888888888888888, \"#fdca26\"], [1.0, \"#f0f921\"]], \"type\": \"heatmap\"}], \"heatmapgl\": [{\"colorbar\": {\"outlinewidth\": 0, \"ticks\": \"\"}, \"colorscale\": [[0.0, \"#0d0887\"], [0.1111111111111111, \"#46039f\"], [0.2222222222222222, \"#7201a8\"], [0.3333333333333333, \"#9c179e\"], [0.4444444444444444, \"#bd3786\"], [0.5555555555555556, \"#d8576b\"], [0.6666666666666666, \"#ed7953\"], [0.7777777777777778, \"#fb9f3a\"], [0.8888888888888888, \"#fdca26\"], [1.0, \"#f0f921\"]], \"type\": \"heatmapgl\"}], \"histogram\": [{\"marker\": {\"colorbar\": {\"outlinewidth\": 0, \"ticks\": \"\"}}, \"type\": \"histogram\"}], \"histogram2d\": [{\"colorbar\": {\"outlinewidth\": 0, \"ticks\": \"\"}, \"colorscale\": [[0.0, \"#0d0887\"], [0.1111111111111111, \"#46039f\"], [0.2222222222222222, \"#7201a8\"], [0.3333333333333333, \"#9c179e\"], [0.4444444444444444, \"#bd3786\"], [0.5555555555555556, \"#d8576b\"], [0.6666666666666666, \"#ed7953\"], [0.7777777777777778, \"#fb9f3a\"], [0.8888888888888888, \"#fdca26\"], [1.0, \"#f0f921\"]], \"type\": \"histogram2d\"}], \"histogram2dcontour\": [{\"colorbar\": {\"outlinewidth\": 0, \"ticks\": \"\"}, \"colorscale\": [[0.0, \"#0d0887\"], [0.1111111111111111, \"#46039f\"], [0.2222222222222222, \"#7201a8\"], [0.3333333333333333, \"#9c179e\"], [0.4444444444444444, \"#bd3786\"], [0.5555555555555556, \"#d8576b\"], [0.6666666666666666, \"#ed7953\"], [0.7777777777777778, \"#fb9f3a\"], [0.8888888888888888, \"#fdca26\"], [1.0, \"#f0f921\"]], \"type\": \"histogram2dcontour\"}], \"mesh3d\": [{\"colorbar\": {\"outlinewidth\": 0, \"ticks\": \"\"}, \"type\": \"mesh3d\"}], \"parcoords\": [{\"line\": {\"colorbar\": {\"outlinewidth\": 0, \"ticks\": \"\"}}, \"type\": \"parcoords\"}], \"pie\": [{\"automargin\": true, \"type\": \"pie\"}], \"scatter\": [{\"marker\": {\"colorbar\": {\"outlinewidth\": 0, \"ticks\": \"\"}}, \"type\": \"scatter\"}], \"scatter3d\": [{\"line\": {\"colorbar\": {\"outlinewidth\": 0, \"ticks\": \"\"}}, \"marker\": {\"colorbar\": {\"outlinewidth\": 0, \"ticks\": \"\"}}, \"type\": \"scatter3d\"}], \"scattercarpet\": [{\"marker\": {\"colorbar\": {\"outlinewidth\": 0, \"ticks\": \"\"}}, \"type\": \"scattercarpet\"}], \"scattergeo\": [{\"marker\": {\"colorbar\": {\"outlinewidth\": 0, \"ticks\": \"\"}}, \"type\": \"scattergeo\"}], \"scattergl\": [{\"marker\": {\"colorbar\": {\"outlinewidth\": 0, \"ticks\": \"\"}}, \"type\": \"scattergl\"}], \"scattermapbox\": [{\"marker\": {\"colorbar\": {\"outlinewidth\": 0, \"ticks\": \"\"}}, \"type\": \"scattermapbox\"}], \"scatterpolar\": [{\"marker\": {\"colorbar\": {\"outlinewidth\": 0, \"ticks\": \"\"}}, \"type\": \"scatterpolar\"}], \"scatterpolargl\": [{\"marker\": {\"colorbar\": {\"outlinewidth\": 0, \"ticks\": \"\"}}, \"type\": \"scatterpolargl\"}], \"scatterternary\": [{\"marker\": {\"colorbar\": {\"outlinewidth\": 0, \"ticks\": \"\"}}, \"type\": \"scatterternary\"}], \"surface\": [{\"colorbar\": {\"outlinewidth\": 0, \"ticks\": \"\"}, \"colorscale\": [[0.0, \"#0d0887\"], [0.1111111111111111, \"#46039f\"], [0.2222222222222222, \"#7201a8\"], [0.3333333333333333, \"#9c179e\"], [0.4444444444444444, \"#bd3786\"], [0.5555555555555556, \"#d8576b\"], [0.6666666666666666, \"#ed7953\"], [0.7777777777777778, \"#fb9f3a\"], [0.8888888888888888, \"#fdca26\"], [1.0, \"#f0f921\"]], \"type\": \"surface\"}], \"table\": [{\"cells\": {\"fill\": {\"color\": \"#EBF0F8\"}, \"line\": {\"color\": \"white\"}}, \"header\": {\"fill\": {\"color\": \"#C8D4E3\"}, \"line\": {\"color\": \"white\"}}, \"type\": \"table\"}]}, \"layout\": {\"annotationdefaults\": {\"arrowcolor\": \"#2a3f5f\", \"arrowhead\": 0, \"arrowwidth\": 1}, \"coloraxis\": {\"colorbar\": {\"outlinewidth\": 0, \"ticks\": \"\"}}, \"colorscale\": {\"diverging\": [[0, \"#8e0152\"], [0.1, \"#c51b7d\"], [0.2, \"#de77ae\"], [0.3, \"#f1b6da\"], [0.4, \"#fde0ef\"], [0.5, \"#f7f7f7\"], [0.6, \"#e6f5d0\"], [0.7, \"#b8e186\"], [0.8, \"#7fbc41\"], [0.9, \"#4d9221\"], [1, \"#276419\"]], \"sequential\": [[0.0, \"#0d0887\"], [0.1111111111111111, \"#46039f\"], [0.2222222222222222, \"#7201a8\"], [0.3333333333333333, \"#9c179e\"], [0.4444444444444444, \"#bd3786\"], [0.5555555555555556, \"#d8576b\"], [0.6666666666666666, \"#ed7953\"], [0.7777777777777778, \"#fb9f3a\"], [0.8888888888888888, \"#fdca26\"], [1.0, \"#f0f921\"]], \"sequentialminus\": [[0.0, \"#0d0887\"], [0.1111111111111111, \"#46039f\"], [0.2222222222222222, \"#7201a8\"], [0.3333333333333333, \"#9c179e\"], [0.4444444444444444, \"#bd3786\"], [0.5555555555555556, \"#d8576b\"], [0.6666666666666666, \"#ed7953\"], [0.7777777777777778, \"#fb9f3a\"], [0.8888888888888888, \"#fdca26\"], [1.0, \"#f0f921\"]]}, \"colorway\": [\"#636efa\", \"#EF553B\", \"#00cc96\", \"#ab63fa\", \"#FFA15A\", \"#19d3f3\", \"#FF6692\", \"#B6E880\", \"#FF97FF\", \"#FECB52\"], \"font\": {\"color\": \"#2a3f5f\"}, \"geo\": {\"bgcolor\": \"white\", \"lakecolor\": \"white\", \"landcolor\": \"#E5ECF6\", \"showlakes\": true, \"showland\": true, \"subunitcolor\": \"white\"}, \"hoverlabel\": {\"align\": \"left\"}, \"hovermode\": \"closest\", \"mapbox\": {\"style\": \"light\"}, \"paper_bgcolor\": \"white\", \"plot_bgcolor\": \"#E5ECF6\", \"polar\": {\"angularaxis\": {\"gridcolor\": \"white\", \"linecolor\": \"white\", \"ticks\": \"\"}, \"bgcolor\": \"#E5ECF6\", \"radialaxis\": {\"gridcolor\": \"white\", \"linecolor\": \"white\", \"ticks\": \"\"}}, \"scene\": {\"xaxis\": {\"backgroundcolor\": \"#E5ECF6\", \"gridcolor\": \"white\", \"gridwidth\": 2, \"linecolor\": \"white\", \"showbackground\": true, \"ticks\": \"\", \"zerolinecolor\": \"white\"}, \"yaxis\": {\"backgroundcolor\": \"#E5ECF6\", \"gridcolor\": \"white\", \"gridwidth\": 2, \"linecolor\": \"white\", \"showbackground\": true, \"ticks\": \"\", \"zerolinecolor\": \"white\"}, \"zaxis\": {\"backgroundcolor\": \"#E5ECF6\", \"gridcolor\": \"white\", \"gridwidth\": 2, \"linecolor\": \"white\", \"showbackground\": true, \"ticks\": \"\", \"zerolinecolor\": \"white\"}}, \"shapedefaults\": {\"line\": {\"color\": \"#2a3f5f\"}}, \"ternary\": {\"aaxis\": {\"gridcolor\": \"white\", \"linecolor\": \"white\", \"ticks\": \"\"}, \"baxis\": {\"gridcolor\": \"white\", \"linecolor\": \"white\", \"ticks\": \"\"}, \"bgcolor\": \"#E5ECF6\", \"caxis\": {\"gridcolor\": \"white\", \"linecolor\": \"white\", \"ticks\": \"\"}}, \"title\": {\"x\": 0.05}, \"xaxis\": {\"automargin\": true, \"gridcolor\": \"white\", \"linecolor\": \"white\", \"ticks\": \"\", \"title\": {\"standoff\": 15}, \"zerolinecolor\": \"white\", \"zerolinewidth\": 2}, \"yaxis\": {\"automargin\": true, \"gridcolor\": \"white\", \"linecolor\": \"white\", \"ticks\": \"\", \"title\": {\"standoff\": 15}, \"zerolinecolor\": \"white\", \"zerolinewidth\": 2}}}, \"title\": {\"text\": \"Categories by % of Sales\"}},\n",
       "                        {\"responsive\": true}\n",
       "                    ).then(function(){\n",
       "                            \n",
       "var gd = document.getElementById('a93e596c-6552-45cf-ae24-0563026cfd97');\n",
       "var x = new MutationObserver(function (mutations, observer) {{\n",
       "        var display = window.getComputedStyle(gd).display;\n",
       "        if (!display || display === 'none') {{\n",
       "            console.log([gd, 'removed!']);\n",
       "            Plotly.purge(gd);\n",
       "            observer.disconnect();\n",
       "        }}\n",
       "}});\n",
       "\n",
       "// Listen for the removal of the full notebook cells\n",
       "var notebookContainer = gd.closest('#notebook-container');\n",
       "if (notebookContainer) {{\n",
       "    x.observe(notebookContainer, {childList: true});\n",
       "}}\n",
       "\n",
       "// Listen for the clearing of the current output cell\n",
       "var outputEl = gd.closest('.output');\n",
       "if (outputEl) {{\n",
       "    x.observe(outputEl, {childList: true});\n",
       "}}\n",
       "\n",
       "                        })\n",
       "                };\n",
       "                });\n",
       "            </script>\n",
       "        </div>"
      ]
     },
     "metadata": {},
     "output_type": "display_data"
    }
   ],
   "source": [
    "import plotly.graph_objects as go\n",
    "\n",
    "fig = go.Figure(data=[go.Pie(labels=cat_count.index, values=cat_count.values)])\n",
    "fig.update_layout(title='Categories by % of Sales')\n",
    "fig.show()"
   ]
  },
  {
   "cell_type": "code",
   "execution_count": 255,
   "metadata": {},
   "outputs": [
    {
     "data": {
      "application/vnd.plotly.v1+json": {
       "config": {
        "plotlyServerURL": "https://plot.ly"
       },
       "data": [
        {
         "labels": [
          "Fuel 1",
          "Soda and Juice",
          "Snacks and Grocery",
          "Fountain",
          "Cigarettes",
          "Tobacco Excise Tax",
          "Scratch Off Tickets",
          "Candy",
          "Coffee",
          "Other Tobacco",
          "Car Wash",
          "Beer",
          "Lotto",
          "Grocery High Tax",
          "Liquor"
         ],
         "parents": [
          "category",
          "category",
          "category",
          "category",
          "category",
          "category",
          "category",
          "category",
          "category",
          "category",
          "category",
          "category",
          "category",
          "category",
          "category"
         ],
         "type": "treemap",
         "values": [
          0.23943661971830985,
          0.15622305260132222,
          0.08910606496119575,
          0.08522563955159529,
          0.07818338603046852,
          0.07688991089393504,
          0.057631503305547574,
          0.05734406438631791,
          0.032049439494107504,
          0.02960620868065536,
          0.017821212992239148,
          0.016240298936475998,
          0.012934751365334866,
          0.012791031905720035,
          0.012503592986490371
         ]
        }
       ],
       "layout": {
        "template": {
         "data": {
          "bar": [
           {
            "error_x": {
             "color": "#2a3f5f"
            },
            "error_y": {
             "color": "#2a3f5f"
            },
            "marker": {
             "line": {
              "color": "#E5ECF6",
              "width": 0.5
             }
            },
            "type": "bar"
           }
          ],
          "barpolar": [
           {
            "marker": {
             "line": {
              "color": "#E5ECF6",
              "width": 0.5
             }
            },
            "type": "barpolar"
           }
          ],
          "carpet": [
           {
            "aaxis": {
             "endlinecolor": "#2a3f5f",
             "gridcolor": "white",
             "linecolor": "white",
             "minorgridcolor": "white",
             "startlinecolor": "#2a3f5f"
            },
            "baxis": {
             "endlinecolor": "#2a3f5f",
             "gridcolor": "white",
             "linecolor": "white",
             "minorgridcolor": "white",
             "startlinecolor": "#2a3f5f"
            },
            "type": "carpet"
           }
          ],
          "choropleth": [
           {
            "colorbar": {
             "outlinewidth": 0,
             "ticks": ""
            },
            "type": "choropleth"
           }
          ],
          "contour": [
           {
            "colorbar": {
             "outlinewidth": 0,
             "ticks": ""
            },
            "colorscale": [
             [
              0,
              "#0d0887"
             ],
             [
              0.1111111111111111,
              "#46039f"
             ],
             [
              0.2222222222222222,
              "#7201a8"
             ],
             [
              0.3333333333333333,
              "#9c179e"
             ],
             [
              0.4444444444444444,
              "#bd3786"
             ],
             [
              0.5555555555555556,
              "#d8576b"
             ],
             [
              0.6666666666666666,
              "#ed7953"
             ],
             [
              0.7777777777777778,
              "#fb9f3a"
             ],
             [
              0.8888888888888888,
              "#fdca26"
             ],
             [
              1,
              "#f0f921"
             ]
            ],
            "type": "contour"
           }
          ],
          "contourcarpet": [
           {
            "colorbar": {
             "outlinewidth": 0,
             "ticks": ""
            },
            "type": "contourcarpet"
           }
          ],
          "heatmap": [
           {
            "colorbar": {
             "outlinewidth": 0,
             "ticks": ""
            },
            "colorscale": [
             [
              0,
              "#0d0887"
             ],
             [
              0.1111111111111111,
              "#46039f"
             ],
             [
              0.2222222222222222,
              "#7201a8"
             ],
             [
              0.3333333333333333,
              "#9c179e"
             ],
             [
              0.4444444444444444,
              "#bd3786"
             ],
             [
              0.5555555555555556,
              "#d8576b"
             ],
             [
              0.6666666666666666,
              "#ed7953"
             ],
             [
              0.7777777777777778,
              "#fb9f3a"
             ],
             [
              0.8888888888888888,
              "#fdca26"
             ],
             [
              1,
              "#f0f921"
             ]
            ],
            "type": "heatmap"
           }
          ],
          "heatmapgl": [
           {
            "colorbar": {
             "outlinewidth": 0,
             "ticks": ""
            },
            "colorscale": [
             [
              0,
              "#0d0887"
             ],
             [
              0.1111111111111111,
              "#46039f"
             ],
             [
              0.2222222222222222,
              "#7201a8"
             ],
             [
              0.3333333333333333,
              "#9c179e"
             ],
             [
              0.4444444444444444,
              "#bd3786"
             ],
             [
              0.5555555555555556,
              "#d8576b"
             ],
             [
              0.6666666666666666,
              "#ed7953"
             ],
             [
              0.7777777777777778,
              "#fb9f3a"
             ],
             [
              0.8888888888888888,
              "#fdca26"
             ],
             [
              1,
              "#f0f921"
             ]
            ],
            "type": "heatmapgl"
           }
          ],
          "histogram": [
           {
            "marker": {
             "colorbar": {
              "outlinewidth": 0,
              "ticks": ""
             }
            },
            "type": "histogram"
           }
          ],
          "histogram2d": [
           {
            "colorbar": {
             "outlinewidth": 0,
             "ticks": ""
            },
            "colorscale": [
             [
              0,
              "#0d0887"
             ],
             [
              0.1111111111111111,
              "#46039f"
             ],
             [
              0.2222222222222222,
              "#7201a8"
             ],
             [
              0.3333333333333333,
              "#9c179e"
             ],
             [
              0.4444444444444444,
              "#bd3786"
             ],
             [
              0.5555555555555556,
              "#d8576b"
             ],
             [
              0.6666666666666666,
              "#ed7953"
             ],
             [
              0.7777777777777778,
              "#fb9f3a"
             ],
             [
              0.8888888888888888,
              "#fdca26"
             ],
             [
              1,
              "#f0f921"
             ]
            ],
            "type": "histogram2d"
           }
          ],
          "histogram2dcontour": [
           {
            "colorbar": {
             "outlinewidth": 0,
             "ticks": ""
            },
            "colorscale": [
             [
              0,
              "#0d0887"
             ],
             [
              0.1111111111111111,
              "#46039f"
             ],
             [
              0.2222222222222222,
              "#7201a8"
             ],
             [
              0.3333333333333333,
              "#9c179e"
             ],
             [
              0.4444444444444444,
              "#bd3786"
             ],
             [
              0.5555555555555556,
              "#d8576b"
             ],
             [
              0.6666666666666666,
              "#ed7953"
             ],
             [
              0.7777777777777778,
              "#fb9f3a"
             ],
             [
              0.8888888888888888,
              "#fdca26"
             ],
             [
              1,
              "#f0f921"
             ]
            ],
            "type": "histogram2dcontour"
           }
          ],
          "mesh3d": [
           {
            "colorbar": {
             "outlinewidth": 0,
             "ticks": ""
            },
            "type": "mesh3d"
           }
          ],
          "parcoords": [
           {
            "line": {
             "colorbar": {
              "outlinewidth": 0,
              "ticks": ""
             }
            },
            "type": "parcoords"
           }
          ],
          "pie": [
           {
            "automargin": true,
            "type": "pie"
           }
          ],
          "scatter": [
           {
            "marker": {
             "colorbar": {
              "outlinewidth": 0,
              "ticks": ""
             }
            },
            "type": "scatter"
           }
          ],
          "scatter3d": [
           {
            "line": {
             "colorbar": {
              "outlinewidth": 0,
              "ticks": ""
             }
            },
            "marker": {
             "colorbar": {
              "outlinewidth": 0,
              "ticks": ""
             }
            },
            "type": "scatter3d"
           }
          ],
          "scattercarpet": [
           {
            "marker": {
             "colorbar": {
              "outlinewidth": 0,
              "ticks": ""
             }
            },
            "type": "scattercarpet"
           }
          ],
          "scattergeo": [
           {
            "marker": {
             "colorbar": {
              "outlinewidth": 0,
              "ticks": ""
             }
            },
            "type": "scattergeo"
           }
          ],
          "scattergl": [
           {
            "marker": {
             "colorbar": {
              "outlinewidth": 0,
              "ticks": ""
             }
            },
            "type": "scattergl"
           }
          ],
          "scattermapbox": [
           {
            "marker": {
             "colorbar": {
              "outlinewidth": 0,
              "ticks": ""
             }
            },
            "type": "scattermapbox"
           }
          ],
          "scatterpolar": [
           {
            "marker": {
             "colorbar": {
              "outlinewidth": 0,
              "ticks": ""
             }
            },
            "type": "scatterpolar"
           }
          ],
          "scatterpolargl": [
           {
            "marker": {
             "colorbar": {
              "outlinewidth": 0,
              "ticks": ""
             }
            },
            "type": "scatterpolargl"
           }
          ],
          "scatterternary": [
           {
            "marker": {
             "colorbar": {
              "outlinewidth": 0,
              "ticks": ""
             }
            },
            "type": "scatterternary"
           }
          ],
          "surface": [
           {
            "colorbar": {
             "outlinewidth": 0,
             "ticks": ""
            },
            "colorscale": [
             [
              0,
              "#0d0887"
             ],
             [
              0.1111111111111111,
              "#46039f"
             ],
             [
              0.2222222222222222,
              "#7201a8"
             ],
             [
              0.3333333333333333,
              "#9c179e"
             ],
             [
              0.4444444444444444,
              "#bd3786"
             ],
             [
              0.5555555555555556,
              "#d8576b"
             ],
             [
              0.6666666666666666,
              "#ed7953"
             ],
             [
              0.7777777777777778,
              "#fb9f3a"
             ],
             [
              0.8888888888888888,
              "#fdca26"
             ],
             [
              1,
              "#f0f921"
             ]
            ],
            "type": "surface"
           }
          ],
          "table": [
           {
            "cells": {
             "fill": {
              "color": "#EBF0F8"
             },
             "line": {
              "color": "white"
             }
            },
            "header": {
             "fill": {
              "color": "#C8D4E3"
             },
             "line": {
              "color": "white"
             }
            },
            "type": "table"
           }
          ]
         },
         "layout": {
          "annotationdefaults": {
           "arrowcolor": "#2a3f5f",
           "arrowhead": 0,
           "arrowwidth": 1
          },
          "coloraxis": {
           "colorbar": {
            "outlinewidth": 0,
            "ticks": ""
           }
          },
          "colorscale": {
           "diverging": [
            [
             0,
             "#8e0152"
            ],
            [
             0.1,
             "#c51b7d"
            ],
            [
             0.2,
             "#de77ae"
            ],
            [
             0.3,
             "#f1b6da"
            ],
            [
             0.4,
             "#fde0ef"
            ],
            [
             0.5,
             "#f7f7f7"
            ],
            [
             0.6,
             "#e6f5d0"
            ],
            [
             0.7,
             "#b8e186"
            ],
            [
             0.8,
             "#7fbc41"
            ],
            [
             0.9,
             "#4d9221"
            ],
            [
             1,
             "#276419"
            ]
           ],
           "sequential": [
            [
             0,
             "#0d0887"
            ],
            [
             0.1111111111111111,
             "#46039f"
            ],
            [
             0.2222222222222222,
             "#7201a8"
            ],
            [
             0.3333333333333333,
             "#9c179e"
            ],
            [
             0.4444444444444444,
             "#bd3786"
            ],
            [
             0.5555555555555556,
             "#d8576b"
            ],
            [
             0.6666666666666666,
             "#ed7953"
            ],
            [
             0.7777777777777778,
             "#fb9f3a"
            ],
            [
             0.8888888888888888,
             "#fdca26"
            ],
            [
             1,
             "#f0f921"
            ]
           ],
           "sequentialminus": [
            [
             0,
             "#0d0887"
            ],
            [
             0.1111111111111111,
             "#46039f"
            ],
            [
             0.2222222222222222,
             "#7201a8"
            ],
            [
             0.3333333333333333,
             "#9c179e"
            ],
            [
             0.4444444444444444,
             "#bd3786"
            ],
            [
             0.5555555555555556,
             "#d8576b"
            ],
            [
             0.6666666666666666,
             "#ed7953"
            ],
            [
             0.7777777777777778,
             "#fb9f3a"
            ],
            [
             0.8888888888888888,
             "#fdca26"
            ],
            [
             1,
             "#f0f921"
            ]
           ]
          },
          "colorway": [
           "#636efa",
           "#EF553B",
           "#00cc96",
           "#ab63fa",
           "#FFA15A",
           "#19d3f3",
           "#FF6692",
           "#B6E880",
           "#FF97FF",
           "#FECB52"
          ],
          "font": {
           "color": "#2a3f5f"
          },
          "geo": {
           "bgcolor": "white",
           "lakecolor": "white",
           "landcolor": "#E5ECF6",
           "showlakes": true,
           "showland": true,
           "subunitcolor": "white"
          },
          "hoverlabel": {
           "align": "left"
          },
          "hovermode": "closest",
          "mapbox": {
           "style": "light"
          },
          "paper_bgcolor": "white",
          "plot_bgcolor": "#E5ECF6",
          "polar": {
           "angularaxis": {
            "gridcolor": "white",
            "linecolor": "white",
            "ticks": ""
           },
           "bgcolor": "#E5ECF6",
           "radialaxis": {
            "gridcolor": "white",
            "linecolor": "white",
            "ticks": ""
           }
          },
          "scene": {
           "xaxis": {
            "backgroundcolor": "#E5ECF6",
            "gridcolor": "white",
            "gridwidth": 2,
            "linecolor": "white",
            "showbackground": true,
            "ticks": "",
            "zerolinecolor": "white"
           },
           "yaxis": {
            "backgroundcolor": "#E5ECF6",
            "gridcolor": "white",
            "gridwidth": 2,
            "linecolor": "white",
            "showbackground": true,
            "ticks": "",
            "zerolinecolor": "white"
           },
           "zaxis": {
            "backgroundcolor": "#E5ECF6",
            "gridcolor": "white",
            "gridwidth": 2,
            "linecolor": "white",
            "showbackground": true,
            "ticks": "",
            "zerolinecolor": "white"
           }
          },
          "shapedefaults": {
           "line": {
            "color": "#2a3f5f"
           }
          },
          "ternary": {
           "aaxis": {
            "gridcolor": "white",
            "linecolor": "white",
            "ticks": ""
           },
           "baxis": {
            "gridcolor": "white",
            "linecolor": "white",
            "ticks": ""
           },
           "bgcolor": "#E5ECF6",
           "caxis": {
            "gridcolor": "white",
            "linecolor": "white",
            "ticks": ""
           }
          },
          "title": {
           "x": 0.05
          },
          "xaxis": {
           "automargin": true,
           "gridcolor": "white",
           "linecolor": "white",
           "ticks": "",
           "title": {
            "standoff": 15
           },
           "zerolinecolor": "white",
           "zerolinewidth": 2
          },
          "yaxis": {
           "automargin": true,
           "gridcolor": "white",
           "linecolor": "white",
           "ticks": "",
           "title": {
            "standoff": 15
           },
           "zerolinecolor": "white",
           "zerolinewidth": 2
          }
         }
        },
        "title": {
         "text": "Categories by % of Sales"
        }
       }
      },
      "text/html": [
       "<div>\n",
       "        \n",
       "        \n",
       "            <div id=\"5c5e2b74-c90a-469b-8de9-3bac590876e5\" class=\"plotly-graph-div\" style=\"height:525px; width:100%;\"></div>\n",
       "            <script type=\"text/javascript\">\n",
       "                require([\"plotly\"], function(Plotly) {\n",
       "                    window.PLOTLYENV=window.PLOTLYENV || {};\n",
       "                    \n",
       "                if (document.getElementById(\"5c5e2b74-c90a-469b-8de9-3bac590876e5\")) {\n",
       "                    Plotly.newPlot(\n",
       "                        '5c5e2b74-c90a-469b-8de9-3bac590876e5',\n",
       "                        [{\"labels\": [\"Fuel 1\", \"Soda and Juice\", \"Snacks and Grocery\", \"Fountain\", \"Cigarettes\", \"Tobacco Excise Tax\", \"Scratch Off Tickets\", \"Candy\", \"Coffee\", \"Other Tobacco\", \"Car Wash\", \"Beer\", \"Lotto\", \"Grocery High Tax\", \"Liquor\"], \"parents\": [\"category\", \"category\", \"category\", \"category\", \"category\", \"category\", \"category\", \"category\", \"category\", \"category\", \"category\", \"category\", \"category\", \"category\", \"category\"], \"type\": \"treemap\", \"values\": [0.23943661971830985, 0.15622305260132222, 0.08910606496119575, 0.08522563955159529, 0.07818338603046852, 0.07688991089393504, 0.057631503305547574, 0.05734406438631791, 0.032049439494107504, 0.02960620868065536, 0.017821212992239148, 0.016240298936475998, 0.012934751365334866, 0.012791031905720035, 0.012503592986490371]}],\n",
       "                        {\"template\": {\"data\": {\"bar\": [{\"error_x\": {\"color\": \"#2a3f5f\"}, \"error_y\": {\"color\": \"#2a3f5f\"}, \"marker\": {\"line\": {\"color\": \"#E5ECF6\", \"width\": 0.5}}, \"type\": \"bar\"}], \"barpolar\": [{\"marker\": {\"line\": {\"color\": \"#E5ECF6\", \"width\": 0.5}}, \"type\": \"barpolar\"}], \"carpet\": [{\"aaxis\": {\"endlinecolor\": \"#2a3f5f\", \"gridcolor\": \"white\", \"linecolor\": \"white\", \"minorgridcolor\": \"white\", \"startlinecolor\": \"#2a3f5f\"}, \"baxis\": {\"endlinecolor\": \"#2a3f5f\", \"gridcolor\": \"white\", \"linecolor\": \"white\", \"minorgridcolor\": \"white\", \"startlinecolor\": \"#2a3f5f\"}, \"type\": \"carpet\"}], \"choropleth\": [{\"colorbar\": {\"outlinewidth\": 0, \"ticks\": \"\"}, \"type\": \"choropleth\"}], \"contour\": [{\"colorbar\": {\"outlinewidth\": 0, \"ticks\": \"\"}, \"colorscale\": [[0.0, \"#0d0887\"], [0.1111111111111111, \"#46039f\"], [0.2222222222222222, \"#7201a8\"], [0.3333333333333333, \"#9c179e\"], [0.4444444444444444, \"#bd3786\"], [0.5555555555555556, \"#d8576b\"], [0.6666666666666666, \"#ed7953\"], [0.7777777777777778, \"#fb9f3a\"], [0.8888888888888888, \"#fdca26\"], [1.0, \"#f0f921\"]], \"type\": \"contour\"}], \"contourcarpet\": [{\"colorbar\": {\"outlinewidth\": 0, \"ticks\": \"\"}, \"type\": \"contourcarpet\"}], \"heatmap\": [{\"colorbar\": {\"outlinewidth\": 0, \"ticks\": \"\"}, \"colorscale\": [[0.0, \"#0d0887\"], [0.1111111111111111, \"#46039f\"], [0.2222222222222222, \"#7201a8\"], [0.3333333333333333, \"#9c179e\"], [0.4444444444444444, \"#bd3786\"], [0.5555555555555556, \"#d8576b\"], [0.6666666666666666, \"#ed7953\"], [0.7777777777777778, \"#fb9f3a\"], [0.8888888888888888, \"#fdca26\"], [1.0, \"#f0f921\"]], \"type\": \"heatmap\"}], \"heatmapgl\": [{\"colorbar\": {\"outlinewidth\": 0, \"ticks\": \"\"}, \"colorscale\": [[0.0, \"#0d0887\"], [0.1111111111111111, \"#46039f\"], [0.2222222222222222, \"#7201a8\"], [0.3333333333333333, \"#9c179e\"], [0.4444444444444444, \"#bd3786\"], [0.5555555555555556, \"#d8576b\"], [0.6666666666666666, \"#ed7953\"], [0.7777777777777778, \"#fb9f3a\"], [0.8888888888888888, \"#fdca26\"], [1.0, \"#f0f921\"]], \"type\": \"heatmapgl\"}], \"histogram\": [{\"marker\": {\"colorbar\": {\"outlinewidth\": 0, \"ticks\": \"\"}}, \"type\": \"histogram\"}], \"histogram2d\": [{\"colorbar\": {\"outlinewidth\": 0, \"ticks\": \"\"}, \"colorscale\": [[0.0, \"#0d0887\"], [0.1111111111111111, \"#46039f\"], [0.2222222222222222, \"#7201a8\"], [0.3333333333333333, \"#9c179e\"], [0.4444444444444444, \"#bd3786\"], [0.5555555555555556, \"#d8576b\"], [0.6666666666666666, \"#ed7953\"], [0.7777777777777778, \"#fb9f3a\"], [0.8888888888888888, \"#fdca26\"], [1.0, \"#f0f921\"]], \"type\": \"histogram2d\"}], \"histogram2dcontour\": [{\"colorbar\": {\"outlinewidth\": 0, \"ticks\": \"\"}, \"colorscale\": [[0.0, \"#0d0887\"], [0.1111111111111111, \"#46039f\"], [0.2222222222222222, \"#7201a8\"], [0.3333333333333333, \"#9c179e\"], [0.4444444444444444, \"#bd3786\"], [0.5555555555555556, \"#d8576b\"], [0.6666666666666666, \"#ed7953\"], [0.7777777777777778, \"#fb9f3a\"], [0.8888888888888888, \"#fdca26\"], [1.0, \"#f0f921\"]], \"type\": \"histogram2dcontour\"}], \"mesh3d\": [{\"colorbar\": {\"outlinewidth\": 0, \"ticks\": \"\"}, \"type\": \"mesh3d\"}], \"parcoords\": [{\"line\": {\"colorbar\": {\"outlinewidth\": 0, \"ticks\": \"\"}}, \"type\": \"parcoords\"}], \"pie\": [{\"automargin\": true, \"type\": \"pie\"}], \"scatter\": [{\"marker\": {\"colorbar\": {\"outlinewidth\": 0, \"ticks\": \"\"}}, \"type\": \"scatter\"}], \"scatter3d\": [{\"line\": {\"colorbar\": {\"outlinewidth\": 0, \"ticks\": \"\"}}, \"marker\": {\"colorbar\": {\"outlinewidth\": 0, \"ticks\": \"\"}}, \"type\": \"scatter3d\"}], \"scattercarpet\": [{\"marker\": {\"colorbar\": {\"outlinewidth\": 0, \"ticks\": \"\"}}, \"type\": \"scattercarpet\"}], \"scattergeo\": [{\"marker\": {\"colorbar\": {\"outlinewidth\": 0, \"ticks\": \"\"}}, \"type\": \"scattergeo\"}], \"scattergl\": [{\"marker\": {\"colorbar\": {\"outlinewidth\": 0, \"ticks\": \"\"}}, \"type\": \"scattergl\"}], \"scattermapbox\": [{\"marker\": {\"colorbar\": {\"outlinewidth\": 0, \"ticks\": \"\"}}, \"type\": \"scattermapbox\"}], \"scatterpolar\": [{\"marker\": {\"colorbar\": {\"outlinewidth\": 0, \"ticks\": \"\"}}, \"type\": \"scatterpolar\"}], \"scatterpolargl\": [{\"marker\": {\"colorbar\": {\"outlinewidth\": 0, \"ticks\": \"\"}}, \"type\": \"scatterpolargl\"}], \"scatterternary\": [{\"marker\": {\"colorbar\": {\"outlinewidth\": 0, \"ticks\": \"\"}}, \"type\": \"scatterternary\"}], \"surface\": [{\"colorbar\": {\"outlinewidth\": 0, \"ticks\": \"\"}, \"colorscale\": [[0.0, \"#0d0887\"], [0.1111111111111111, \"#46039f\"], [0.2222222222222222, \"#7201a8\"], [0.3333333333333333, \"#9c179e\"], [0.4444444444444444, \"#bd3786\"], [0.5555555555555556, \"#d8576b\"], [0.6666666666666666, \"#ed7953\"], [0.7777777777777778, \"#fb9f3a\"], [0.8888888888888888, \"#fdca26\"], [1.0, \"#f0f921\"]], \"type\": \"surface\"}], \"table\": [{\"cells\": {\"fill\": {\"color\": \"#EBF0F8\"}, \"line\": {\"color\": \"white\"}}, \"header\": {\"fill\": {\"color\": \"#C8D4E3\"}, \"line\": {\"color\": \"white\"}}, \"type\": \"table\"}]}, \"layout\": {\"annotationdefaults\": {\"arrowcolor\": \"#2a3f5f\", \"arrowhead\": 0, \"arrowwidth\": 1}, \"coloraxis\": {\"colorbar\": {\"outlinewidth\": 0, \"ticks\": \"\"}}, \"colorscale\": {\"diverging\": [[0, \"#8e0152\"], [0.1, \"#c51b7d\"], [0.2, \"#de77ae\"], [0.3, \"#f1b6da\"], [0.4, \"#fde0ef\"], [0.5, \"#f7f7f7\"], [0.6, \"#e6f5d0\"], [0.7, \"#b8e186\"], [0.8, \"#7fbc41\"], [0.9, \"#4d9221\"], [1, \"#276419\"]], \"sequential\": [[0.0, \"#0d0887\"], [0.1111111111111111, \"#46039f\"], [0.2222222222222222, \"#7201a8\"], [0.3333333333333333, \"#9c179e\"], [0.4444444444444444, \"#bd3786\"], [0.5555555555555556, \"#d8576b\"], [0.6666666666666666, \"#ed7953\"], [0.7777777777777778, \"#fb9f3a\"], [0.8888888888888888, \"#fdca26\"], [1.0, \"#f0f921\"]], \"sequentialminus\": [[0.0, \"#0d0887\"], [0.1111111111111111, \"#46039f\"], [0.2222222222222222, \"#7201a8\"], [0.3333333333333333, \"#9c179e\"], [0.4444444444444444, \"#bd3786\"], [0.5555555555555556, \"#d8576b\"], [0.6666666666666666, \"#ed7953\"], [0.7777777777777778, \"#fb9f3a\"], [0.8888888888888888, \"#fdca26\"], [1.0, \"#f0f921\"]]}, \"colorway\": [\"#636efa\", \"#EF553B\", \"#00cc96\", \"#ab63fa\", \"#FFA15A\", \"#19d3f3\", \"#FF6692\", \"#B6E880\", \"#FF97FF\", \"#FECB52\"], \"font\": {\"color\": \"#2a3f5f\"}, \"geo\": {\"bgcolor\": \"white\", \"lakecolor\": \"white\", \"landcolor\": \"#E5ECF6\", \"showlakes\": true, \"showland\": true, \"subunitcolor\": \"white\"}, \"hoverlabel\": {\"align\": \"left\"}, \"hovermode\": \"closest\", \"mapbox\": {\"style\": \"light\"}, \"paper_bgcolor\": \"white\", \"plot_bgcolor\": \"#E5ECF6\", \"polar\": {\"angularaxis\": {\"gridcolor\": \"white\", \"linecolor\": \"white\", \"ticks\": \"\"}, \"bgcolor\": \"#E5ECF6\", \"radialaxis\": {\"gridcolor\": \"white\", \"linecolor\": \"white\", \"ticks\": \"\"}}, \"scene\": {\"xaxis\": {\"backgroundcolor\": \"#E5ECF6\", \"gridcolor\": \"white\", \"gridwidth\": 2, \"linecolor\": \"white\", \"showbackground\": true, \"ticks\": \"\", \"zerolinecolor\": \"white\"}, \"yaxis\": {\"backgroundcolor\": \"#E5ECF6\", \"gridcolor\": \"white\", \"gridwidth\": 2, \"linecolor\": \"white\", \"showbackground\": true, \"ticks\": \"\", \"zerolinecolor\": \"white\"}, \"zaxis\": {\"backgroundcolor\": \"#E5ECF6\", \"gridcolor\": \"white\", \"gridwidth\": 2, \"linecolor\": \"white\", \"showbackground\": true, \"ticks\": \"\", \"zerolinecolor\": \"white\"}}, \"shapedefaults\": {\"line\": {\"color\": \"#2a3f5f\"}}, \"ternary\": {\"aaxis\": {\"gridcolor\": \"white\", \"linecolor\": \"white\", \"ticks\": \"\"}, \"baxis\": {\"gridcolor\": \"white\", \"linecolor\": \"white\", \"ticks\": \"\"}, \"bgcolor\": \"#E5ECF6\", \"caxis\": {\"gridcolor\": \"white\", \"linecolor\": \"white\", \"ticks\": \"\"}}, \"title\": {\"x\": 0.05}, \"xaxis\": {\"automargin\": true, \"gridcolor\": \"white\", \"linecolor\": \"white\", \"ticks\": \"\", \"title\": {\"standoff\": 15}, \"zerolinecolor\": \"white\", \"zerolinewidth\": 2}, \"yaxis\": {\"automargin\": true, \"gridcolor\": \"white\", \"linecolor\": \"white\", \"ticks\": \"\", \"title\": {\"standoff\": 15}, \"zerolinecolor\": \"white\", \"zerolinewidth\": 2}}}, \"title\": {\"text\": \"Categories by % of Sales\"}},\n",
       "                        {\"responsive\": true}\n",
       "                    ).then(function(){\n",
       "                            \n",
       "var gd = document.getElementById('5c5e2b74-c90a-469b-8de9-3bac590876e5');\n",
       "var x = new MutationObserver(function (mutations, observer) {{\n",
       "        var display = window.getComputedStyle(gd).display;\n",
       "        if (!display || display === 'none') {{\n",
       "            console.log([gd, 'removed!']);\n",
       "            Plotly.purge(gd);\n",
       "            observer.disconnect();\n",
       "        }}\n",
       "}});\n",
       "\n",
       "// Listen for the removal of the full notebook cells\n",
       "var notebookContainer = gd.closest('#notebook-container');\n",
       "if (notebookContainer) {{\n",
       "    x.observe(notebookContainer, {childList: true});\n",
       "}}\n",
       "\n",
       "// Listen for the clearing of the current output cell\n",
       "var outputEl = gd.closest('.output');\n",
       "if (outputEl) {{\n",
       "    x.observe(outputEl, {childList: true});\n",
       "}}\n",
       "\n",
       "                        })\n",
       "                };\n",
       "                });\n",
       "            </script>\n",
       "        </div>"
      ]
     },
     "metadata": {},
     "output_type": "display_data"
    }
   ],
   "source": [
    "labels = cat_count.index \n",
    "values = cat_count.values\n",
    "parents = [\"category\" for i in labels]\n",
    "\n",
    "fig = go.Figure(go.Treemap(\n",
    "    labels = labels,\n",
    "    values = values,\n",
    "    parents = parents))\n",
    "\n",
    "fig.update_layout(title='Categories by % of Sales')\n",
    "fig.show()"
   ]
  },
  {
   "cell_type": "code",
   "execution_count": 256,
   "metadata": {},
   "outputs": [
    {
     "data": {
      "application/vnd.plotly.v1+json": {
       "config": {
        "plotlyServerURL": "https://plot.ly"
       },
       "data": [
        {
         "type": "bar",
         "x": [
          "Fuel 1",
          "Soda and Juice",
          "Snacks and Grocery",
          "Fountain",
          "Cigarettes",
          "Tobacco Excise Tax",
          "Scratch Off Tickets",
          "Candy",
          "Coffee",
          "Other Tobacco",
          "Car Wash",
          "Beer",
          "Lotto",
          "Grocery High Tax",
          "Liquor"
         ],
         "y": [
          0.23943661971830985,
          0.15622305260132222,
          0.08910606496119575,
          0.08522563955159529,
          0.07818338603046852,
          0.07688991089393504,
          0.057631503305547574,
          0.05734406438631791,
          0.032049439494107504,
          0.02960620868065536,
          0.017821212992239148,
          0.016240298936475998,
          0.012934751365334866,
          0.012791031905720035,
          0.012503592986490371
         ]
        }
       ],
       "layout": {
        "template": {
         "data": {
          "bar": [
           {
            "error_x": {
             "color": "#2a3f5f"
            },
            "error_y": {
             "color": "#2a3f5f"
            },
            "marker": {
             "line": {
              "color": "#E5ECF6",
              "width": 0.5
             }
            },
            "type": "bar"
           }
          ],
          "barpolar": [
           {
            "marker": {
             "line": {
              "color": "#E5ECF6",
              "width": 0.5
             }
            },
            "type": "barpolar"
           }
          ],
          "carpet": [
           {
            "aaxis": {
             "endlinecolor": "#2a3f5f",
             "gridcolor": "white",
             "linecolor": "white",
             "minorgridcolor": "white",
             "startlinecolor": "#2a3f5f"
            },
            "baxis": {
             "endlinecolor": "#2a3f5f",
             "gridcolor": "white",
             "linecolor": "white",
             "minorgridcolor": "white",
             "startlinecolor": "#2a3f5f"
            },
            "type": "carpet"
           }
          ],
          "choropleth": [
           {
            "colorbar": {
             "outlinewidth": 0,
             "ticks": ""
            },
            "type": "choropleth"
           }
          ],
          "contour": [
           {
            "colorbar": {
             "outlinewidth": 0,
             "ticks": ""
            },
            "colorscale": [
             [
              0,
              "#0d0887"
             ],
             [
              0.1111111111111111,
              "#46039f"
             ],
             [
              0.2222222222222222,
              "#7201a8"
             ],
             [
              0.3333333333333333,
              "#9c179e"
             ],
             [
              0.4444444444444444,
              "#bd3786"
             ],
             [
              0.5555555555555556,
              "#d8576b"
             ],
             [
              0.6666666666666666,
              "#ed7953"
             ],
             [
              0.7777777777777778,
              "#fb9f3a"
             ],
             [
              0.8888888888888888,
              "#fdca26"
             ],
             [
              1,
              "#f0f921"
             ]
            ],
            "type": "contour"
           }
          ],
          "contourcarpet": [
           {
            "colorbar": {
             "outlinewidth": 0,
             "ticks": ""
            },
            "type": "contourcarpet"
           }
          ],
          "heatmap": [
           {
            "colorbar": {
             "outlinewidth": 0,
             "ticks": ""
            },
            "colorscale": [
             [
              0,
              "#0d0887"
             ],
             [
              0.1111111111111111,
              "#46039f"
             ],
             [
              0.2222222222222222,
              "#7201a8"
             ],
             [
              0.3333333333333333,
              "#9c179e"
             ],
             [
              0.4444444444444444,
              "#bd3786"
             ],
             [
              0.5555555555555556,
              "#d8576b"
             ],
             [
              0.6666666666666666,
              "#ed7953"
             ],
             [
              0.7777777777777778,
              "#fb9f3a"
             ],
             [
              0.8888888888888888,
              "#fdca26"
             ],
             [
              1,
              "#f0f921"
             ]
            ],
            "type": "heatmap"
           }
          ],
          "heatmapgl": [
           {
            "colorbar": {
             "outlinewidth": 0,
             "ticks": ""
            },
            "colorscale": [
             [
              0,
              "#0d0887"
             ],
             [
              0.1111111111111111,
              "#46039f"
             ],
             [
              0.2222222222222222,
              "#7201a8"
             ],
             [
              0.3333333333333333,
              "#9c179e"
             ],
             [
              0.4444444444444444,
              "#bd3786"
             ],
             [
              0.5555555555555556,
              "#d8576b"
             ],
             [
              0.6666666666666666,
              "#ed7953"
             ],
             [
              0.7777777777777778,
              "#fb9f3a"
             ],
             [
              0.8888888888888888,
              "#fdca26"
             ],
             [
              1,
              "#f0f921"
             ]
            ],
            "type": "heatmapgl"
           }
          ],
          "histogram": [
           {
            "marker": {
             "colorbar": {
              "outlinewidth": 0,
              "ticks": ""
             }
            },
            "type": "histogram"
           }
          ],
          "histogram2d": [
           {
            "colorbar": {
             "outlinewidth": 0,
             "ticks": ""
            },
            "colorscale": [
             [
              0,
              "#0d0887"
             ],
             [
              0.1111111111111111,
              "#46039f"
             ],
             [
              0.2222222222222222,
              "#7201a8"
             ],
             [
              0.3333333333333333,
              "#9c179e"
             ],
             [
              0.4444444444444444,
              "#bd3786"
             ],
             [
              0.5555555555555556,
              "#d8576b"
             ],
             [
              0.6666666666666666,
              "#ed7953"
             ],
             [
              0.7777777777777778,
              "#fb9f3a"
             ],
             [
              0.8888888888888888,
              "#fdca26"
             ],
             [
              1,
              "#f0f921"
             ]
            ],
            "type": "histogram2d"
           }
          ],
          "histogram2dcontour": [
           {
            "colorbar": {
             "outlinewidth": 0,
             "ticks": ""
            },
            "colorscale": [
             [
              0,
              "#0d0887"
             ],
             [
              0.1111111111111111,
              "#46039f"
             ],
             [
              0.2222222222222222,
              "#7201a8"
             ],
             [
              0.3333333333333333,
              "#9c179e"
             ],
             [
              0.4444444444444444,
              "#bd3786"
             ],
             [
              0.5555555555555556,
              "#d8576b"
             ],
             [
              0.6666666666666666,
              "#ed7953"
             ],
             [
              0.7777777777777778,
              "#fb9f3a"
             ],
             [
              0.8888888888888888,
              "#fdca26"
             ],
             [
              1,
              "#f0f921"
             ]
            ],
            "type": "histogram2dcontour"
           }
          ],
          "mesh3d": [
           {
            "colorbar": {
             "outlinewidth": 0,
             "ticks": ""
            },
            "type": "mesh3d"
           }
          ],
          "parcoords": [
           {
            "line": {
             "colorbar": {
              "outlinewidth": 0,
              "ticks": ""
             }
            },
            "type": "parcoords"
           }
          ],
          "pie": [
           {
            "automargin": true,
            "type": "pie"
           }
          ],
          "scatter": [
           {
            "marker": {
             "colorbar": {
              "outlinewidth": 0,
              "ticks": ""
             }
            },
            "type": "scatter"
           }
          ],
          "scatter3d": [
           {
            "line": {
             "colorbar": {
              "outlinewidth": 0,
              "ticks": ""
             }
            },
            "marker": {
             "colorbar": {
              "outlinewidth": 0,
              "ticks": ""
             }
            },
            "type": "scatter3d"
           }
          ],
          "scattercarpet": [
           {
            "marker": {
             "colorbar": {
              "outlinewidth": 0,
              "ticks": ""
             }
            },
            "type": "scattercarpet"
           }
          ],
          "scattergeo": [
           {
            "marker": {
             "colorbar": {
              "outlinewidth": 0,
              "ticks": ""
             }
            },
            "type": "scattergeo"
           }
          ],
          "scattergl": [
           {
            "marker": {
             "colorbar": {
              "outlinewidth": 0,
              "ticks": ""
             }
            },
            "type": "scattergl"
           }
          ],
          "scattermapbox": [
           {
            "marker": {
             "colorbar": {
              "outlinewidth": 0,
              "ticks": ""
             }
            },
            "type": "scattermapbox"
           }
          ],
          "scatterpolar": [
           {
            "marker": {
             "colorbar": {
              "outlinewidth": 0,
              "ticks": ""
             }
            },
            "type": "scatterpolar"
           }
          ],
          "scatterpolargl": [
           {
            "marker": {
             "colorbar": {
              "outlinewidth": 0,
              "ticks": ""
             }
            },
            "type": "scatterpolargl"
           }
          ],
          "scatterternary": [
           {
            "marker": {
             "colorbar": {
              "outlinewidth": 0,
              "ticks": ""
             }
            },
            "type": "scatterternary"
           }
          ],
          "surface": [
           {
            "colorbar": {
             "outlinewidth": 0,
             "ticks": ""
            },
            "colorscale": [
             [
              0,
              "#0d0887"
             ],
             [
              0.1111111111111111,
              "#46039f"
             ],
             [
              0.2222222222222222,
              "#7201a8"
             ],
             [
              0.3333333333333333,
              "#9c179e"
             ],
             [
              0.4444444444444444,
              "#bd3786"
             ],
             [
              0.5555555555555556,
              "#d8576b"
             ],
             [
              0.6666666666666666,
              "#ed7953"
             ],
             [
              0.7777777777777778,
              "#fb9f3a"
             ],
             [
              0.8888888888888888,
              "#fdca26"
             ],
             [
              1,
              "#f0f921"
             ]
            ],
            "type": "surface"
           }
          ],
          "table": [
           {
            "cells": {
             "fill": {
              "color": "#EBF0F8"
             },
             "line": {
              "color": "white"
             }
            },
            "header": {
             "fill": {
              "color": "#C8D4E3"
             },
             "line": {
              "color": "white"
             }
            },
            "type": "table"
           }
          ]
         },
         "layout": {
          "annotationdefaults": {
           "arrowcolor": "#2a3f5f",
           "arrowhead": 0,
           "arrowwidth": 1
          },
          "coloraxis": {
           "colorbar": {
            "outlinewidth": 0,
            "ticks": ""
           }
          },
          "colorscale": {
           "diverging": [
            [
             0,
             "#8e0152"
            ],
            [
             0.1,
             "#c51b7d"
            ],
            [
             0.2,
             "#de77ae"
            ],
            [
             0.3,
             "#f1b6da"
            ],
            [
             0.4,
             "#fde0ef"
            ],
            [
             0.5,
             "#f7f7f7"
            ],
            [
             0.6,
             "#e6f5d0"
            ],
            [
             0.7,
             "#b8e186"
            ],
            [
             0.8,
             "#7fbc41"
            ],
            [
             0.9,
             "#4d9221"
            ],
            [
             1,
             "#276419"
            ]
           ],
           "sequential": [
            [
             0,
             "#0d0887"
            ],
            [
             0.1111111111111111,
             "#46039f"
            ],
            [
             0.2222222222222222,
             "#7201a8"
            ],
            [
             0.3333333333333333,
             "#9c179e"
            ],
            [
             0.4444444444444444,
             "#bd3786"
            ],
            [
             0.5555555555555556,
             "#d8576b"
            ],
            [
             0.6666666666666666,
             "#ed7953"
            ],
            [
             0.7777777777777778,
             "#fb9f3a"
            ],
            [
             0.8888888888888888,
             "#fdca26"
            ],
            [
             1,
             "#f0f921"
            ]
           ],
           "sequentialminus": [
            [
             0,
             "#0d0887"
            ],
            [
             0.1111111111111111,
             "#46039f"
            ],
            [
             0.2222222222222222,
             "#7201a8"
            ],
            [
             0.3333333333333333,
             "#9c179e"
            ],
            [
             0.4444444444444444,
             "#bd3786"
            ],
            [
             0.5555555555555556,
             "#d8576b"
            ],
            [
             0.6666666666666666,
             "#ed7953"
            ],
            [
             0.7777777777777778,
             "#fb9f3a"
            ],
            [
             0.8888888888888888,
             "#fdca26"
            ],
            [
             1,
             "#f0f921"
            ]
           ]
          },
          "colorway": [
           "#636efa",
           "#EF553B",
           "#00cc96",
           "#ab63fa",
           "#FFA15A",
           "#19d3f3",
           "#FF6692",
           "#B6E880",
           "#FF97FF",
           "#FECB52"
          ],
          "font": {
           "color": "#2a3f5f"
          },
          "geo": {
           "bgcolor": "white",
           "lakecolor": "white",
           "landcolor": "#E5ECF6",
           "showlakes": true,
           "showland": true,
           "subunitcolor": "white"
          },
          "hoverlabel": {
           "align": "left"
          },
          "hovermode": "closest",
          "mapbox": {
           "style": "light"
          },
          "paper_bgcolor": "white",
          "plot_bgcolor": "#E5ECF6",
          "polar": {
           "angularaxis": {
            "gridcolor": "white",
            "linecolor": "white",
            "ticks": ""
           },
           "bgcolor": "#E5ECF6",
           "radialaxis": {
            "gridcolor": "white",
            "linecolor": "white",
            "ticks": ""
           }
          },
          "scene": {
           "xaxis": {
            "backgroundcolor": "#E5ECF6",
            "gridcolor": "white",
            "gridwidth": 2,
            "linecolor": "white",
            "showbackground": true,
            "ticks": "",
            "zerolinecolor": "white"
           },
           "yaxis": {
            "backgroundcolor": "#E5ECF6",
            "gridcolor": "white",
            "gridwidth": 2,
            "linecolor": "white",
            "showbackground": true,
            "ticks": "",
            "zerolinecolor": "white"
           },
           "zaxis": {
            "backgroundcolor": "#E5ECF6",
            "gridcolor": "white",
            "gridwidth": 2,
            "linecolor": "white",
            "showbackground": true,
            "ticks": "",
            "zerolinecolor": "white"
           }
          },
          "shapedefaults": {
           "line": {
            "color": "#2a3f5f"
           }
          },
          "ternary": {
           "aaxis": {
            "gridcolor": "white",
            "linecolor": "white",
            "ticks": ""
           },
           "baxis": {
            "gridcolor": "white",
            "linecolor": "white",
            "ticks": ""
           },
           "bgcolor": "#E5ECF6",
           "caxis": {
            "gridcolor": "white",
            "linecolor": "white",
            "ticks": ""
           }
          },
          "title": {
           "x": 0.05
          },
          "xaxis": {
           "automargin": true,
           "gridcolor": "white",
           "linecolor": "white",
           "ticks": "",
           "title": {
            "standoff": 15
           },
           "zerolinecolor": "white",
           "zerolinewidth": 2
          },
          "yaxis": {
           "automargin": true,
           "gridcolor": "white",
           "linecolor": "white",
           "ticks": "",
           "title": {
            "standoff": 15
           },
           "zerolinecolor": "white",
           "zerolinewidth": 2
          }
         }
        },
        "title": {
         "text": "Categories by % of Sales (Support)"
        }
       }
      },
      "text/html": [
       "<div>\n",
       "        \n",
       "        \n",
       "            <div id=\"35468274-b48d-4969-9c0d-f2cd47d9d206\" class=\"plotly-graph-div\" style=\"height:525px; width:100%;\"></div>\n",
       "            <script type=\"text/javascript\">\n",
       "                require([\"plotly\"], function(Plotly) {\n",
       "                    window.PLOTLYENV=window.PLOTLYENV || {};\n",
       "                    \n",
       "                if (document.getElementById(\"35468274-b48d-4969-9c0d-f2cd47d9d206\")) {\n",
       "                    Plotly.newPlot(\n",
       "                        '35468274-b48d-4969-9c0d-f2cd47d9d206',\n",
       "                        [{\"type\": \"bar\", \"x\": [\"Fuel 1\", \"Soda and Juice\", \"Snacks and Grocery\", \"Fountain\", \"Cigarettes\", \"Tobacco Excise Tax\", \"Scratch Off Tickets\", \"Candy\", \"Coffee\", \"Other Tobacco\", \"Car Wash\", \"Beer\", \"Lotto\", \"Grocery High Tax\", \"Liquor\"], \"y\": [0.23943661971830985, 0.15622305260132222, 0.08910606496119575, 0.08522563955159529, 0.07818338603046852, 0.07688991089393504, 0.057631503305547574, 0.05734406438631791, 0.032049439494107504, 0.02960620868065536, 0.017821212992239148, 0.016240298936475998, 0.012934751365334866, 0.012791031905720035, 0.012503592986490371]}],\n",
       "                        {\"template\": {\"data\": {\"bar\": [{\"error_x\": {\"color\": \"#2a3f5f\"}, \"error_y\": {\"color\": \"#2a3f5f\"}, \"marker\": {\"line\": {\"color\": \"#E5ECF6\", \"width\": 0.5}}, \"type\": \"bar\"}], \"barpolar\": [{\"marker\": {\"line\": {\"color\": \"#E5ECF6\", \"width\": 0.5}}, \"type\": \"barpolar\"}], \"carpet\": [{\"aaxis\": {\"endlinecolor\": \"#2a3f5f\", \"gridcolor\": \"white\", \"linecolor\": \"white\", \"minorgridcolor\": \"white\", \"startlinecolor\": \"#2a3f5f\"}, \"baxis\": {\"endlinecolor\": \"#2a3f5f\", \"gridcolor\": \"white\", \"linecolor\": \"white\", \"minorgridcolor\": \"white\", \"startlinecolor\": \"#2a3f5f\"}, \"type\": \"carpet\"}], \"choropleth\": [{\"colorbar\": {\"outlinewidth\": 0, \"ticks\": \"\"}, \"type\": \"choropleth\"}], \"contour\": [{\"colorbar\": {\"outlinewidth\": 0, \"ticks\": \"\"}, \"colorscale\": [[0.0, \"#0d0887\"], [0.1111111111111111, \"#46039f\"], [0.2222222222222222, \"#7201a8\"], [0.3333333333333333, \"#9c179e\"], [0.4444444444444444, \"#bd3786\"], [0.5555555555555556, \"#d8576b\"], [0.6666666666666666, \"#ed7953\"], [0.7777777777777778, \"#fb9f3a\"], [0.8888888888888888, \"#fdca26\"], [1.0, \"#f0f921\"]], \"type\": \"contour\"}], \"contourcarpet\": [{\"colorbar\": {\"outlinewidth\": 0, \"ticks\": \"\"}, \"type\": \"contourcarpet\"}], \"heatmap\": [{\"colorbar\": {\"outlinewidth\": 0, \"ticks\": \"\"}, \"colorscale\": [[0.0, \"#0d0887\"], [0.1111111111111111, \"#46039f\"], [0.2222222222222222, \"#7201a8\"], [0.3333333333333333, \"#9c179e\"], [0.4444444444444444, \"#bd3786\"], [0.5555555555555556, \"#d8576b\"], [0.6666666666666666, \"#ed7953\"], [0.7777777777777778, \"#fb9f3a\"], [0.8888888888888888, \"#fdca26\"], [1.0, \"#f0f921\"]], \"type\": \"heatmap\"}], \"heatmapgl\": [{\"colorbar\": {\"outlinewidth\": 0, \"ticks\": \"\"}, \"colorscale\": [[0.0, \"#0d0887\"], [0.1111111111111111, \"#46039f\"], [0.2222222222222222, \"#7201a8\"], [0.3333333333333333, \"#9c179e\"], [0.4444444444444444, \"#bd3786\"], [0.5555555555555556, \"#d8576b\"], [0.6666666666666666, \"#ed7953\"], [0.7777777777777778, \"#fb9f3a\"], [0.8888888888888888, \"#fdca26\"], [1.0, \"#f0f921\"]], \"type\": \"heatmapgl\"}], \"histogram\": [{\"marker\": {\"colorbar\": {\"outlinewidth\": 0, \"ticks\": \"\"}}, \"type\": \"histogram\"}], \"histogram2d\": [{\"colorbar\": {\"outlinewidth\": 0, \"ticks\": \"\"}, \"colorscale\": [[0.0, \"#0d0887\"], [0.1111111111111111, \"#46039f\"], [0.2222222222222222, \"#7201a8\"], [0.3333333333333333, \"#9c179e\"], [0.4444444444444444, \"#bd3786\"], [0.5555555555555556, \"#d8576b\"], [0.6666666666666666, \"#ed7953\"], [0.7777777777777778, \"#fb9f3a\"], [0.8888888888888888, \"#fdca26\"], [1.0, \"#f0f921\"]], \"type\": \"histogram2d\"}], \"histogram2dcontour\": [{\"colorbar\": {\"outlinewidth\": 0, \"ticks\": \"\"}, \"colorscale\": [[0.0, \"#0d0887\"], [0.1111111111111111, \"#46039f\"], [0.2222222222222222, \"#7201a8\"], [0.3333333333333333, \"#9c179e\"], [0.4444444444444444, \"#bd3786\"], [0.5555555555555556, \"#d8576b\"], [0.6666666666666666, \"#ed7953\"], [0.7777777777777778, \"#fb9f3a\"], [0.8888888888888888, \"#fdca26\"], [1.0, \"#f0f921\"]], \"type\": \"histogram2dcontour\"}], \"mesh3d\": [{\"colorbar\": {\"outlinewidth\": 0, \"ticks\": \"\"}, \"type\": \"mesh3d\"}], \"parcoords\": [{\"line\": {\"colorbar\": {\"outlinewidth\": 0, \"ticks\": \"\"}}, \"type\": \"parcoords\"}], \"pie\": [{\"automargin\": true, \"type\": \"pie\"}], \"scatter\": [{\"marker\": {\"colorbar\": {\"outlinewidth\": 0, \"ticks\": \"\"}}, \"type\": \"scatter\"}], \"scatter3d\": [{\"line\": {\"colorbar\": {\"outlinewidth\": 0, \"ticks\": \"\"}}, \"marker\": {\"colorbar\": {\"outlinewidth\": 0, \"ticks\": \"\"}}, \"type\": \"scatter3d\"}], \"scattercarpet\": [{\"marker\": {\"colorbar\": {\"outlinewidth\": 0, \"ticks\": \"\"}}, \"type\": \"scattercarpet\"}], \"scattergeo\": [{\"marker\": {\"colorbar\": {\"outlinewidth\": 0, \"ticks\": \"\"}}, \"type\": \"scattergeo\"}], \"scattergl\": [{\"marker\": {\"colorbar\": {\"outlinewidth\": 0, \"ticks\": \"\"}}, \"type\": \"scattergl\"}], \"scattermapbox\": [{\"marker\": {\"colorbar\": {\"outlinewidth\": 0, \"ticks\": \"\"}}, \"type\": \"scattermapbox\"}], \"scatterpolar\": [{\"marker\": {\"colorbar\": {\"outlinewidth\": 0, \"ticks\": \"\"}}, \"type\": \"scatterpolar\"}], \"scatterpolargl\": [{\"marker\": {\"colorbar\": {\"outlinewidth\": 0, \"ticks\": \"\"}}, \"type\": \"scatterpolargl\"}], \"scatterternary\": [{\"marker\": {\"colorbar\": {\"outlinewidth\": 0, \"ticks\": \"\"}}, \"type\": \"scatterternary\"}], \"surface\": [{\"colorbar\": {\"outlinewidth\": 0, \"ticks\": \"\"}, \"colorscale\": [[0.0, \"#0d0887\"], [0.1111111111111111, \"#46039f\"], [0.2222222222222222, \"#7201a8\"], [0.3333333333333333, \"#9c179e\"], [0.4444444444444444, \"#bd3786\"], [0.5555555555555556, \"#d8576b\"], [0.6666666666666666, \"#ed7953\"], [0.7777777777777778, \"#fb9f3a\"], [0.8888888888888888, \"#fdca26\"], [1.0, \"#f0f921\"]], \"type\": \"surface\"}], \"table\": [{\"cells\": {\"fill\": {\"color\": \"#EBF0F8\"}, \"line\": {\"color\": \"white\"}}, \"header\": {\"fill\": {\"color\": \"#C8D4E3\"}, \"line\": {\"color\": \"white\"}}, \"type\": \"table\"}]}, \"layout\": {\"annotationdefaults\": {\"arrowcolor\": \"#2a3f5f\", \"arrowhead\": 0, \"arrowwidth\": 1}, \"coloraxis\": {\"colorbar\": {\"outlinewidth\": 0, \"ticks\": \"\"}}, \"colorscale\": {\"diverging\": [[0, \"#8e0152\"], [0.1, \"#c51b7d\"], [0.2, \"#de77ae\"], [0.3, \"#f1b6da\"], [0.4, \"#fde0ef\"], [0.5, \"#f7f7f7\"], [0.6, \"#e6f5d0\"], [0.7, \"#b8e186\"], [0.8, \"#7fbc41\"], [0.9, \"#4d9221\"], [1, \"#276419\"]], \"sequential\": [[0.0, \"#0d0887\"], [0.1111111111111111, \"#46039f\"], [0.2222222222222222, \"#7201a8\"], [0.3333333333333333, \"#9c179e\"], [0.4444444444444444, \"#bd3786\"], [0.5555555555555556, \"#d8576b\"], [0.6666666666666666, \"#ed7953\"], [0.7777777777777778, \"#fb9f3a\"], [0.8888888888888888, \"#fdca26\"], [1.0, \"#f0f921\"]], \"sequentialminus\": [[0.0, \"#0d0887\"], [0.1111111111111111, \"#46039f\"], [0.2222222222222222, \"#7201a8\"], [0.3333333333333333, \"#9c179e\"], [0.4444444444444444, \"#bd3786\"], [0.5555555555555556, \"#d8576b\"], [0.6666666666666666, \"#ed7953\"], [0.7777777777777778, \"#fb9f3a\"], [0.8888888888888888, \"#fdca26\"], [1.0, \"#f0f921\"]]}, \"colorway\": [\"#636efa\", \"#EF553B\", \"#00cc96\", \"#ab63fa\", \"#FFA15A\", \"#19d3f3\", \"#FF6692\", \"#B6E880\", \"#FF97FF\", \"#FECB52\"], \"font\": {\"color\": \"#2a3f5f\"}, \"geo\": {\"bgcolor\": \"white\", \"lakecolor\": \"white\", \"landcolor\": \"#E5ECF6\", \"showlakes\": true, \"showland\": true, \"subunitcolor\": \"white\"}, \"hoverlabel\": {\"align\": \"left\"}, \"hovermode\": \"closest\", \"mapbox\": {\"style\": \"light\"}, \"paper_bgcolor\": \"white\", \"plot_bgcolor\": \"#E5ECF6\", \"polar\": {\"angularaxis\": {\"gridcolor\": \"white\", \"linecolor\": \"white\", \"ticks\": \"\"}, \"bgcolor\": \"#E5ECF6\", \"radialaxis\": {\"gridcolor\": \"white\", \"linecolor\": \"white\", \"ticks\": \"\"}}, \"scene\": {\"xaxis\": {\"backgroundcolor\": \"#E5ECF6\", \"gridcolor\": \"white\", \"gridwidth\": 2, \"linecolor\": \"white\", \"showbackground\": true, \"ticks\": \"\", \"zerolinecolor\": \"white\"}, \"yaxis\": {\"backgroundcolor\": \"#E5ECF6\", \"gridcolor\": \"white\", \"gridwidth\": 2, \"linecolor\": \"white\", \"showbackground\": true, \"ticks\": \"\", \"zerolinecolor\": \"white\"}, \"zaxis\": {\"backgroundcolor\": \"#E5ECF6\", \"gridcolor\": \"white\", \"gridwidth\": 2, \"linecolor\": \"white\", \"showbackground\": true, \"ticks\": \"\", \"zerolinecolor\": \"white\"}}, \"shapedefaults\": {\"line\": {\"color\": \"#2a3f5f\"}}, \"ternary\": {\"aaxis\": {\"gridcolor\": \"white\", \"linecolor\": \"white\", \"ticks\": \"\"}, \"baxis\": {\"gridcolor\": \"white\", \"linecolor\": \"white\", \"ticks\": \"\"}, \"bgcolor\": \"#E5ECF6\", \"caxis\": {\"gridcolor\": \"white\", \"linecolor\": \"white\", \"ticks\": \"\"}}, \"title\": {\"x\": 0.05}, \"xaxis\": {\"automargin\": true, \"gridcolor\": \"white\", \"linecolor\": \"white\", \"ticks\": \"\", \"title\": {\"standoff\": 15}, \"zerolinecolor\": \"white\", \"zerolinewidth\": 2}, \"yaxis\": {\"automargin\": true, \"gridcolor\": \"white\", \"linecolor\": \"white\", \"ticks\": \"\", \"title\": {\"standoff\": 15}, \"zerolinecolor\": \"white\", \"zerolinewidth\": 2}}}, \"title\": {\"text\": \"Categories by % of Sales (Support)\"}},\n",
       "                        {\"responsive\": true}\n",
       "                    ).then(function(){\n",
       "                            \n",
       "var gd = document.getElementById('35468274-b48d-4969-9c0d-f2cd47d9d206');\n",
       "var x = new MutationObserver(function (mutations, observer) {{\n",
       "        var display = window.getComputedStyle(gd).display;\n",
       "        if (!display || display === 'none') {{\n",
       "            console.log([gd, 'removed!']);\n",
       "            Plotly.purge(gd);\n",
       "            observer.disconnect();\n",
       "        }}\n",
       "}});\n",
       "\n",
       "// Listen for the removal of the full notebook cells\n",
       "var notebookContainer = gd.closest('#notebook-container');\n",
       "if (notebookContainer) {{\n",
       "    x.observe(notebookContainer, {childList: true});\n",
       "}}\n",
       "\n",
       "// Listen for the clearing of the current output cell\n",
       "var outputEl = gd.closest('.output');\n",
       "if (outputEl) {{\n",
       "    x.observe(outputEl, {childList: true});\n",
       "}}\n",
       "\n",
       "                        })\n",
       "                };\n",
       "                });\n",
       "            </script>\n",
       "        </div>"
      ]
     },
     "metadata": {},
     "output_type": "display_data"
    }
   ],
   "source": [
    "fig = go.Figure([go.Bar(x=cat_count.index, y=cat_count.values)])\n",
    "fig.update_layout(title='Categories by % of Sales (Support)')\n",
    "fig.show()"
   ]
  },
  {
   "cell_type": "code",
   "execution_count": 257,
   "metadata": {},
   "outputs": [],
   "source": [
    "import numpy as np\n",
    "import matplotlib.pyplot as plt\n",
    "from mlxtend.preprocessing import OnehotTransactions\n",
    "from mlxtend.frequent_patterns import apriori\n",
    "from mlxtend.frequent_patterns import association_rules\n",
    "from mlxtend.preprocessing import TransactionEncoder\n"
   ]
  },
  {
   "cell_type": "code",
   "execution_count": 258,
   "metadata": {},
   "outputs": [],
   "source": [
    "basket = (df.groupby(['transaction_id', 'category_name'])['salesquantity'].sum().unstack().reset_index().fillna(0)\n",
    "          .set_index('transaction_id'))"
   ]
  },
  {
   "cell_type": "code",
   "execution_count": 259,
   "metadata": {},
   "outputs": [
    {
     "data": {
      "text/html": [
       "<div>\n",
       "<style scoped>\n",
       "    .dataframe tbody tr th:only-of-type {\n",
       "        vertical-align: middle;\n",
       "    }\n",
       "\n",
       "    .dataframe tbody tr th {\n",
       "        vertical-align: top;\n",
       "    }\n",
       "\n",
       "    .dataframe thead th {\n",
       "        text-align: right;\n",
       "    }\n",
       "</style>\n",
       "<table border=\"1\" class=\"dataframe\">\n",
       "  <thead>\n",
       "    <tr style=\"text-align: right;\">\n",
       "      <th>category_name</th>\n",
       "      <th>Beer</th>\n",
       "      <th>Candy</th>\n",
       "      <th>Car Wash</th>\n",
       "      <th>Cigarettes</th>\n",
       "      <th>Coffee</th>\n",
       "      <th>Deli</th>\n",
       "      <th>Fountain</th>\n",
       "      <th>Fuel 1</th>\n",
       "      <th>Grocery High Tax</th>\n",
       "      <th>Liquor</th>\n",
       "      <th>Lottery Winners</th>\n",
       "      <th>Lotto</th>\n",
       "      <th>Lotto Winners</th>\n",
       "      <th>Novelty</th>\n",
       "      <th>Oil</th>\n",
       "      <th>Other Tobacco</th>\n",
       "      <th>Scratch Off Tickets</th>\n",
       "      <th>Snacks and Grocery</th>\n",
       "      <th>Soda and Juice</th>\n",
       "      <th>Tobacco Excise Tax</th>\n",
       "    </tr>\n",
       "    <tr>\n",
       "      <th>transaction_id</th>\n",
       "      <th></th>\n",
       "      <th></th>\n",
       "      <th></th>\n",
       "      <th></th>\n",
       "      <th></th>\n",
       "      <th></th>\n",
       "      <th></th>\n",
       "      <th></th>\n",
       "      <th></th>\n",
       "      <th></th>\n",
       "      <th></th>\n",
       "      <th></th>\n",
       "      <th></th>\n",
       "      <th></th>\n",
       "      <th></th>\n",
       "      <th></th>\n",
       "      <th></th>\n",
       "      <th></th>\n",
       "      <th></th>\n",
       "      <th></th>\n",
       "    </tr>\n",
       "  </thead>\n",
       "  <tbody>\n",
       "    <tr>\n",
       "      <th>PJR340170101060446643182.xml</th>\n",
       "      <td>0.0</td>\n",
       "      <td>0.0</td>\n",
       "      <td>0.0</td>\n",
       "      <td>0.0</td>\n",
       "      <td>0.0</td>\n",
       "      <td>0.0</td>\n",
       "      <td>0.0</td>\n",
       "      <td>11.911</td>\n",
       "      <td>0.0</td>\n",
       "      <td>0.0</td>\n",
       "      <td>0.0</td>\n",
       "      <td>0.0</td>\n",
       "      <td>0.0</td>\n",
       "      <td>0.0</td>\n",
       "      <td>0.0</td>\n",
       "      <td>0.0</td>\n",
       "      <td>0.0</td>\n",
       "      <td>0.0</td>\n",
       "      <td>0.0</td>\n",
       "      <td>0.0</td>\n",
       "    </tr>\n",
       "    <tr>\n",
       "      <th>PJR340170101060552643186.xml</th>\n",
       "      <td>0.0</td>\n",
       "      <td>0.0</td>\n",
       "      <td>1.0</td>\n",
       "      <td>0.0</td>\n",
       "      <td>0.0</td>\n",
       "      <td>0.0</td>\n",
       "      <td>0.0</td>\n",
       "      <td>0.000</td>\n",
       "      <td>0.0</td>\n",
       "      <td>0.0</td>\n",
       "      <td>0.0</td>\n",
       "      <td>0.0</td>\n",
       "      <td>0.0</td>\n",
       "      <td>0.0</td>\n",
       "      <td>0.0</td>\n",
       "      <td>0.0</td>\n",
       "      <td>0.0</td>\n",
       "      <td>0.0</td>\n",
       "      <td>0.0</td>\n",
       "      <td>0.0</td>\n",
       "    </tr>\n",
       "    <tr>\n",
       "      <th>PJR340170101062223643195.xml</th>\n",
       "      <td>0.0</td>\n",
       "      <td>0.0</td>\n",
       "      <td>0.0</td>\n",
       "      <td>0.0</td>\n",
       "      <td>1.0</td>\n",
       "      <td>0.0</td>\n",
       "      <td>0.0</td>\n",
       "      <td>0.000</td>\n",
       "      <td>0.0</td>\n",
       "      <td>0.0</td>\n",
       "      <td>0.0</td>\n",
       "      <td>0.0</td>\n",
       "      <td>0.0</td>\n",
       "      <td>0.0</td>\n",
       "      <td>0.0</td>\n",
       "      <td>0.0</td>\n",
       "      <td>0.0</td>\n",
       "      <td>0.0</td>\n",
       "      <td>0.0</td>\n",
       "      <td>0.0</td>\n",
       "    </tr>\n",
       "    <tr>\n",
       "      <th>PJR340170101062502643196.xml</th>\n",
       "      <td>0.0</td>\n",
       "      <td>0.0</td>\n",
       "      <td>0.0</td>\n",
       "      <td>0.0</td>\n",
       "      <td>0.0</td>\n",
       "      <td>0.0</td>\n",
       "      <td>0.0</td>\n",
       "      <td>0.000</td>\n",
       "      <td>0.0</td>\n",
       "      <td>0.0</td>\n",
       "      <td>0.0</td>\n",
       "      <td>1.0</td>\n",
       "      <td>0.0</td>\n",
       "      <td>0.0</td>\n",
       "      <td>0.0</td>\n",
       "      <td>0.0</td>\n",
       "      <td>3.0</td>\n",
       "      <td>0.0</td>\n",
       "      <td>0.0</td>\n",
       "      <td>0.0</td>\n",
       "    </tr>\n",
       "    <tr>\n",
       "      <th>PJR340170101062541643197.xml</th>\n",
       "      <td>0.0</td>\n",
       "      <td>0.0</td>\n",
       "      <td>0.0</td>\n",
       "      <td>0.0</td>\n",
       "      <td>0.0</td>\n",
       "      <td>0.0</td>\n",
       "      <td>0.0</td>\n",
       "      <td>0.000</td>\n",
       "      <td>0.0</td>\n",
       "      <td>0.0</td>\n",
       "      <td>0.0</td>\n",
       "      <td>0.0</td>\n",
       "      <td>0.0</td>\n",
       "      <td>0.0</td>\n",
       "      <td>0.0</td>\n",
       "      <td>0.0</td>\n",
       "      <td>0.0</td>\n",
       "      <td>0.0</td>\n",
       "      <td>2.0</td>\n",
       "      <td>0.0</td>\n",
       "    </tr>\n",
       "  </tbody>\n",
       "</table>\n",
       "</div>"
      ],
      "text/plain": [
       "category_name                 Beer  Candy  Car Wash  Cigarettes  Coffee  Deli  \\\n",
       "transaction_id                                                                  \n",
       "PJR340170101060446643182.xml   0.0    0.0       0.0         0.0     0.0   0.0   \n",
       "PJR340170101060552643186.xml   0.0    0.0       1.0         0.0     0.0   0.0   \n",
       "PJR340170101062223643195.xml   0.0    0.0       0.0         0.0     1.0   0.0   \n",
       "PJR340170101062502643196.xml   0.0    0.0       0.0         0.0     0.0   0.0   \n",
       "PJR340170101062541643197.xml   0.0    0.0       0.0         0.0     0.0   0.0   \n",
       "\n",
       "category_name                 Fountain  Fuel 1  Grocery High Tax  Liquor  \\\n",
       "transaction_id                                                             \n",
       "PJR340170101060446643182.xml       0.0  11.911               0.0     0.0   \n",
       "PJR340170101060552643186.xml       0.0   0.000               0.0     0.0   \n",
       "PJR340170101062223643195.xml       0.0   0.000               0.0     0.0   \n",
       "PJR340170101062502643196.xml       0.0   0.000               0.0     0.0   \n",
       "PJR340170101062541643197.xml       0.0   0.000               0.0     0.0   \n",
       "\n",
       "category_name                 Lottery Winners  Lotto  Lotto Winners  Novelty  \\\n",
       "transaction_id                                                                 \n",
       "PJR340170101060446643182.xml              0.0    0.0            0.0      0.0   \n",
       "PJR340170101060552643186.xml              0.0    0.0            0.0      0.0   \n",
       "PJR340170101062223643195.xml              0.0    0.0            0.0      0.0   \n",
       "PJR340170101062502643196.xml              0.0    1.0            0.0      0.0   \n",
       "PJR340170101062541643197.xml              0.0    0.0            0.0      0.0   \n",
       "\n",
       "category_name                 Oil  Other Tobacco  Scratch Off Tickets  \\\n",
       "transaction_id                                                          \n",
       "PJR340170101060446643182.xml  0.0            0.0                  0.0   \n",
       "PJR340170101060552643186.xml  0.0            0.0                  0.0   \n",
       "PJR340170101062223643195.xml  0.0            0.0                  0.0   \n",
       "PJR340170101062502643196.xml  0.0            0.0                  3.0   \n",
       "PJR340170101062541643197.xml  0.0            0.0                  0.0   \n",
       "\n",
       "category_name                 Snacks and Grocery  Soda and Juice  \\\n",
       "transaction_id                                                     \n",
       "PJR340170101060446643182.xml                 0.0             0.0   \n",
       "PJR340170101060552643186.xml                 0.0             0.0   \n",
       "PJR340170101062223643195.xml                 0.0             0.0   \n",
       "PJR340170101062502643196.xml                 0.0             0.0   \n",
       "PJR340170101062541643197.xml                 0.0             2.0   \n",
       "\n",
       "category_name                 Tobacco Excise Tax  \n",
       "transaction_id                                    \n",
       "PJR340170101060446643182.xml                 0.0  \n",
       "PJR340170101060552643186.xml                 0.0  \n",
       "PJR340170101062223643195.xml                 0.0  \n",
       "PJR340170101062502643196.xml                 0.0  \n",
       "PJR340170101062541643197.xml                 0.0  "
      ]
     },
     "execution_count": 259,
     "metadata": {},
     "output_type": "execute_result"
    }
   ],
   "source": [
    "basket.head()"
   ]
  },
  {
   "cell_type": "code",
   "execution_count": 260,
   "metadata": {},
   "outputs": [],
   "source": [
    "def encode_units(x):\n",
    "    if x <= 0:\n",
    "        return 0\n",
    "    if x >= 0:\n",
    "        return 1"
   ]
  },
  {
   "cell_type": "code",
   "execution_count": 261,
   "metadata": {},
   "outputs": [
    {
     "data": {
      "text/html": [
       "<div>\n",
       "<style scoped>\n",
       "    .dataframe tbody tr th:only-of-type {\n",
       "        vertical-align: middle;\n",
       "    }\n",
       "\n",
       "    .dataframe tbody tr th {\n",
       "        vertical-align: top;\n",
       "    }\n",
       "\n",
       "    .dataframe thead th {\n",
       "        text-align: right;\n",
       "    }\n",
       "</style>\n",
       "<table border=\"1\" class=\"dataframe\">\n",
       "  <thead>\n",
       "    <tr style=\"text-align: right;\">\n",
       "      <th>category_name</th>\n",
       "      <th>Beer</th>\n",
       "      <th>Candy</th>\n",
       "      <th>Car Wash</th>\n",
       "      <th>Cigarettes</th>\n",
       "      <th>Coffee</th>\n",
       "      <th>Deli</th>\n",
       "      <th>Fountain</th>\n",
       "      <th>Fuel 1</th>\n",
       "      <th>Grocery High Tax</th>\n",
       "      <th>Liquor</th>\n",
       "      <th>Lottery Winners</th>\n",
       "      <th>Lotto</th>\n",
       "      <th>Lotto Winners</th>\n",
       "      <th>Novelty</th>\n",
       "      <th>Oil</th>\n",
       "      <th>Other Tobacco</th>\n",
       "      <th>Scratch Off Tickets</th>\n",
       "      <th>Snacks and Grocery</th>\n",
       "      <th>Soda and Juice</th>\n",
       "      <th>Tobacco Excise Tax</th>\n",
       "    </tr>\n",
       "    <tr>\n",
       "      <th>transaction_id</th>\n",
       "      <th></th>\n",
       "      <th></th>\n",
       "      <th></th>\n",
       "      <th></th>\n",
       "      <th></th>\n",
       "      <th></th>\n",
       "      <th></th>\n",
       "      <th></th>\n",
       "      <th></th>\n",
       "      <th></th>\n",
       "      <th></th>\n",
       "      <th></th>\n",
       "      <th></th>\n",
       "      <th></th>\n",
       "      <th></th>\n",
       "      <th></th>\n",
       "      <th></th>\n",
       "      <th></th>\n",
       "      <th></th>\n",
       "      <th></th>\n",
       "    </tr>\n",
       "  </thead>\n",
       "  <tbody>\n",
       "    <tr>\n",
       "      <th>PJR340170101060446643182.xml</th>\n",
       "      <td>0</td>\n",
       "      <td>0</td>\n",
       "      <td>0</td>\n",
       "      <td>0</td>\n",
       "      <td>0</td>\n",
       "      <td>0</td>\n",
       "      <td>0</td>\n",
       "      <td>1</td>\n",
       "      <td>0</td>\n",
       "      <td>0</td>\n",
       "      <td>0</td>\n",
       "      <td>0</td>\n",
       "      <td>0</td>\n",
       "      <td>0</td>\n",
       "      <td>0</td>\n",
       "      <td>0</td>\n",
       "      <td>0</td>\n",
       "      <td>0</td>\n",
       "      <td>0</td>\n",
       "      <td>0</td>\n",
       "    </tr>\n",
       "    <tr>\n",
       "      <th>PJR340170101060552643186.xml</th>\n",
       "      <td>0</td>\n",
       "      <td>0</td>\n",
       "      <td>1</td>\n",
       "      <td>0</td>\n",
       "      <td>0</td>\n",
       "      <td>0</td>\n",
       "      <td>0</td>\n",
       "      <td>0</td>\n",
       "      <td>0</td>\n",
       "      <td>0</td>\n",
       "      <td>0</td>\n",
       "      <td>0</td>\n",
       "      <td>0</td>\n",
       "      <td>0</td>\n",
       "      <td>0</td>\n",
       "      <td>0</td>\n",
       "      <td>0</td>\n",
       "      <td>0</td>\n",
       "      <td>0</td>\n",
       "      <td>0</td>\n",
       "    </tr>\n",
       "    <tr>\n",
       "      <th>PJR340170101062223643195.xml</th>\n",
       "      <td>0</td>\n",
       "      <td>0</td>\n",
       "      <td>0</td>\n",
       "      <td>0</td>\n",
       "      <td>1</td>\n",
       "      <td>0</td>\n",
       "      <td>0</td>\n",
       "      <td>0</td>\n",
       "      <td>0</td>\n",
       "      <td>0</td>\n",
       "      <td>0</td>\n",
       "      <td>0</td>\n",
       "      <td>0</td>\n",
       "      <td>0</td>\n",
       "      <td>0</td>\n",
       "      <td>0</td>\n",
       "      <td>0</td>\n",
       "      <td>0</td>\n",
       "      <td>0</td>\n",
       "      <td>0</td>\n",
       "    </tr>\n",
       "    <tr>\n",
       "      <th>PJR340170101062502643196.xml</th>\n",
       "      <td>0</td>\n",
       "      <td>0</td>\n",
       "      <td>0</td>\n",
       "      <td>0</td>\n",
       "      <td>0</td>\n",
       "      <td>0</td>\n",
       "      <td>0</td>\n",
       "      <td>0</td>\n",
       "      <td>0</td>\n",
       "      <td>0</td>\n",
       "      <td>0</td>\n",
       "      <td>1</td>\n",
       "      <td>0</td>\n",
       "      <td>0</td>\n",
       "      <td>0</td>\n",
       "      <td>0</td>\n",
       "      <td>1</td>\n",
       "      <td>0</td>\n",
       "      <td>0</td>\n",
       "      <td>0</td>\n",
       "    </tr>\n",
       "    <tr>\n",
       "      <th>PJR340170101062541643197.xml</th>\n",
       "      <td>0</td>\n",
       "      <td>0</td>\n",
       "      <td>0</td>\n",
       "      <td>0</td>\n",
       "      <td>0</td>\n",
       "      <td>0</td>\n",
       "      <td>0</td>\n",
       "      <td>0</td>\n",
       "      <td>0</td>\n",
       "      <td>0</td>\n",
       "      <td>0</td>\n",
       "      <td>0</td>\n",
       "      <td>0</td>\n",
       "      <td>0</td>\n",
       "      <td>0</td>\n",
       "      <td>0</td>\n",
       "      <td>0</td>\n",
       "      <td>0</td>\n",
       "      <td>1</td>\n",
       "      <td>0</td>\n",
       "    </tr>\n",
       "  </tbody>\n",
       "</table>\n",
       "</div>"
      ],
      "text/plain": [
       "category_name                 Beer  Candy  Car Wash  Cigarettes  Coffee  Deli  \\\n",
       "transaction_id                                                                  \n",
       "PJR340170101060446643182.xml     0      0         0           0       0     0   \n",
       "PJR340170101060552643186.xml     0      0         1           0       0     0   \n",
       "PJR340170101062223643195.xml     0      0         0           0       1     0   \n",
       "PJR340170101062502643196.xml     0      0         0           0       0     0   \n",
       "PJR340170101062541643197.xml     0      0         0           0       0     0   \n",
       "\n",
       "category_name                 Fountain  Fuel 1  Grocery High Tax  Liquor  \\\n",
       "transaction_id                                                             \n",
       "PJR340170101060446643182.xml         0       1                 0       0   \n",
       "PJR340170101060552643186.xml         0       0                 0       0   \n",
       "PJR340170101062223643195.xml         0       0                 0       0   \n",
       "PJR340170101062502643196.xml         0       0                 0       0   \n",
       "PJR340170101062541643197.xml         0       0                 0       0   \n",
       "\n",
       "category_name                 Lottery Winners  Lotto  Lotto Winners  Novelty  \\\n",
       "transaction_id                                                                 \n",
       "PJR340170101060446643182.xml                0      0              0        0   \n",
       "PJR340170101060552643186.xml                0      0              0        0   \n",
       "PJR340170101062223643195.xml                0      0              0        0   \n",
       "PJR340170101062502643196.xml                0      1              0        0   \n",
       "PJR340170101062541643197.xml                0      0              0        0   \n",
       "\n",
       "category_name                 Oil  Other Tobacco  Scratch Off Tickets  \\\n",
       "transaction_id                                                          \n",
       "PJR340170101060446643182.xml    0              0                    0   \n",
       "PJR340170101060552643186.xml    0              0                    0   \n",
       "PJR340170101062223643195.xml    0              0                    0   \n",
       "PJR340170101062502643196.xml    0              0                    1   \n",
       "PJR340170101062541643197.xml    0              0                    0   \n",
       "\n",
       "category_name                 Snacks and Grocery  Soda and Juice  \\\n",
       "transaction_id                                                     \n",
       "PJR340170101060446643182.xml                   0               0   \n",
       "PJR340170101060552643186.xml                   0               0   \n",
       "PJR340170101062223643195.xml                   0               0   \n",
       "PJR340170101062502643196.xml                   0               0   \n",
       "PJR340170101062541643197.xml                   0               1   \n",
       "\n",
       "category_name                 Tobacco Excise Tax  \n",
       "transaction_id                                    \n",
       "PJR340170101060446643182.xml                   0  \n",
       "PJR340170101060552643186.xml                   0  \n",
       "PJR340170101062223643195.xml                   0  \n",
       "PJR340170101062502643196.xml                   0  \n",
       "PJR340170101062541643197.xml                   0  "
      ]
     },
     "execution_count": 261,
     "metadata": {},
     "output_type": "execute_result"
    }
   ],
   "source": [
    "basket_sets = basket.applymap(encode_units)\n",
    "#basket_sets = basket_sets[basket_sets['Malt Liquor'] > 0]\n",
    "basket_sets.head()"
   ]
  },
  {
   "cell_type": "code",
   "execution_count": 262,
   "metadata": {},
   "outputs": [
    {
     "data": {
      "text/html": [
       "<div>\n",
       "<style scoped>\n",
       "    .dataframe tbody tr th:only-of-type {\n",
       "        vertical-align: middle;\n",
       "    }\n",
       "\n",
       "    .dataframe tbody tr th {\n",
       "        vertical-align: top;\n",
       "    }\n",
       "\n",
       "    .dataframe thead th {\n",
       "        text-align: right;\n",
       "    }\n",
       "</style>\n",
       "<table border=\"1\" class=\"dataframe\">\n",
       "  <thead>\n",
       "    <tr style=\"text-align: right;\">\n",
       "      <th></th>\n",
       "      <th>support</th>\n",
       "      <th>itemsets</th>\n",
       "    </tr>\n",
       "  </thead>\n",
       "  <tbody>\n",
       "    <tr>\n",
       "      <th>0</th>\n",
       "      <td>0.028681</td>\n",
       "      <td>(Beer)</td>\n",
       "    </tr>\n",
       "    <tr>\n",
       "      <th>1</th>\n",
       "      <td>0.068834</td>\n",
       "      <td>(Candy)</td>\n",
       "    </tr>\n",
       "    <tr>\n",
       "      <th>2</th>\n",
       "      <td>0.033324</td>\n",
       "      <td>(Car Wash)</td>\n",
       "    </tr>\n",
       "    <tr>\n",
       "      <th>3</th>\n",
       "      <td>0.126195</td>\n",
       "      <td>(Cigarettes)</td>\n",
       "    </tr>\n",
       "    <tr>\n",
       "      <th>4</th>\n",
       "      <td>0.052445</td>\n",
       "      <td>(Coffee)</td>\n",
       "    </tr>\n",
       "    <tr>\n",
       "      <th>5</th>\n",
       "      <td>0.127834</td>\n",
       "      <td>(Fountain)</td>\n",
       "    </tr>\n",
       "    <tr>\n",
       "      <th>6</th>\n",
       "      <td>0.454247</td>\n",
       "      <td>(Fuel 1)</td>\n",
       "    </tr>\n",
       "    <tr>\n",
       "      <th>7</th>\n",
       "      <td>0.020486</td>\n",
       "      <td>(Grocery High Tax)</td>\n",
       "    </tr>\n",
       "    <tr>\n",
       "      <th>8</th>\n",
       "      <td>0.018028</td>\n",
       "      <td>(Liquor)</td>\n",
       "    </tr>\n",
       "    <tr>\n",
       "      <th>9</th>\n",
       "      <td>0.022945</td>\n",
       "      <td>(Lottery Winners)</td>\n",
       "    </tr>\n",
       "  </tbody>\n",
       "</table>\n",
       "</div>"
      ],
      "text/plain": [
       "    support            itemsets\n",
       "0  0.028681              (Beer)\n",
       "1  0.068834             (Candy)\n",
       "2  0.033324          (Car Wash)\n",
       "3  0.126195        (Cigarettes)\n",
       "4  0.052445            (Coffee)\n",
       "5  0.127834          (Fountain)\n",
       "6  0.454247            (Fuel 1)\n",
       "7  0.020486  (Grocery High Tax)\n",
       "8  0.018028            (Liquor)\n",
       "9  0.022945   (Lottery Winners)"
      ]
     },
     "execution_count": 262,
     "metadata": {},
     "output_type": "execute_result"
    }
   ],
   "source": [
    "frequent_itemsets = apriori(basket_sets, min_support=0.01, use_colnames=True)\n",
    "frequent_itemsets.head(10)"
   ]
  },
  {
   "cell_type": "code",
   "execution_count": 263,
   "metadata": {},
   "outputs": [
    {
     "data": {
      "text/html": [
       "<div>\n",
       "<style scoped>\n",
       "    .dataframe tbody tr th:only-of-type {\n",
       "        vertical-align: middle;\n",
       "    }\n",
       "\n",
       "    .dataframe tbody tr th {\n",
       "        vertical-align: top;\n",
       "    }\n",
       "\n",
       "    .dataframe thead th {\n",
       "        text-align: right;\n",
       "    }\n",
       "</style>\n",
       "<table border=\"1\" class=\"dataframe\">\n",
       "  <thead>\n",
       "    <tr style=\"text-align: right;\">\n",
       "      <th></th>\n",
       "      <th>antecedents</th>\n",
       "      <th>consequents</th>\n",
       "      <th>antecedent support</th>\n",
       "      <th>consequent support</th>\n",
       "      <th>support</th>\n",
       "      <th>confidence</th>\n",
       "      <th>lift</th>\n",
       "      <th>leverage</th>\n",
       "      <th>conviction</th>\n",
       "    </tr>\n",
       "  </thead>\n",
       "  <tbody>\n",
       "    <tr>\n",
       "      <th>0</th>\n",
       "      <td>(Candy)</td>\n",
       "      <td>(Snacks and Grocery)</td>\n",
       "      <td>0.068834</td>\n",
       "      <td>0.113630</td>\n",
       "      <td>0.018847</td>\n",
       "      <td>0.273810</td>\n",
       "      <td>2.409655</td>\n",
       "      <td>0.011026</td>\n",
       "      <td>1.220575</td>\n",
       "    </tr>\n",
       "    <tr>\n",
       "      <th>1</th>\n",
       "      <td>(Snacks and Grocery)</td>\n",
       "      <td>(Candy)</td>\n",
       "      <td>0.113630</td>\n",
       "      <td>0.068834</td>\n",
       "      <td>0.018847</td>\n",
       "      <td>0.165865</td>\n",
       "      <td>2.409655</td>\n",
       "      <td>0.011026</td>\n",
       "      <td>1.116326</td>\n",
       "    </tr>\n",
       "    <tr>\n",
       "      <th>2</th>\n",
       "      <td>(Soda and Juice)</td>\n",
       "      <td>(Candy)</td>\n",
       "      <td>0.198306</td>\n",
       "      <td>0.068834</td>\n",
       "      <td>0.031685</td>\n",
       "      <td>0.159780</td>\n",
       "      <td>2.321243</td>\n",
       "      <td>0.018035</td>\n",
       "      <td>1.108241</td>\n",
       "    </tr>\n",
       "    <tr>\n",
       "      <th>3</th>\n",
       "      <td>(Candy)</td>\n",
       "      <td>(Soda and Juice)</td>\n",
       "      <td>0.068834</td>\n",
       "      <td>0.198306</td>\n",
       "      <td>0.031685</td>\n",
       "      <td>0.460317</td>\n",
       "      <td>2.321243</td>\n",
       "      <td>0.018035</td>\n",
       "      <td>1.485491</td>\n",
       "    </tr>\n",
       "    <tr>\n",
       "      <th>4</th>\n",
       "      <td>(Car Wash)</td>\n",
       "      <td>(Fuel 1)</td>\n",
       "      <td>0.033324</td>\n",
       "      <td>0.454247</td>\n",
       "      <td>0.029227</td>\n",
       "      <td>0.877049</td>\n",
       "      <td>1.930774</td>\n",
       "      <td>0.014090</td>\n",
       "      <td>4.438787</td>\n",
       "    </tr>\n",
       "    <tr>\n",
       "      <th>5</th>\n",
       "      <td>(Fuel 1)</td>\n",
       "      <td>(Car Wash)</td>\n",
       "      <td>0.454247</td>\n",
       "      <td>0.033324</td>\n",
       "      <td>0.029227</td>\n",
       "      <td>0.064342</td>\n",
       "      <td>1.930774</td>\n",
       "      <td>0.014090</td>\n",
       "      <td>1.033150</td>\n",
       "    </tr>\n",
       "    <tr>\n",
       "      <th>6</th>\n",
       "      <td>(Fountain)</td>\n",
       "      <td>(Cigarettes)</td>\n",
       "      <td>0.127834</td>\n",
       "      <td>0.126195</td>\n",
       "      <td>0.020486</td>\n",
       "      <td>0.160256</td>\n",
       "      <td>1.269911</td>\n",
       "      <td>0.004354</td>\n",
       "      <td>1.040562</td>\n",
       "    </tr>\n",
       "    <tr>\n",
       "      <th>7</th>\n",
       "      <td>(Cigarettes)</td>\n",
       "      <td>(Fountain)</td>\n",
       "      <td>0.126195</td>\n",
       "      <td>0.127834</td>\n",
       "      <td>0.020486</td>\n",
       "      <td>0.162338</td>\n",
       "      <td>1.269911</td>\n",
       "      <td>0.004354</td>\n",
       "      <td>1.041191</td>\n",
       "    </tr>\n",
       "    <tr>\n",
       "      <th>8</th>\n",
       "      <td>(Cigarettes)</td>\n",
       "      <td>(Tobacco Excise Tax)</td>\n",
       "      <td>0.126195</td>\n",
       "      <td>0.124556</td>\n",
       "      <td>0.124556</td>\n",
       "      <td>0.987013</td>\n",
       "      <td>7.924242</td>\n",
       "      <td>0.108838</td>\n",
       "      <td>67.409178</td>\n",
       "    </tr>\n",
       "    <tr>\n",
       "      <th>9</th>\n",
       "      <td>(Tobacco Excise Tax)</td>\n",
       "      <td>(Cigarettes)</td>\n",
       "      <td>0.124556</td>\n",
       "      <td>0.126195</td>\n",
       "      <td>0.124556</td>\n",
       "      <td>1.000000</td>\n",
       "      <td>7.924242</td>\n",
       "      <td>0.108838</td>\n",
       "      <td>inf</td>\n",
       "    </tr>\n",
       "  </tbody>\n",
       "</table>\n",
       "</div>"
      ],
      "text/plain": [
       "            antecedents           consequents  antecedent support  \\\n",
       "0               (Candy)  (Snacks and Grocery)            0.068834   \n",
       "1  (Snacks and Grocery)               (Candy)            0.113630   \n",
       "2      (Soda and Juice)               (Candy)            0.198306   \n",
       "3               (Candy)      (Soda and Juice)            0.068834   \n",
       "4            (Car Wash)              (Fuel 1)            0.033324   \n",
       "5              (Fuel 1)            (Car Wash)            0.454247   \n",
       "6            (Fountain)          (Cigarettes)            0.127834   \n",
       "7          (Cigarettes)            (Fountain)            0.126195   \n",
       "8          (Cigarettes)  (Tobacco Excise Tax)            0.126195   \n",
       "9  (Tobacco Excise Tax)          (Cigarettes)            0.124556   \n",
       "\n",
       "   consequent support   support  confidence      lift  leverage  conviction  \n",
       "0            0.113630  0.018847    0.273810  2.409655  0.011026    1.220575  \n",
       "1            0.068834  0.018847    0.165865  2.409655  0.011026    1.116326  \n",
       "2            0.068834  0.031685    0.159780  2.321243  0.018035    1.108241  \n",
       "3            0.198306  0.031685    0.460317  2.321243  0.018035    1.485491  \n",
       "4            0.454247  0.029227    0.877049  1.930774  0.014090    4.438787  \n",
       "5            0.033324  0.029227    0.064342  1.930774  0.014090    1.033150  \n",
       "6            0.126195  0.020486    0.160256  1.269911  0.004354    1.040562  \n",
       "7            0.127834  0.020486    0.162338  1.269911  0.004354    1.041191  \n",
       "8            0.124556  0.124556    0.987013  7.924242  0.108838   67.409178  \n",
       "9            0.126195  0.124556    1.000000  7.924242  0.108838         inf  "
      ]
     },
     "execution_count": 263,
     "metadata": {},
     "output_type": "execute_result"
    }
   ],
   "source": [
    "rules = association_rules(frequent_itemsets, metric=\"lift\", min_threshold=1.1)\n",
    "rules.head(10)"
   ]
  },
  {
   "cell_type": "code",
   "execution_count": 264,
   "metadata": {},
   "outputs": [],
   "source": [
    "rules = rules[rules['confidence'] <1]\n",
    "#rules.dropna(how='any')"
   ]
  },
  {
   "cell_type": "code",
   "execution_count": 265,
   "metadata": {},
   "outputs": [
    {
     "data": {
      "text/html": [
       "<div>\n",
       "<style scoped>\n",
       "    .dataframe tbody tr th:only-of-type {\n",
       "        vertical-align: middle;\n",
       "    }\n",
       "\n",
       "    .dataframe tbody tr th {\n",
       "        vertical-align: top;\n",
       "    }\n",
       "\n",
       "    .dataframe thead th {\n",
       "        text-align: right;\n",
       "    }\n",
       "</style>\n",
       "<table border=\"1\" class=\"dataframe\">\n",
       "  <thead>\n",
       "    <tr style=\"text-align: right;\">\n",
       "      <th></th>\n",
       "      <th>antecedents</th>\n",
       "      <th>consequents</th>\n",
       "      <th>antecedent support</th>\n",
       "      <th>consequent support</th>\n",
       "      <th>support</th>\n",
       "      <th>confidence</th>\n",
       "      <th>lift</th>\n",
       "      <th>leverage</th>\n",
       "      <th>conviction</th>\n",
       "    </tr>\n",
       "  </thead>\n",
       "  <tbody>\n",
       "    <tr>\n",
       "      <th>0</th>\n",
       "      <td>(Candy)</td>\n",
       "      <td>(Snacks and Grocery)</td>\n",
       "      <td>0.068834</td>\n",
       "      <td>0.113630</td>\n",
       "      <td>0.018847</td>\n",
       "      <td>0.273810</td>\n",
       "      <td>2.409655</td>\n",
       "      <td>0.011026</td>\n",
       "      <td>1.220575</td>\n",
       "    </tr>\n",
       "    <tr>\n",
       "      <th>1</th>\n",
       "      <td>(Snacks and Grocery)</td>\n",
       "      <td>(Candy)</td>\n",
       "      <td>0.113630</td>\n",
       "      <td>0.068834</td>\n",
       "      <td>0.018847</td>\n",
       "      <td>0.165865</td>\n",
       "      <td>2.409655</td>\n",
       "      <td>0.011026</td>\n",
       "      <td>1.116326</td>\n",
       "    </tr>\n",
       "    <tr>\n",
       "      <th>2</th>\n",
       "      <td>(Soda and Juice)</td>\n",
       "      <td>(Candy)</td>\n",
       "      <td>0.198306</td>\n",
       "      <td>0.068834</td>\n",
       "      <td>0.031685</td>\n",
       "      <td>0.159780</td>\n",
       "      <td>2.321243</td>\n",
       "      <td>0.018035</td>\n",
       "      <td>1.108241</td>\n",
       "    </tr>\n",
       "    <tr>\n",
       "      <th>3</th>\n",
       "      <td>(Candy)</td>\n",
       "      <td>(Soda and Juice)</td>\n",
       "      <td>0.068834</td>\n",
       "      <td>0.198306</td>\n",
       "      <td>0.031685</td>\n",
       "      <td>0.460317</td>\n",
       "      <td>2.321243</td>\n",
       "      <td>0.018035</td>\n",
       "      <td>1.485491</td>\n",
       "    </tr>\n",
       "    <tr>\n",
       "      <th>4</th>\n",
       "      <td>(Car Wash)</td>\n",
       "      <td>(Fuel 1)</td>\n",
       "      <td>0.033324</td>\n",
       "      <td>0.454247</td>\n",
       "      <td>0.029227</td>\n",
       "      <td>0.877049</td>\n",
       "      <td>1.930774</td>\n",
       "      <td>0.014090</td>\n",
       "      <td>4.438787</td>\n",
       "    </tr>\n",
       "    <tr>\n",
       "      <th>5</th>\n",
       "      <td>(Fuel 1)</td>\n",
       "      <td>(Car Wash)</td>\n",
       "      <td>0.454247</td>\n",
       "      <td>0.033324</td>\n",
       "      <td>0.029227</td>\n",
       "      <td>0.064342</td>\n",
       "      <td>1.930774</td>\n",
       "      <td>0.014090</td>\n",
       "      <td>1.033150</td>\n",
       "    </tr>\n",
       "    <tr>\n",
       "      <th>6</th>\n",
       "      <td>(Fountain)</td>\n",
       "      <td>(Cigarettes)</td>\n",
       "      <td>0.127834</td>\n",
       "      <td>0.126195</td>\n",
       "      <td>0.020486</td>\n",
       "      <td>0.160256</td>\n",
       "      <td>1.269911</td>\n",
       "      <td>0.004354</td>\n",
       "      <td>1.040562</td>\n",
       "    </tr>\n",
       "    <tr>\n",
       "      <th>7</th>\n",
       "      <td>(Cigarettes)</td>\n",
       "      <td>(Fountain)</td>\n",
       "      <td>0.126195</td>\n",
       "      <td>0.127834</td>\n",
       "      <td>0.020486</td>\n",
       "      <td>0.162338</td>\n",
       "      <td>1.269911</td>\n",
       "      <td>0.004354</td>\n",
       "      <td>1.041191</td>\n",
       "    </tr>\n",
       "    <tr>\n",
       "      <th>8</th>\n",
       "      <td>(Cigarettes)</td>\n",
       "      <td>(Tobacco Excise Tax)</td>\n",
       "      <td>0.126195</td>\n",
       "      <td>0.124556</td>\n",
       "      <td>0.124556</td>\n",
       "      <td>0.987013</td>\n",
       "      <td>7.924242</td>\n",
       "      <td>0.108838</td>\n",
       "      <td>67.409178</td>\n",
       "    </tr>\n",
       "    <tr>\n",
       "      <th>10</th>\n",
       "      <td>(Snacks and Grocery)</td>\n",
       "      <td>(Coffee)</td>\n",
       "      <td>0.113630</td>\n",
       "      <td>0.052445</td>\n",
       "      <td>0.011745</td>\n",
       "      <td>0.103365</td>\n",
       "      <td>1.970941</td>\n",
       "      <td>0.005786</td>\n",
       "      <td>1.056791</td>\n",
       "    </tr>\n",
       "  </tbody>\n",
       "</table>\n",
       "</div>"
      ],
      "text/plain": [
       "             antecedents           consequents  antecedent support  \\\n",
       "0                (Candy)  (Snacks and Grocery)            0.068834   \n",
       "1   (Snacks and Grocery)               (Candy)            0.113630   \n",
       "2       (Soda and Juice)               (Candy)            0.198306   \n",
       "3                (Candy)      (Soda and Juice)            0.068834   \n",
       "4             (Car Wash)              (Fuel 1)            0.033324   \n",
       "5               (Fuel 1)            (Car Wash)            0.454247   \n",
       "6             (Fountain)          (Cigarettes)            0.127834   \n",
       "7           (Cigarettes)            (Fountain)            0.126195   \n",
       "8           (Cigarettes)  (Tobacco Excise Tax)            0.126195   \n",
       "10  (Snacks and Grocery)              (Coffee)            0.113630   \n",
       "\n",
       "    consequent support   support  confidence      lift  leverage  conviction  \n",
       "0             0.113630  0.018847    0.273810  2.409655  0.011026    1.220575  \n",
       "1             0.068834  0.018847    0.165865  2.409655  0.011026    1.116326  \n",
       "2             0.068834  0.031685    0.159780  2.321243  0.018035    1.108241  \n",
       "3             0.198306  0.031685    0.460317  2.321243  0.018035    1.485491  \n",
       "4             0.454247  0.029227    0.877049  1.930774  0.014090    4.438787  \n",
       "5             0.033324  0.029227    0.064342  1.930774  0.014090    1.033150  \n",
       "6             0.126195  0.020486    0.160256  1.269911  0.004354    1.040562  \n",
       "7             0.127834  0.020486    0.162338  1.269911  0.004354    1.041191  \n",
       "8             0.124556  0.124556    0.987013  7.924242  0.108838   67.409178  \n",
       "10            0.052445  0.011745    0.103365  1.970941  0.005786    1.056791  "
      ]
     },
     "execution_count": 265,
     "metadata": {},
     "output_type": "execute_result"
    }
   ],
   "source": [
    "rules.head(10)"
   ]
  },
  {
   "cell_type": "code",
   "execution_count": 266,
   "metadata": {},
   "outputs": [
    {
     "name": "stdout",
     "output_type": "stream",
     "text": [
      "Number of assocation rules 35\n"
     ]
    }
   ],
   "source": [
    "print(f'Number of assocation rules {rules.shape[0]}')"
   ]
  },
  {
   "cell_type": "code",
   "execution_count": 267,
   "metadata": {},
   "outputs": [],
   "source": [
    "import seaborn as sns"
   ]
  },
  {
   "cell_type": "code",
   "execution_count": 268,
   "metadata": {},
   "outputs": [
    {
     "data": {
      "image/png": "[encoded data removed]",
      "text/plain": [
       "<Figure size 720x360 with 1 Axes>"
      ]
     },
     "metadata": {},
     "output_type": "display_data"
    }
   ],
   "source": [
    "plt.figure(figsize=(10,5))\n",
    "sns.distplot(rules.support)\n",
    "plt.show()"
   ]
  },
  {
   "cell_type": "code",
   "execution_count": 173,
   "metadata": {},
   "outputs": [
    {
     "data": {
      "image/png": "[encoded data removed]",
      "text/plain": [
       "<Figure size 720x360 with 1 Axes>"
      ]
     },
     "metadata": {},
     "output_type": "display_data"
    }
   ],
   "source": [
    "plt.figure(figsize=(10,5))\n",
    "sns.distplot(rules.confidence)\n",
    "plt.show()"
   ]
  },
  {
   "cell_type": "code",
   "execution_count": 174,
   "metadata": {},
   "outputs": [
    {
     "data": {
      "image/png": "[encoded data removed]",
      "text/plain": [
       "<Figure size 720x360 with 1 Axes>"
      ]
     },
     "metadata": {},
     "output_type": "display_data"
    }
   ],
   "source": [
    "plt.figure(figsize=(10,5))\n",
    "sns.distplot(rules.lift)\n",
    "plt.show()"
   ]
  },
  {
   "cell_type": "code",
   "execution_count": 175,
   "metadata": {},
   "outputs": [
    {
     "data": {
      "image/png": "[encoded data removed]",
      "text/plain": [
       "<Figure size 720x360 with 1 Axes>"
      ]
     },
     "metadata": {},
     "output_type": "display_data"
    }
   ],
   "source": [
    "plt.figure(figsize=(10,5))\n",
    "sns.distplot(rules.leverage)\n",
    "plt.show()"
   ]
  },
  {
   "cell_type": "code",
   "execution_count": 176,
   "metadata": {},
   "outputs": [
    {
     "data": {
      "image/png": "[encoded data removed]",
      "text/plain": [
       "<Figure size 720x360 with 1 Axes>"
      ]
     },
     "metadata": {},
     "output_type": "display_data"
    }
   ],
   "source": [
    "plt.figure(figsize=(10,5))\n",
    "sns.distplot(rules.conviction)\n",
    "plt.show()"
   ]
  },
  {
   "cell_type": "code",
   "execution_count": 177,
   "metadata": {},
   "outputs": [
    {
     "data": {
      "text/plain": [
       "<Figure size 720x360 with 0 Axes>"
      ]
     },
     "metadata": {},
     "output_type": "display_data"
    },
    {
     "data": {
      "image/png": "[encoded data removed]",
      "text/plain": [
       "<Figure size 1260x1260 with 56 Axes>"
      ]
     },
     "metadata": {},
     "output_type": "display_data"
    }
   ],
   "source": [
    "plt.figure(figsize=(10,5))\n",
    "sns.pairplot(rules)\n",
    "plt.show()"
   ]
  },
  {
   "cell_type": "code",
   "execution_count": 249,
   "metadata": {
    "scrolled": true
   },
   "outputs": [
    {
     "data": {
      "image/png": "[encoded data removed]",
      "text/plain": [
       "<Figure size 720x360 with 1 Axes>"
      ]
     },
     "metadata": {},
     "output_type": "display_data"
    }
   ],
   "source": [
    "support = rules.support\n",
    "confidence = rules.confidence\n",
    "lift = rules.lift\n",
    "ruletext = rules.antecedents.astype(str) +' => ' + rules.consequents.astype(str)\n",
    "\n",
    "#plt.figure(figsize=(10,5))\n",
    "#sns.scatterplot('support','confidence', hue='lift', size='lift', alpha=.8, data=rules)\n",
    "#sns.set_style('darkgrid')\n",
    "#plt.show()"
   ]
  },
  {
   "cell_type": "code",
   "execution_count": 272,
   "metadata": {},
   "outputs": [
    {
     "data": {
      "application/vnd.plotly.v1+json": {
       "config": {
        "plotlyServerURL": "https://plot.ly"
       },
       "data": [
        {
         "marker": {
          "color": [
           2.409655448717949,
           2.409655448717949,
           2.3212427303336396,
           2.3212427303336396,
           1.9307739321589463,
           1.9307739321589463,
           1.2699106449106452,
           1.2699106449106452,
           7.924242424242426,
           1.9709410056089745,
           1.9709410056089745,
           1.692400147928994,
           1.692400147928994,
           1.2694650622282204,
           1.2694650622282202,
           14.240099009900987,
           14.240099009900987,
           1.2454860765375553,
           1.2454860765375553,
           2.145571757787667,
           2.145571757787667,
           7.9214619883040935,
           1.2694650622282202,
           1.2694650622282204,
           7.924242424242425,
           7.9214619883040935,
           7.892432352066607,
           7.924242424242426,
           7.892432352066608,
           7.817232225300094,
           7.817232225300093,
           7.924242424242425,
           7.943099104143337,
           7.924242424242425,
           7.943099104143337
          ],
          "colorscale": [
           [
            0,
            "#440154"
           ],
           [
            0.1111111111111111,
            "#482878"
           ],
           [
            0.2222222222222222,
            "#3e4989"
           ],
           [
            0.3333333333333333,
            "#31688e"
           ],
           [
            0.4444444444444444,
            "#26828e"
           ],
           [
            0.5555555555555556,
            "#1f9e89"
           ],
           [
            0.6666666666666666,
            "#35b779"
           ],
           [
            0.7777777777777778,
            "#6ece58"
           ],
           [
            0.8888888888888888,
            "#b5de2b"
           ],
           [
            1,
            "#fde725"
           ]
          ],
          "size": [
           2.409655448717949,
           2.409655448717949,
           2.3212427303336396,
           2.3212427303336396,
           1.9307739321589463,
           1.9307739321589463,
           1.2699106449106452,
           1.2699106449106452,
           7.924242424242426,
           1.9709410056089745,
           1.9709410056089745,
           1.692400147928994,
           1.692400147928994,
           1.2694650622282204,
           1.2694650622282202,
           14.240099009900987,
           14.240099009900987,
           1.2454860765375553,
           1.2454860765375553,
           2.145571757787667,
           2.145571757787667,
           7.9214619883040935,
           1.2694650622282202,
           1.2694650622282204,
           7.924242424242425,
           7.9214619883040935,
           7.892432352066607,
           7.924242424242426,
           7.892432352066608,
           7.817232225300094,
           7.817232225300093,
           7.924242424242425,
           7.943099104143337,
           7.924242424242425,
           7.943099104143337
          ]
         },
         "mode": "markers",
         "text": [
          "frozenset({'Candy'}) => frozenset({'Snacks and Grocery'})",
          "frozenset({'Snacks and Grocery'}) => frozenset({'Candy'})",
          "frozenset({'Soda and Juice'}) => frozenset({'Candy'})",
          "frozenset({'Candy'}) => frozenset({'Soda and Juice'})",
          "frozenset({'Car Wash'}) => frozenset({'Fuel 1'})",
          "frozenset({'Fuel 1'}) => frozenset({'Car Wash'})",
          "frozenset({'Fountain'}) => frozenset({'Cigarettes'})",
          "frozenset({'Cigarettes'}) => frozenset({'Fountain'})",
          "frozenset({'Cigarettes'}) => frozenset({'Tobacco Excise Tax'})",
          "frozenset({'Snacks and Grocery'}) => frozenset({'Coffee'})",
          "frozenset({'Coffee'}) => frozenset({'Snacks and Grocery'})",
          "frozenset({'Fountain'}) => frozenset({'Snacks and Grocery'})",
          "frozenset({'Snacks and Grocery'}) => frozenset({'Fountain'})",
          "frozenset({'Fountain'}) => frozenset({'Tobacco Excise Tax'})",
          "frozenset({'Tobacco Excise Tax'}) => frozenset({'Fountain'})",
          "frozenset({'Scratch Off Tickets'}) => frozenset({'Lottery Winners'})",
          "frozenset({'Lottery Winners'}) => frozenset({'Scratch Off Tickets'})",
          "frozenset({'Soda and Juice'}) => frozenset({'Other Tobacco'})",
          "frozenset({'Other Tobacco'}) => frozenset({'Soda and Juice'})",
          "frozenset({'Soda and Juice'}) => frozenset({'Snacks and Grocery'})",
          "frozenset({'Snacks and Grocery'}) => frozenset({'Soda and Juice'})",
          "frozenset({'Fountain', 'Cigarettes'}) => frozenset({'Tobacco Excise Tax'})",
          "frozenset({'Cigarettes', 'Tobacco Excise Tax'}) => frozenset({'Fountain'})",
          "frozenset({'Fountain'}) => frozenset({'Cigarettes', 'Tobacco Excise Tax'})",
          "frozenset({'Cigarettes'}) => frozenset({'Fountain', 'Tobacco Excise Tax'})",
          "frozenset({'Tobacco Excise Tax'}) => frozenset({'Fountain', 'Cigarettes'})",
          "frozenset({'Cigarettes', 'Fuel 1'}) => frozenset({'Tobacco Excise Tax'})",
          "frozenset({'Cigarettes'}) => frozenset({'Tobacco Excise Tax', 'Fuel 1'})",
          "frozenset({'Tobacco Excise Tax'}) => frozenset({'Cigarettes', 'Fuel 1'})",
          "frozenset({'Snacks and Grocery', 'Cigarettes'}) => frozenset({'Tobacco Excise Tax'})",
          "frozenset({'Tobacco Excise Tax'}) => frozenset({'Snacks and Grocery', 'Cigarettes'})",
          "frozenset({'Cigarettes'}) => frozenset({'Snacks and Grocery', 'Tobacco Excise Tax'})",
          "frozenset({'Soda and Juice', 'Cigarettes'}) => frozenset({'Tobacco Excise Tax'})",
          "frozenset({'Cigarettes'}) => frozenset({'Soda and Juice', 'Tobacco Excise Tax'})",
          "frozenset({'Tobacco Excise Tax'}) => frozenset({'Soda and Juice', 'Cigarettes'})"
         ],
         "type": "scatter",
         "x": [
          0.018847309478284623,
          0.018847309478284623,
          0.031685331876536466,
          0.031685331876536466,
          0.0292269871619776,
          0.0292269871619776,
          0.020486205954657197,
          0.020486205954657197,
          0.12455613220431576,
          0.011745424747336794,
          0.011745424747336794,
          0.024583447145588636,
          0.024583447145588636,
          0.020213056541928436,
          0.020213056541928436,
          0.018027861240098333,
          0.018027861240098333,
          0.011199125921879268,
          0.011199125921879268,
          0.04834744605299099,
          0.04834744605299099,
          0.020213056541928436,
          0.020213056541928436,
          0.020213056541928436,
          0.020213056541928436,
          0.020213056541928436,
          0.015842665938268233,
          0.015842665938268233,
          0.015842665938268233,
          0.010106528270964218,
          0.010106528270964218,
          0.010106528270964218,
          0.025402895383774923,
          0.025402895383774923,
          0.025402895383774923
         ],
         "y": [
          0.27380952380952384,
          0.16586538461538464,
          0.15977961432506887,
          0.46031746031746035,
          0.8770491803278688,
          0.06434155141310884,
          0.16025641025641027,
          0.16233766233766236,
          0.9870129870129871,
          0.10336538461538462,
          0.22395833333333334,
          0.19230769230769232,
          0.21634615384615383,
          0.15811965811965814,
          0.16228070175438597,
          0.3267326732673267,
          0.7857142857142856,
          0.05647382920110193,
          0.24698795180722893,
          0.243801652892562,
          0.4254807692307693,
          0.9866666666666667,
          0.16228070175438597,
          0.15811965811965814,
          0.1601731601731602,
          0.16228070175438597,
          0.9830508474576272,
          0.12554112554112556,
          0.12719298245614036,
          0.9736842105263159,
          0.08114035087719298,
          0.0800865800865801,
          0.9893617021276595,
          0.2012987012987013,
          0.20394736842105263
         ]
        }
       ],
       "layout": {
        "template": {
         "data": {
          "bar": [
           {
            "error_x": {
             "color": "#2a3f5f"
            },
            "error_y": {
             "color": "#2a3f5f"
            },
            "marker": {
             "line": {
              "color": "#E5ECF6",
              "width": 0.5
             }
            },
            "type": "bar"
           }
          ],
          "barpolar": [
           {
            "marker": {
             "line": {
              "color": "#E5ECF6",
              "width": 0.5
             }
            },
            "type": "barpolar"
           }
          ],
          "carpet": [
           {
            "aaxis": {
             "endlinecolor": "#2a3f5f",
             "gridcolor": "white",
             "linecolor": "white",
             "minorgridcolor": "white",
             "startlinecolor": "#2a3f5f"
            },
            "baxis": {
             "endlinecolor": "#2a3f5f",
             "gridcolor": "white",
             "linecolor": "white",
             "minorgridcolor": "white",
             "startlinecolor": "#2a3f5f"
            },
            "type": "carpet"
           }
          ],
          "choropleth": [
           {
            "colorbar": {
             "outlinewidth": 0,
             "ticks": ""
            },
            "type": "choropleth"
           }
          ],
          "contour": [
           {
            "colorbar": {
             "outlinewidth": 0,
             "ticks": ""
            },
            "colorscale": [
             [
              0,
              "#0d0887"
             ],
             [
              0.1111111111111111,
              "#46039f"
             ],
             [
              0.2222222222222222,
              "#7201a8"
             ],
             [
              0.3333333333333333,
              "#9c179e"
             ],
             [
              0.4444444444444444,
              "#bd3786"
             ],
             [
              0.5555555555555556,
              "#d8576b"
             ],
             [
              0.6666666666666666,
              "#ed7953"
             ],
             [
              0.7777777777777778,
              "#fb9f3a"
             ],
             [
              0.8888888888888888,
              "#fdca26"
             ],
             [
              1,
              "#f0f921"
             ]
            ],
            "type": "contour"
           }
          ],
          "contourcarpet": [
           {
            "colorbar": {
             "outlinewidth": 0,
             "ticks": ""
            },
            "type": "contourcarpet"
           }
          ],
          "heatmap": [
           {
            "colorbar": {
             "outlinewidth": 0,
             "ticks": ""
            },
            "colorscale": [
             [
              0,
              "#0d0887"
             ],
             [
              0.1111111111111111,
              "#46039f"
             ],
             [
              0.2222222222222222,
              "#7201a8"
             ],
             [
              0.3333333333333333,
              "#9c179e"
             ],
             [
              0.4444444444444444,
              "#bd3786"
             ],
             [
              0.5555555555555556,
              "#d8576b"
             ],
             [
              0.6666666666666666,
              "#ed7953"
             ],
             [
              0.7777777777777778,
              "#fb9f3a"
             ],
             [
              0.8888888888888888,
              "#fdca26"
             ],
             [
              1,
              "#f0f921"
             ]
            ],
            "type": "heatmap"
           }
          ],
          "heatmapgl": [
           {
            "colorbar": {
             "outlinewidth": 0,
             "ticks": ""
            },
            "colorscale": [
             [
              0,
              "#0d0887"
             ],
             [
              0.1111111111111111,
              "#46039f"
             ],
             [
              0.2222222222222222,
              "#7201a8"
             ],
             [
              0.3333333333333333,
              "#9c179e"
             ],
             [
              0.4444444444444444,
              "#bd3786"
             ],
             [
              0.5555555555555556,
              "#d8576b"
             ],
             [
              0.6666666666666666,
              "#ed7953"
             ],
             [
              0.7777777777777778,
              "#fb9f3a"
             ],
             [
              0.8888888888888888,
              "#fdca26"
             ],
             [
              1,
              "#f0f921"
             ]
            ],
            "type": "heatmapgl"
           }
          ],
          "histogram": [
           {
            "marker": {
             "colorbar": {
              "outlinewidth": 0,
              "ticks": ""
             }
            },
            "type": "histogram"
           }
          ],
          "histogram2d": [
           {
            "colorbar": {
             "outlinewidth": 0,
             "ticks": ""
            },
            "colorscale": [
             [
              0,
              "#0d0887"
             ],
             [
              0.1111111111111111,
              "#46039f"
             ],
             [
              0.2222222222222222,
              "#7201a8"
             ],
             [
              0.3333333333333333,
              "#9c179e"
             ],
             [
              0.4444444444444444,
              "#bd3786"
             ],
             [
              0.5555555555555556,
              "#d8576b"
             ],
             [
              0.6666666666666666,
              "#ed7953"
             ],
             [
              0.7777777777777778,
              "#fb9f3a"
             ],
             [
              0.8888888888888888,
              "#fdca26"
             ],
             [
              1,
              "#f0f921"
             ]
            ],
            "type": "histogram2d"
           }
          ],
          "histogram2dcontour": [
           {
            "colorbar": {
             "outlinewidth": 0,
             "ticks": ""
            },
            "colorscale": [
             [
              0,
              "#0d0887"
             ],
             [
              0.1111111111111111,
              "#46039f"
             ],
             [
              0.2222222222222222,
              "#7201a8"
             ],
             [
              0.3333333333333333,
              "#9c179e"
             ],
             [
              0.4444444444444444,
              "#bd3786"
             ],
             [
              0.5555555555555556,
              "#d8576b"
             ],
             [
              0.6666666666666666,
              "#ed7953"
             ],
             [
              0.7777777777777778,
              "#fb9f3a"
             ],
             [
              0.8888888888888888,
              "#fdca26"
             ],
             [
              1,
              "#f0f921"
             ]
            ],
            "type": "histogram2dcontour"
           }
          ],
          "mesh3d": [
           {
            "colorbar": {
             "outlinewidth": 0,
             "ticks": ""
            },
            "type": "mesh3d"
           }
          ],
          "parcoords": [
           {
            "line": {
             "colorbar": {
              "outlinewidth": 0,
              "ticks": ""
             }
            },
            "type": "parcoords"
           }
          ],
          "pie": [
           {
            "automargin": true,
            "type": "pie"
           }
          ],
          "scatter": [
           {
            "marker": {
             "colorbar": {
              "outlinewidth": 0,
              "ticks": ""
             }
            },
            "type": "scatter"
           }
          ],
          "scatter3d": [
           {
            "line": {
             "colorbar": {
              "outlinewidth": 0,
              "ticks": ""
             }
            },
            "marker": {
             "colorbar": {
              "outlinewidth": 0,
              "ticks": ""
             }
            },
            "type": "scatter3d"
           }
          ],
          "scattercarpet": [
           {
            "marker": {
             "colorbar": {
              "outlinewidth": 0,
              "ticks": ""
             }
            },
            "type": "scattercarpet"
           }
          ],
          "scattergeo": [
           {
            "marker": {
             "colorbar": {
              "outlinewidth": 0,
              "ticks": ""
             }
            },
            "type": "scattergeo"
           }
          ],
          "scattergl": [
           {
            "marker": {
             "colorbar": {
              "outlinewidth": 0,
              "ticks": ""
             }
            },
            "type": "scattergl"
           }
          ],
          "scattermapbox": [
           {
            "marker": {
             "colorbar": {
              "outlinewidth": 0,
              "ticks": ""
             }
            },
            "type": "scattermapbox"
           }
          ],
          "scatterpolar": [
           {
            "marker": {
             "colorbar": {
              "outlinewidth": 0,
              "ticks": ""
             }
            },
            "type": "scatterpolar"
           }
          ],
          "scatterpolargl": [
           {
            "marker": {
             "colorbar": {
              "outlinewidth": 0,
              "ticks": ""
             }
            },
            "type": "scatterpolargl"
           }
          ],
          "scatterternary": [
           {
            "marker": {
             "colorbar": {
              "outlinewidth": 0,
              "ticks": ""
             }
            },
            "type": "scatterternary"
           }
          ],
          "surface": [
           {
            "colorbar": {
             "outlinewidth": 0,
             "ticks": ""
            },
            "colorscale": [
             [
              0,
              "#0d0887"
             ],
             [
              0.1111111111111111,
              "#46039f"
             ],
             [
              0.2222222222222222,
              "#7201a8"
             ],
             [
              0.3333333333333333,
              "#9c179e"
             ],
             [
              0.4444444444444444,
              "#bd3786"
             ],
             [
              0.5555555555555556,
              "#d8576b"
             ],
             [
              0.6666666666666666,
              "#ed7953"
             ],
             [
              0.7777777777777778,
              "#fb9f3a"
             ],
             [
              0.8888888888888888,
              "#fdca26"
             ],
             [
              1,
              "#f0f921"
             ]
            ],
            "type": "surface"
           }
          ],
          "table": [
           {
            "cells": {
             "fill": {
              "color": "#EBF0F8"
             },
             "line": {
              "color": "white"
             }
            },
            "header": {
             "fill": {
              "color": "#C8D4E3"
             },
             "line": {
              "color": "white"
             }
            },
            "type": "table"
           }
          ]
         },
         "layout": {
          "annotationdefaults": {
           "arrowcolor": "#2a3f5f",
           "arrowhead": 0,
           "arrowwidth": 1
          },
          "coloraxis": {
           "colorbar": {
            "outlinewidth": 0,
            "ticks": ""
           }
          },
          "colorscale": {
           "diverging": [
            [
             0,
             "#8e0152"
            ],
            [
             0.1,
             "#c51b7d"
            ],
            [
             0.2,
             "#de77ae"
            ],
            [
             0.3,
             "#f1b6da"
            ],
            [
             0.4,
             "#fde0ef"
            ],
            [
             0.5,
             "#f7f7f7"
            ],
            [
             0.6,
             "#e6f5d0"
            ],
            [
             0.7,
             "#b8e186"
            ],
            [
             0.8,
             "#7fbc41"
            ],
            [
             0.9,
             "#4d9221"
            ],
            [
             1,
             "#276419"
            ]
           ],
           "sequential": [
            [
             0,
             "#0d0887"
            ],
            [
             0.1111111111111111,
             "#46039f"
            ],
            [
             0.2222222222222222,
             "#7201a8"
            ],
            [
             0.3333333333333333,
             "#9c179e"
            ],
            [
             0.4444444444444444,
             "#bd3786"
            ],
            [
             0.5555555555555556,
             "#d8576b"
            ],
            [
             0.6666666666666666,
             "#ed7953"
            ],
            [
             0.7777777777777778,
             "#fb9f3a"
            ],
            [
             0.8888888888888888,
             "#fdca26"
            ],
            [
             1,
             "#f0f921"
            ]
           ],
           "sequentialminus": [
            [
             0,
             "#0d0887"
            ],
            [
             0.1111111111111111,
             "#46039f"
            ],
            [
             0.2222222222222222,
             "#7201a8"
            ],
            [
             0.3333333333333333,
             "#9c179e"
            ],
            [
             0.4444444444444444,
             "#bd3786"
            ],
            [
             0.5555555555555556,
             "#d8576b"
            ],
            [
             0.6666666666666666,
             "#ed7953"
            ],
            [
             0.7777777777777778,
             "#fb9f3a"
            ],
            [
             0.8888888888888888,
             "#fdca26"
            ],
            [
             1,
             "#f0f921"
            ]
           ]
          },
          "colorway": [
           "#636efa",
           "#EF553B",
           "#00cc96",
           "#ab63fa",
           "#FFA15A",
           "#19d3f3",
           "#FF6692",
           "#B6E880",
           "#FF97FF",
           "#FECB52"
          ],
          "font": {
           "color": "#2a3f5f"
          },
          "geo": {
           "bgcolor": "white",
           "lakecolor": "white",
           "landcolor": "#E5ECF6",
           "showlakes": true,
           "showland": true,
           "subunitcolor": "white"
          },
          "hoverlabel": {
           "align": "left"
          },
          "hovermode": "closest",
          "mapbox": {
           "style": "light"
          },
          "paper_bgcolor": "white",
          "plot_bgcolor": "#E5ECF6",
          "polar": {
           "angularaxis": {
            "gridcolor": "white",
            "linecolor": "white",
            "ticks": ""
           },
           "bgcolor": "#E5ECF6",
           "radialaxis": {
            "gridcolor": "white",
            "linecolor": "white",
            "ticks": ""
           }
          },
          "scene": {
           "xaxis": {
            "backgroundcolor": "#E5ECF6",
            "gridcolor": "white",
            "gridwidth": 2,
            "linecolor": "white",
            "showbackground": true,
            "ticks": "",
            "zerolinecolor": "white"
           },
           "yaxis": {
            "backgroundcolor": "#E5ECF6",
            "gridcolor": "white",
            "gridwidth": 2,
            "linecolor": "white",
            "showbackground": true,
            "ticks": "",
            "zerolinecolor": "white"
           },
           "zaxis": {
            "backgroundcolor": "#E5ECF6",
            "gridcolor": "white",
            "gridwidth": 2,
            "linecolor": "white",
            "showbackground": true,
            "ticks": "",
            "zerolinecolor": "white"
           }
          },
          "shapedefaults": {
           "line": {
            "color": "#2a3f5f"
           }
          },
          "ternary": {
           "aaxis": {
            "gridcolor": "white",
            "linecolor": "white",
            "ticks": ""
           },
           "baxis": {
            "gridcolor": "white",
            "linecolor": "white",
            "ticks": ""
           },
           "bgcolor": "#E5ECF6",
           "caxis": {
            "gridcolor": "white",
            "linecolor": "white",
            "ticks": ""
           }
          },
          "title": {
           "x": 0.05
          },
          "xaxis": {
           "automargin": true,
           "gridcolor": "white",
           "linecolor": "white",
           "ticks": "",
           "title": {
            "standoff": 15
           },
           "zerolinecolor": "white",
           "zerolinewidth": 2
          },
          "yaxis": {
           "automargin": true,
           "gridcolor": "white",
           "linecolor": "white",
           "ticks": "",
           "title": {
            "standoff": 15
           },
           "zerolinecolor": "white",
           "zerolinewidth": 2
          }
         }
        },
        "title": {
         "text": "Support vs. Confidence with Lift"
        }
       }
      },
      "text/html": [
       "<div>\n",
       "        \n",
       "        \n",
       "            <div id=\"0206b324-e89a-4c7b-8010-affdd4ff174e\" class=\"plotly-graph-div\" style=\"height:525px; width:100%;\"></div>\n",
       "            <script type=\"text/javascript\">\n",
       "                require([\"plotly\"], function(Plotly) {\n",
       "                    window.PLOTLYENV=window.PLOTLYENV || {};\n",
       "                    \n",
       "                if (document.getElementById(\"0206b324-e89a-4c7b-8010-affdd4ff174e\")) {\n",
       "                    Plotly.newPlot(\n",
       "                        '0206b324-e89a-4c7b-8010-affdd4ff174e',\n",
       "                        [{\"marker\": {\"color\": [2.409655448717949, 2.409655448717949, 2.3212427303336396, 2.3212427303336396, 1.9307739321589463, 1.9307739321589463, 1.2699106449106452, 1.2699106449106452, 7.924242424242426, 1.9709410056089745, 1.9709410056089745, 1.692400147928994, 1.692400147928994, 1.2694650622282204, 1.2694650622282202, 14.240099009900987, 14.240099009900987, 1.2454860765375553, 1.2454860765375553, 2.145571757787667, 2.145571757787667, 7.9214619883040935, 1.2694650622282202, 1.2694650622282204, 7.924242424242425, 7.9214619883040935, 7.892432352066607, 7.924242424242426, 7.892432352066608, 7.817232225300094, 7.817232225300093, 7.924242424242425, 7.943099104143337, 7.924242424242425, 7.943099104143337], \"colorscale\": [[0.0, \"#440154\"], [0.1111111111111111, \"#482878\"], [0.2222222222222222, \"#3e4989\"], [0.3333333333333333, \"#31688e\"], [0.4444444444444444, \"#26828e\"], [0.5555555555555556, \"#1f9e89\"], [0.6666666666666666, \"#35b779\"], [0.7777777777777778, \"#6ece58\"], [0.8888888888888888, \"#b5de2b\"], [1.0, \"#fde725\"]], \"size\": [2.409655448717949, 2.409655448717949, 2.3212427303336396, 2.3212427303336396, 1.9307739321589463, 1.9307739321589463, 1.2699106449106452, 1.2699106449106452, 7.924242424242426, 1.9709410056089745, 1.9709410056089745, 1.692400147928994, 1.692400147928994, 1.2694650622282204, 1.2694650622282202, 14.240099009900987, 14.240099009900987, 1.2454860765375553, 1.2454860765375553, 2.145571757787667, 2.145571757787667, 7.9214619883040935, 1.2694650622282202, 1.2694650622282204, 7.924242424242425, 7.9214619883040935, 7.892432352066607, 7.924242424242426, 7.892432352066608, 7.817232225300094, 7.817232225300093, 7.924242424242425, 7.943099104143337, 7.924242424242425, 7.943099104143337]}, \"mode\": \"markers\", \"text\": [\"frozenset({'Candy'}) => frozenset({'Snacks and Grocery'})\", \"frozenset({'Snacks and Grocery'}) => frozenset({'Candy'})\", \"frozenset({'Soda and Juice'}) => frozenset({'Candy'})\", \"frozenset({'Candy'}) => frozenset({'Soda and Juice'})\", \"frozenset({'Car Wash'}) => frozenset({'Fuel 1'})\", \"frozenset({'Fuel 1'}) => frozenset({'Car Wash'})\", \"frozenset({'Fountain'}) => frozenset({'Cigarettes'})\", \"frozenset({'Cigarettes'}) => frozenset({'Fountain'})\", \"frozenset({'Cigarettes'}) => frozenset({'Tobacco Excise Tax'})\", \"frozenset({'Snacks and Grocery'}) => frozenset({'Coffee'})\", \"frozenset({'Coffee'}) => frozenset({'Snacks and Grocery'})\", \"frozenset({'Fountain'}) => frozenset({'Snacks and Grocery'})\", \"frozenset({'Snacks and Grocery'}) => frozenset({'Fountain'})\", \"frozenset({'Fountain'}) => frozenset({'Tobacco Excise Tax'})\", \"frozenset({'Tobacco Excise Tax'}) => frozenset({'Fountain'})\", \"frozenset({'Scratch Off Tickets'}) => frozenset({'Lottery Winners'})\", \"frozenset({'Lottery Winners'}) => frozenset({'Scratch Off Tickets'})\", \"frozenset({'Soda and Juice'}) => frozenset({'Other Tobacco'})\", \"frozenset({'Other Tobacco'}) => frozenset({'Soda and Juice'})\", \"frozenset({'Soda and Juice'}) => frozenset({'Snacks and Grocery'})\", \"frozenset({'Snacks and Grocery'}) => frozenset({'Soda and Juice'})\", \"frozenset({'Fountain', 'Cigarettes'}) => frozenset({'Tobacco Excise Tax'})\", \"frozenset({'Cigarettes', 'Tobacco Excise Tax'}) => frozenset({'Fountain'})\", \"frozenset({'Fountain'}) => frozenset({'Cigarettes', 'Tobacco Excise Tax'})\", \"frozenset({'Cigarettes'}) => frozenset({'Fountain', 'Tobacco Excise Tax'})\", \"frozenset({'Tobacco Excise Tax'}) => frozenset({'Fountain', 'Cigarettes'})\", \"frozenset({'Cigarettes', 'Fuel 1'}) => frozenset({'Tobacco Excise Tax'})\", \"frozenset({'Cigarettes'}) => frozenset({'Tobacco Excise Tax', 'Fuel 1'})\", \"frozenset({'Tobacco Excise Tax'}) => frozenset({'Cigarettes', 'Fuel 1'})\", \"frozenset({'Snacks and Grocery', 'Cigarettes'}) => frozenset({'Tobacco Excise Tax'})\", \"frozenset({'Tobacco Excise Tax'}) => frozenset({'Snacks and Grocery', 'Cigarettes'})\", \"frozenset({'Cigarettes'}) => frozenset({'Snacks and Grocery', 'Tobacco Excise Tax'})\", \"frozenset({'Soda and Juice', 'Cigarettes'}) => frozenset({'Tobacco Excise Tax'})\", \"frozenset({'Cigarettes'}) => frozenset({'Soda and Juice', 'Tobacco Excise Tax'})\", \"frozenset({'Tobacco Excise Tax'}) => frozenset({'Soda and Juice', 'Cigarettes'})\"], \"type\": \"scatter\", \"x\": [0.018847309478284623, 0.018847309478284623, 0.031685331876536466, 0.031685331876536466, 0.0292269871619776, 0.0292269871619776, 0.020486205954657197, 0.020486205954657197, 0.12455613220431576, 0.011745424747336794, 0.011745424747336794, 0.024583447145588636, 0.024583447145588636, 0.020213056541928436, 0.020213056541928436, 0.018027861240098333, 0.018027861240098333, 0.011199125921879268, 0.011199125921879268, 0.04834744605299099, 0.04834744605299099, 0.020213056541928436, 0.020213056541928436, 0.020213056541928436, 0.020213056541928436, 0.020213056541928436, 0.015842665938268233, 0.015842665938268233, 0.015842665938268233, 0.010106528270964218, 0.010106528270964218, 0.010106528270964218, 0.025402895383774923, 0.025402895383774923, 0.025402895383774923], \"y\": [0.27380952380952384, 0.16586538461538464, 0.15977961432506887, 0.46031746031746035, 0.8770491803278688, 0.06434155141310884, 0.16025641025641027, 0.16233766233766236, 0.9870129870129871, 0.10336538461538462, 0.22395833333333334, 0.19230769230769232, 0.21634615384615383, 0.15811965811965814, 0.16228070175438597, 0.3267326732673267, 0.7857142857142856, 0.05647382920110193, 0.24698795180722893, 0.243801652892562, 0.4254807692307693, 0.9866666666666667, 0.16228070175438597, 0.15811965811965814, 0.1601731601731602, 0.16228070175438597, 0.9830508474576272, 0.12554112554112556, 0.12719298245614036, 0.9736842105263159, 0.08114035087719298, 0.0800865800865801, 0.9893617021276595, 0.2012987012987013, 0.20394736842105263]}],\n",
       "                        {\"template\": {\"data\": {\"bar\": [{\"error_x\": {\"color\": \"#2a3f5f\"}, \"error_y\": {\"color\": \"#2a3f5f\"}, \"marker\": {\"line\": {\"color\": \"#E5ECF6\", \"width\": 0.5}}, \"type\": \"bar\"}], \"barpolar\": [{\"marker\": {\"line\": {\"color\": \"#E5ECF6\", \"width\": 0.5}}, \"type\": \"barpolar\"}], \"carpet\": [{\"aaxis\": {\"endlinecolor\": \"#2a3f5f\", \"gridcolor\": \"white\", \"linecolor\": \"white\", \"minorgridcolor\": \"white\", \"startlinecolor\": \"#2a3f5f\"}, \"baxis\": {\"endlinecolor\": \"#2a3f5f\", \"gridcolor\": \"white\", \"linecolor\": \"white\", \"minorgridcolor\": \"white\", \"startlinecolor\": \"#2a3f5f\"}, \"type\": \"carpet\"}], \"choropleth\": [{\"colorbar\": {\"outlinewidth\": 0, \"ticks\": \"\"}, \"type\": \"choropleth\"}], \"contour\": [{\"colorbar\": {\"outlinewidth\": 0, \"ticks\": \"\"}, \"colorscale\": [[0.0, \"#0d0887\"], [0.1111111111111111, \"#46039f\"], [0.2222222222222222, \"#7201a8\"], [0.3333333333333333, \"#9c179e\"], [0.4444444444444444, \"#bd3786\"], [0.5555555555555556, \"#d8576b\"], [0.6666666666666666, \"#ed7953\"], [0.7777777777777778, \"#fb9f3a\"], [0.8888888888888888, \"#fdca26\"], [1.0, \"#f0f921\"]], \"type\": \"contour\"}], \"contourcarpet\": [{\"colorbar\": {\"outlinewidth\": 0, \"ticks\": \"\"}, \"type\": \"contourcarpet\"}], \"heatmap\": [{\"colorbar\": {\"outlinewidth\": 0, \"ticks\": \"\"}, \"colorscale\": [[0.0, \"#0d0887\"], [0.1111111111111111, \"#46039f\"], [0.2222222222222222, \"#7201a8\"], [0.3333333333333333, \"#9c179e\"], [0.4444444444444444, \"#bd3786\"], [0.5555555555555556, \"#d8576b\"], [0.6666666666666666, \"#ed7953\"], [0.7777777777777778, \"#fb9f3a\"], [0.8888888888888888, \"#fdca26\"], [1.0, \"#f0f921\"]], \"type\": \"heatmap\"}], \"heatmapgl\": [{\"colorbar\": {\"outlinewidth\": 0, \"ticks\": \"\"}, \"colorscale\": [[0.0, \"#0d0887\"], [0.1111111111111111, \"#46039f\"], [0.2222222222222222, \"#7201a8\"], [0.3333333333333333, \"#9c179e\"], [0.4444444444444444, \"#bd3786\"], [0.5555555555555556, \"#d8576b\"], [0.6666666666666666, \"#ed7953\"], [0.7777777777777778, \"#fb9f3a\"], [0.8888888888888888, \"#fdca26\"], [1.0, \"#f0f921\"]], \"type\": \"heatmapgl\"}], \"histogram\": [{\"marker\": {\"colorbar\": {\"outlinewidth\": 0, \"ticks\": \"\"}}, \"type\": \"histogram\"}], \"histogram2d\": [{\"colorbar\": {\"outlinewidth\": 0, \"ticks\": \"\"}, \"colorscale\": [[0.0, \"#0d0887\"], [0.1111111111111111, \"#46039f\"], [0.2222222222222222, \"#7201a8\"], [0.3333333333333333, \"#9c179e\"], [0.4444444444444444, \"#bd3786\"], [0.5555555555555556, \"#d8576b\"], [0.6666666666666666, \"#ed7953\"], [0.7777777777777778, \"#fb9f3a\"], [0.8888888888888888, \"#fdca26\"], [1.0, \"#f0f921\"]], \"type\": \"histogram2d\"}], \"histogram2dcontour\": [{\"colorbar\": {\"outlinewidth\": 0, \"ticks\": \"\"}, \"colorscale\": [[0.0, \"#0d0887\"], [0.1111111111111111, \"#46039f\"], [0.2222222222222222, \"#7201a8\"], [0.3333333333333333, \"#9c179e\"], [0.4444444444444444, \"#bd3786\"], [0.5555555555555556, \"#d8576b\"], [0.6666666666666666, \"#ed7953\"], [0.7777777777777778, \"#fb9f3a\"], [0.8888888888888888, \"#fdca26\"], [1.0, \"#f0f921\"]], \"type\": \"histogram2dcontour\"}], \"mesh3d\": [{\"colorbar\": {\"outlinewidth\": 0, \"ticks\": \"\"}, \"type\": \"mesh3d\"}], \"parcoords\": [{\"line\": {\"colorbar\": {\"outlinewidth\": 0, \"ticks\": \"\"}}, \"type\": \"parcoords\"}], \"pie\": [{\"automargin\": true, \"type\": \"pie\"}], \"scatter\": [{\"marker\": {\"colorbar\": {\"outlinewidth\": 0, \"ticks\": \"\"}}, \"type\": \"scatter\"}], \"scatter3d\": [{\"line\": {\"colorbar\": {\"outlinewidth\": 0, \"ticks\": \"\"}}, \"marker\": {\"colorbar\": {\"outlinewidth\": 0, \"ticks\": \"\"}}, \"type\": \"scatter3d\"}], \"scattercarpet\": [{\"marker\": {\"colorbar\": {\"outlinewidth\": 0, \"ticks\": \"\"}}, \"type\": \"scattercarpet\"}], \"scattergeo\": [{\"marker\": {\"colorbar\": {\"outlinewidth\": 0, \"ticks\": \"\"}}, \"type\": \"scattergeo\"}], \"scattergl\": [{\"marker\": {\"colorbar\": {\"outlinewidth\": 0, \"ticks\": \"\"}}, \"type\": \"scattergl\"}], \"scattermapbox\": [{\"marker\": {\"colorbar\": {\"outlinewidth\": 0, \"ticks\": \"\"}}, \"type\": \"scattermapbox\"}], \"scatterpolar\": [{\"marker\": {\"colorbar\": {\"outlinewidth\": 0, \"ticks\": \"\"}}, \"type\": \"scatterpolar\"}], \"scatterpolargl\": [{\"marker\": {\"colorbar\": {\"outlinewidth\": 0, \"ticks\": \"\"}}, \"type\": \"scatterpolargl\"}], \"scatterternary\": [{\"marker\": {\"colorbar\": {\"outlinewidth\": 0, \"ticks\": \"\"}}, \"type\": \"scatterternary\"}], \"surface\": [{\"colorbar\": {\"outlinewidth\": 0, \"ticks\": \"\"}, \"colorscale\": [[0.0, \"#0d0887\"], [0.1111111111111111, \"#46039f\"], [0.2222222222222222, \"#7201a8\"], [0.3333333333333333, \"#9c179e\"], [0.4444444444444444, \"#bd3786\"], [0.5555555555555556, \"#d8576b\"], [0.6666666666666666, \"#ed7953\"], [0.7777777777777778, \"#fb9f3a\"], [0.8888888888888888, \"#fdca26\"], [1.0, \"#f0f921\"]], \"type\": \"surface\"}], \"table\": [{\"cells\": {\"fill\": {\"color\": \"#EBF0F8\"}, \"line\": {\"color\": \"white\"}}, \"header\": {\"fill\": {\"color\": \"#C8D4E3\"}, \"line\": {\"color\": \"white\"}}, \"type\": \"table\"}]}, \"layout\": {\"annotationdefaults\": {\"arrowcolor\": \"#2a3f5f\", \"arrowhead\": 0, \"arrowwidth\": 1}, \"coloraxis\": {\"colorbar\": {\"outlinewidth\": 0, \"ticks\": \"\"}}, \"colorscale\": {\"diverging\": [[0, \"#8e0152\"], [0.1, \"#c51b7d\"], [0.2, \"#de77ae\"], [0.3, \"#f1b6da\"], [0.4, \"#fde0ef\"], [0.5, \"#f7f7f7\"], [0.6, \"#e6f5d0\"], [0.7, \"#b8e186\"], [0.8, \"#7fbc41\"], [0.9, \"#4d9221\"], [1, \"#276419\"]], \"sequential\": [[0.0, \"#0d0887\"], [0.1111111111111111, \"#46039f\"], [0.2222222222222222, \"#7201a8\"], [0.3333333333333333, \"#9c179e\"], [0.4444444444444444, \"#bd3786\"], [0.5555555555555556, \"#d8576b\"], [0.6666666666666666, \"#ed7953\"], [0.7777777777777778, \"#fb9f3a\"], [0.8888888888888888, \"#fdca26\"], [1.0, \"#f0f921\"]], \"sequentialminus\": [[0.0, \"#0d0887\"], [0.1111111111111111, \"#46039f\"], [0.2222222222222222, \"#7201a8\"], [0.3333333333333333, \"#9c179e\"], [0.4444444444444444, \"#bd3786\"], [0.5555555555555556, \"#d8576b\"], [0.6666666666666666, \"#ed7953\"], [0.7777777777777778, \"#fb9f3a\"], [0.8888888888888888, \"#fdca26\"], [1.0, \"#f0f921\"]]}, \"colorway\": [\"#636efa\", \"#EF553B\", \"#00cc96\", \"#ab63fa\", \"#FFA15A\", \"#19d3f3\", \"#FF6692\", \"#B6E880\", \"#FF97FF\", \"#FECB52\"], \"font\": {\"color\": \"#2a3f5f\"}, \"geo\": {\"bgcolor\": \"white\", \"lakecolor\": \"white\", \"landcolor\": \"#E5ECF6\", \"showlakes\": true, \"showland\": true, \"subunitcolor\": \"white\"}, \"hoverlabel\": {\"align\": \"left\"}, \"hovermode\": \"closest\", \"mapbox\": {\"style\": \"light\"}, \"paper_bgcolor\": \"white\", \"plot_bgcolor\": \"#E5ECF6\", \"polar\": {\"angularaxis\": {\"gridcolor\": \"white\", \"linecolor\": \"white\", \"ticks\": \"\"}, \"bgcolor\": \"#E5ECF6\", \"radialaxis\": {\"gridcolor\": \"white\", \"linecolor\": \"white\", \"ticks\": \"\"}}, \"scene\": {\"xaxis\": {\"backgroundcolor\": \"#E5ECF6\", \"gridcolor\": \"white\", \"gridwidth\": 2, \"linecolor\": \"white\", \"showbackground\": true, \"ticks\": \"\", \"zerolinecolor\": \"white\"}, \"yaxis\": {\"backgroundcolor\": \"#E5ECF6\", \"gridcolor\": \"white\", \"gridwidth\": 2, \"linecolor\": \"white\", \"showbackground\": true, \"ticks\": \"\", \"zerolinecolor\": \"white\"}, \"zaxis\": {\"backgroundcolor\": \"#E5ECF6\", \"gridcolor\": \"white\", \"gridwidth\": 2, \"linecolor\": \"white\", \"showbackground\": true, \"ticks\": \"\", \"zerolinecolor\": \"white\"}}, \"shapedefaults\": {\"line\": {\"color\": \"#2a3f5f\"}}, \"ternary\": {\"aaxis\": {\"gridcolor\": \"white\", \"linecolor\": \"white\", \"ticks\": \"\"}, \"baxis\": {\"gridcolor\": \"white\", \"linecolor\": \"white\", \"ticks\": \"\"}, \"bgcolor\": \"#E5ECF6\", \"caxis\": {\"gridcolor\": \"white\", \"linecolor\": \"white\", \"ticks\": \"\"}}, \"title\": {\"x\": 0.05}, \"xaxis\": {\"automargin\": true, \"gridcolor\": \"white\", \"linecolor\": \"white\", \"ticks\": \"\", \"title\": {\"standoff\": 15}, \"zerolinecolor\": \"white\", \"zerolinewidth\": 2}, \"yaxis\": {\"automargin\": true, \"gridcolor\": \"white\", \"linecolor\": \"white\", \"ticks\": \"\", \"title\": {\"standoff\": 15}, \"zerolinecolor\": \"white\", \"zerolinewidth\": 2}}}, \"title\": {\"text\": \"Support vs. Confidence with Lift\"}},\n",
       "                        {\"responsive\": true}\n",
       "                    ).then(function(){\n",
       "                            \n",
       "var gd = document.getElementById('0206b324-e89a-4c7b-8010-affdd4ff174e');\n",
       "var x = new MutationObserver(function (mutations, observer) {{\n",
       "        var display = window.getComputedStyle(gd).display;\n",
       "        if (!display || display === 'none') {{\n",
       "            console.log([gd, 'removed!']);\n",
       "            Plotly.purge(gd);\n",
       "            observer.disconnect();\n",
       "        }}\n",
       "}});\n",
       "\n",
       "// Listen for the removal of the full notebook cells\n",
       "var notebookContainer = gd.closest('#notebook-container');\n",
       "if (notebookContainer) {{\n",
       "    x.observe(notebookContainer, {childList: true});\n",
       "}}\n",
       "\n",
       "// Listen for the clearing of the current output cell\n",
       "var outputEl = gd.closest('.output');\n",
       "if (outputEl) {{\n",
       "    x.observe(outputEl, {childList: true});\n",
       "}}\n",
       "\n",
       "                        })\n",
       "                };\n",
       "                });\n",
       "            </script>\n",
       "        </div>"
      ]
     },
     "metadata": {},
     "output_type": "display_data"
    }
   ],
   "source": [
    "fig = go.Figure(data=go.Scatter(x=support, y=confidence, mode='markers',\n",
    "                                marker_color=lift,\n",
    "                                marker_size=lift,\n",
    "                                marker_colorscale='Viridis',\n",
    "                                text=ruletext))\n",
    "fig.update_layout(title='Support vs. Confidence with Lift')\n",
    "fig.show()"
   ]
  },
  {
   "cell_type": "code",
   "execution_count": 179,
   "metadata": {},
   "outputs": [],
   "source": [
    "import networkx as nx  \n",
    "def draw_graph(rules, rules_to_show):\n",
    "    G1 = nx.DiGraph()\n",
    "    color_map=[]\n",
    "    N = 50\n",
    "    colors = np.random.rand(N)    \n",
    "    #strs=['R0', 'R1', 'R2', 'R3', 'R4', 'R5', 'R6', 'R7', 'R8', 'R9', 'R10', 'R11']\n",
    "    strs = [f'R{i}' for i in range (rules_to_show)]\n",
    "\n",
    "    plt.figure(figsize=(12,12))\n",
    "\n",
    "    for i in range (rules_to_show):\n",
    "        G1.add_nodes_from([\"R\"+str(i)])\n",
    "     \n",
    "        for a in rules.iloc[i]['antecedents']:\n",
    "            G1.add_nodes_from([a])\n",
    "            G1.add_edge(a, \"R\"+str(i), color=colors[i] , weight = 2)\n",
    "\n",
    "        for c in rules.iloc[i]['consequents']:\n",
    "            G1.add_nodes_from([c])\n",
    "            G1.add_edge(\"R\"+str(i), c, color=colors[i],  weight=2)\n",
    "\n",
    "    for node in G1:\n",
    "        found_a_string = False\n",
    "        for item in strs: \n",
    "            if node==item:\n",
    "                found_a_string = True\n",
    "        if found_a_string:\n",
    "            color_map.append('yellow')\n",
    "        else:\n",
    "            color_map.append('green')       \n",
    "\n",
    "    edges = G1.edges()\n",
    "    colors = [G1[u][v]['color'] for u,v in edges]\n",
    "    weights = [G1[u][v]['weight'] for u,v in edges]\n",
    "\n",
    "    pos = nx.spring_layout(G1, k=16, scale=1)\n",
    "    nx.draw(G1, pos, edges=edges, node_color = color_map, edge_color=colors, width=weights, font_size=16, with_labels=False)            \n",
    "\n",
    "    for p in pos:  # raise text positions\n",
    "        pos[p][1] += 0.07\n",
    "    nx.draw_networkx_labels(G1, pos)\n",
    "    plt.show()"
   ]
  },
  {
   "cell_type": "code",
   "execution_count": 180,
   "metadata": {},
   "outputs": [
    {
     "data": {
      "image/png": "[encoded data removed]",
      "text/plain": [
       "<Figure size 864x864 with 1 Axes>"
      ]
     },
     "metadata": {},
     "output_type": "display_data"
    }
   ],
   "source": [
    "draw_graph(rules,20)"
   ]
  },
  {
   "cell_type": "code",
   "execution_count": 181,
   "metadata": {},
   "outputs": [
    {
     "data": {
      "text/html": [
       "<div>\n",
       "<style scoped>\n",
       "    .dataframe tbody tr th:only-of-type {\n",
       "        vertical-align: middle;\n",
       "    }\n",
       "\n",
       "    .dataframe tbody tr th {\n",
       "        vertical-align: top;\n",
       "    }\n",
       "\n",
       "    .dataframe thead th {\n",
       "        text-align: right;\n",
       "    }\n",
       "</style>\n",
       "<table border=\"1\" class=\"dataframe\">\n",
       "  <thead>\n",
       "    <tr style=\"text-align: right;\">\n",
       "      <th></th>\n",
       "      <th>antecedents</th>\n",
       "      <th>consequents</th>\n",
       "      <th>antecedent support</th>\n",
       "      <th>consequent support</th>\n",
       "      <th>support</th>\n",
       "      <th>confidence</th>\n",
       "      <th>lift</th>\n",
       "      <th>leverage</th>\n",
       "      <th>conviction</th>\n",
       "    </tr>\n",
       "  </thead>\n",
       "  <tbody>\n",
       "    <tr>\n",
       "      <th>0</th>\n",
       "      <td>(Candy)</td>\n",
       "      <td>(Snacks and Grocery)</td>\n",
       "      <td>0.068834</td>\n",
       "      <td>0.113630</td>\n",
       "      <td>0.018847</td>\n",
       "      <td>0.273810</td>\n",
       "      <td>2.409655</td>\n",
       "      <td>0.011026</td>\n",
       "      <td>1.220575</td>\n",
       "    </tr>\n",
       "    <tr>\n",
       "      <th>1</th>\n",
       "      <td>(Snacks and Grocery)</td>\n",
       "      <td>(Candy)</td>\n",
       "      <td>0.113630</td>\n",
       "      <td>0.068834</td>\n",
       "      <td>0.018847</td>\n",
       "      <td>0.165865</td>\n",
       "      <td>2.409655</td>\n",
       "      <td>0.011026</td>\n",
       "      <td>1.116326</td>\n",
       "    </tr>\n",
       "    <tr>\n",
       "      <th>2</th>\n",
       "      <td>(Soda and Juice)</td>\n",
       "      <td>(Candy)</td>\n",
       "      <td>0.198306</td>\n",
       "      <td>0.068834</td>\n",
       "      <td>0.031685</td>\n",
       "      <td>0.159780</td>\n",
       "      <td>2.321243</td>\n",
       "      <td>0.018035</td>\n",
       "      <td>1.108241</td>\n",
       "    </tr>\n",
       "    <tr>\n",
       "      <th>3</th>\n",
       "      <td>(Candy)</td>\n",
       "      <td>(Soda and Juice)</td>\n",
       "      <td>0.068834</td>\n",
       "      <td>0.198306</td>\n",
       "      <td>0.031685</td>\n",
       "      <td>0.460317</td>\n",
       "      <td>2.321243</td>\n",
       "      <td>0.018035</td>\n",
       "      <td>1.485491</td>\n",
       "    </tr>\n",
       "    <tr>\n",
       "      <th>4</th>\n",
       "      <td>(Car Wash)</td>\n",
       "      <td>(Fuel 1)</td>\n",
       "      <td>0.033324</td>\n",
       "      <td>0.454247</td>\n",
       "      <td>0.029227</td>\n",
       "      <td>0.877049</td>\n",
       "      <td>1.930774</td>\n",
       "      <td>0.014090</td>\n",
       "      <td>4.438787</td>\n",
       "    </tr>\n",
       "    <tr>\n",
       "      <th>5</th>\n",
       "      <td>(Fuel 1)</td>\n",
       "      <td>(Car Wash)</td>\n",
       "      <td>0.454247</td>\n",
       "      <td>0.033324</td>\n",
       "      <td>0.029227</td>\n",
       "      <td>0.064342</td>\n",
       "      <td>1.930774</td>\n",
       "      <td>0.014090</td>\n",
       "      <td>1.033150</td>\n",
       "    </tr>\n",
       "    <tr>\n",
       "      <th>6</th>\n",
       "      <td>(Fountain)</td>\n",
       "      <td>(Cigarettes)</td>\n",
       "      <td>0.127834</td>\n",
       "      <td>0.126195</td>\n",
       "      <td>0.020486</td>\n",
       "      <td>0.160256</td>\n",
       "      <td>1.269911</td>\n",
       "      <td>0.004354</td>\n",
       "      <td>1.040562</td>\n",
       "    </tr>\n",
       "    <tr>\n",
       "      <th>7</th>\n",
       "      <td>(Cigarettes)</td>\n",
       "      <td>(Fountain)</td>\n",
       "      <td>0.126195</td>\n",
       "      <td>0.127834</td>\n",
       "      <td>0.020486</td>\n",
       "      <td>0.162338</td>\n",
       "      <td>1.269911</td>\n",
       "      <td>0.004354</td>\n",
       "      <td>1.041191</td>\n",
       "    </tr>\n",
       "    <tr>\n",
       "      <th>8</th>\n",
       "      <td>(Cigarettes)</td>\n",
       "      <td>(Tobacco Excise Tax)</td>\n",
       "      <td>0.126195</td>\n",
       "      <td>0.124556</td>\n",
       "      <td>0.124556</td>\n",
       "      <td>0.987013</td>\n",
       "      <td>7.924242</td>\n",
       "      <td>0.108838</td>\n",
       "      <td>67.409178</td>\n",
       "    </tr>\n",
       "    <tr>\n",
       "      <th>10</th>\n",
       "      <td>(Snacks and Grocery)</td>\n",
       "      <td>(Coffee)</td>\n",
       "      <td>0.113630</td>\n",
       "      <td>0.052445</td>\n",
       "      <td>0.011745</td>\n",
       "      <td>0.103365</td>\n",
       "      <td>1.970941</td>\n",
       "      <td>0.005786</td>\n",
       "      <td>1.056791</td>\n",
       "    </tr>\n",
       "    <tr>\n",
       "      <th>11</th>\n",
       "      <td>(Coffee)</td>\n",
       "      <td>(Snacks and Grocery)</td>\n",
       "      <td>0.052445</td>\n",
       "      <td>0.113630</td>\n",
       "      <td>0.011745</td>\n",
       "      <td>0.223958</td>\n",
       "      <td>1.970941</td>\n",
       "      <td>0.005786</td>\n",
       "      <td>1.142168</td>\n",
       "    </tr>\n",
       "    <tr>\n",
       "      <th>12</th>\n",
       "      <td>(Fountain)</td>\n",
       "      <td>(Snacks and Grocery)</td>\n",
       "      <td>0.127834</td>\n",
       "      <td>0.113630</td>\n",
       "      <td>0.024583</td>\n",
       "      <td>0.192308</td>\n",
       "      <td>1.692400</td>\n",
       "      <td>0.010058</td>\n",
       "      <td>1.097410</td>\n",
       "    </tr>\n",
       "    <tr>\n",
       "      <th>13</th>\n",
       "      <td>(Snacks and Grocery)</td>\n",
       "      <td>(Fountain)</td>\n",
       "      <td>0.113630</td>\n",
       "      <td>0.127834</td>\n",
       "      <td>0.024583</td>\n",
       "      <td>0.216346</td>\n",
       "      <td>1.692400</td>\n",
       "      <td>0.010058</td>\n",
       "      <td>1.112948</td>\n",
       "    </tr>\n",
       "    <tr>\n",
       "      <th>14</th>\n",
       "      <td>(Fountain)</td>\n",
       "      <td>(Tobacco Excise Tax)</td>\n",
       "      <td>0.127834</td>\n",
       "      <td>0.124556</td>\n",
       "      <td>0.020213</td>\n",
       "      <td>0.158120</td>\n",
       "      <td>1.269465</td>\n",
       "      <td>0.004291</td>\n",
       "      <td>1.039867</td>\n",
       "    </tr>\n",
       "    <tr>\n",
       "      <th>15</th>\n",
       "      <td>(Tobacco Excise Tax)</td>\n",
       "      <td>(Fountain)</td>\n",
       "      <td>0.124556</td>\n",
       "      <td>0.127834</td>\n",
       "      <td>0.020213</td>\n",
       "      <td>0.162281</td>\n",
       "      <td>1.269465</td>\n",
       "      <td>0.004291</td>\n",
       "      <td>1.041120</td>\n",
       "    </tr>\n",
       "    <tr>\n",
       "      <th>16</th>\n",
       "      <td>(Scratch Off Tickets)</td>\n",
       "      <td>(Lottery Winners)</td>\n",
       "      <td>0.055176</td>\n",
       "      <td>0.022945</td>\n",
       "      <td>0.018028</td>\n",
       "      <td>0.326733</td>\n",
       "      <td>14.240099</td>\n",
       "      <td>0.016762</td>\n",
       "      <td>1.451215</td>\n",
       "    </tr>\n",
       "    <tr>\n",
       "      <th>17</th>\n",
       "      <td>(Lottery Winners)</td>\n",
       "      <td>(Scratch Off Tickets)</td>\n",
       "      <td>0.022945</td>\n",
       "      <td>0.055176</td>\n",
       "      <td>0.018028</td>\n",
       "      <td>0.785714</td>\n",
       "      <td>14.240099</td>\n",
       "      <td>0.016762</td>\n",
       "      <td>4.409178</td>\n",
       "    </tr>\n",
       "    <tr>\n",
       "      <th>18</th>\n",
       "      <td>(Soda and Juice)</td>\n",
       "      <td>(Other Tobacco)</td>\n",
       "      <td>0.198306</td>\n",
       "      <td>0.045343</td>\n",
       "      <td>0.011199</td>\n",
       "      <td>0.056474</td>\n",
       "      <td>1.245486</td>\n",
       "      <td>0.002207</td>\n",
       "      <td>1.011797</td>\n",
       "    </tr>\n",
       "    <tr>\n",
       "      <th>19</th>\n",
       "      <td>(Other Tobacco)</td>\n",
       "      <td>(Soda and Juice)</td>\n",
       "      <td>0.045343</td>\n",
       "      <td>0.198306</td>\n",
       "      <td>0.011199</td>\n",
       "      <td>0.246988</td>\n",
       "      <td>1.245486</td>\n",
       "      <td>0.002207</td>\n",
       "      <td>1.064649</td>\n",
       "    </tr>\n",
       "    <tr>\n",
       "      <th>20</th>\n",
       "      <td>(Soda and Juice)</td>\n",
       "      <td>(Snacks and Grocery)</td>\n",
       "      <td>0.198306</td>\n",
       "      <td>0.113630</td>\n",
       "      <td>0.048347</td>\n",
       "      <td>0.243802</td>\n",
       "      <td>2.145572</td>\n",
       "      <td>0.025814</td>\n",
       "      <td>1.172139</td>\n",
       "    </tr>\n",
       "    <tr>\n",
       "      <th>21</th>\n",
       "      <td>(Snacks and Grocery)</td>\n",
       "      <td>(Soda and Juice)</td>\n",
       "      <td>0.113630</td>\n",
       "      <td>0.198306</td>\n",
       "      <td>0.048347</td>\n",
       "      <td>0.425481</td>\n",
       "      <td>2.145572</td>\n",
       "      <td>0.025814</td>\n",
       "      <td>1.395416</td>\n",
       "    </tr>\n",
       "    <tr>\n",
       "      <th>22</th>\n",
       "      <td>(Fountain, Cigarettes)</td>\n",
       "      <td>(Tobacco Excise Tax)</td>\n",
       "      <td>0.020486</td>\n",
       "      <td>0.124556</td>\n",
       "      <td>0.020213</td>\n",
       "      <td>0.986667</td>\n",
       "      <td>7.921462</td>\n",
       "      <td>0.017661</td>\n",
       "      <td>65.658290</td>\n",
       "    </tr>\n",
       "    <tr>\n",
       "      <th>24</th>\n",
       "      <td>(Cigarettes, Tobacco Excise Tax)</td>\n",
       "      <td>(Fountain)</td>\n",
       "      <td>0.124556</td>\n",
       "      <td>0.127834</td>\n",
       "      <td>0.020213</td>\n",
       "      <td>0.162281</td>\n",
       "      <td>1.269465</td>\n",
       "      <td>0.004291</td>\n",
       "      <td>1.041120</td>\n",
       "    </tr>\n",
       "    <tr>\n",
       "      <th>25</th>\n",
       "      <td>(Fountain)</td>\n",
       "      <td>(Cigarettes, Tobacco Excise Tax)</td>\n",
       "      <td>0.127834</td>\n",
       "      <td>0.124556</td>\n",
       "      <td>0.020213</td>\n",
       "      <td>0.158120</td>\n",
       "      <td>1.269465</td>\n",
       "      <td>0.004291</td>\n",
       "      <td>1.039867</td>\n",
       "    </tr>\n",
       "    <tr>\n",
       "      <th>26</th>\n",
       "      <td>(Cigarettes)</td>\n",
       "      <td>(Fountain, Tobacco Excise Tax)</td>\n",
       "      <td>0.126195</td>\n",
       "      <td>0.020213</td>\n",
       "      <td>0.020213</td>\n",
       "      <td>0.160173</td>\n",
       "      <td>7.924242</td>\n",
       "      <td>0.017662</td>\n",
       "      <td>1.166654</td>\n",
       "    </tr>\n",
       "    <tr>\n",
       "      <th>27</th>\n",
       "      <td>(Tobacco Excise Tax)</td>\n",
       "      <td>(Fountain, Cigarettes)</td>\n",
       "      <td>0.124556</td>\n",
       "      <td>0.020486</td>\n",
       "      <td>0.020213</td>\n",
       "      <td>0.162281</td>\n",
       "      <td>7.921462</td>\n",
       "      <td>0.017661</td>\n",
       "      <td>1.169263</td>\n",
       "    </tr>\n",
       "    <tr>\n",
       "      <th>28</th>\n",
       "      <td>(Cigarettes, Fuel 1)</td>\n",
       "      <td>(Tobacco Excise Tax)</td>\n",
       "      <td>0.016116</td>\n",
       "      <td>0.124556</td>\n",
       "      <td>0.015843</td>\n",
       "      <td>0.983051</td>\n",
       "      <td>7.892432</td>\n",
       "      <td>0.013835</td>\n",
       "      <td>51.651188</td>\n",
       "    </tr>\n",
       "    <tr>\n",
       "      <th>30</th>\n",
       "      <td>(Cigarettes)</td>\n",
       "      <td>(Tobacco Excise Tax, Fuel 1)</td>\n",
       "      <td>0.126195</td>\n",
       "      <td>0.015843</td>\n",
       "      <td>0.015843</td>\n",
       "      <td>0.125541</td>\n",
       "      <td>7.924242</td>\n",
       "      <td>0.013843</td>\n",
       "      <td>1.125447</td>\n",
       "    </tr>\n",
       "    <tr>\n",
       "      <th>31</th>\n",
       "      <td>(Tobacco Excise Tax)</td>\n",
       "      <td>(Cigarettes, Fuel 1)</td>\n",
       "      <td>0.124556</td>\n",
       "      <td>0.016116</td>\n",
       "      <td>0.015843</td>\n",
       "      <td>0.127193</td>\n",
       "      <td>7.892432</td>\n",
       "      <td>0.013835</td>\n",
       "      <td>1.127264</td>\n",
       "    </tr>\n",
       "    <tr>\n",
       "      <th>33</th>\n",
       "      <td>(Snacks and Grocery, Cigarettes)</td>\n",
       "      <td>(Tobacco Excise Tax)</td>\n",
       "      <td>0.010380</td>\n",
       "      <td>0.124556</td>\n",
       "      <td>0.010107</td>\n",
       "      <td>0.973684</td>\n",
       "      <td>7.817232</td>\n",
       "      <td>0.008814</td>\n",
       "      <td>33.266867</td>\n",
       "    </tr>\n",
       "    <tr>\n",
       "      <th>34</th>\n",
       "      <td>(Tobacco Excise Tax)</td>\n",
       "      <td>(Snacks and Grocery, Cigarettes)</td>\n",
       "      <td>0.124556</td>\n",
       "      <td>0.010380</td>\n",
       "      <td>0.010107</td>\n",
       "      <td>0.081140</td>\n",
       "      <td>7.817232</td>\n",
       "      <td>0.008814</td>\n",
       "      <td>1.077009</td>\n",
       "    </tr>\n",
       "    <tr>\n",
       "      <th>35</th>\n",
       "      <td>(Cigarettes)</td>\n",
       "      <td>(Snacks and Grocery, Tobacco Excise Tax)</td>\n",
       "      <td>0.126195</td>\n",
       "      <td>0.010107</td>\n",
       "      <td>0.010107</td>\n",
       "      <td>0.080087</td>\n",
       "      <td>7.924242</td>\n",
       "      <td>0.008831</td>\n",
       "      <td>1.076072</td>\n",
       "    </tr>\n",
       "    <tr>\n",
       "      <th>36</th>\n",
       "      <td>(Soda and Juice, Cigarettes)</td>\n",
       "      <td>(Tobacco Excise Tax)</td>\n",
       "      <td>0.025676</td>\n",
       "      <td>0.124556</td>\n",
       "      <td>0.025403</td>\n",
       "      <td>0.989362</td>\n",
       "      <td>7.943099</td>\n",
       "      <td>0.022205</td>\n",
       "      <td>82.291724</td>\n",
       "    </tr>\n",
       "    <tr>\n",
       "      <th>38</th>\n",
       "      <td>(Cigarettes)</td>\n",
       "      <td>(Soda and Juice, Tobacco Excise Tax)</td>\n",
       "      <td>0.126195</td>\n",
       "      <td>0.025403</td>\n",
       "      <td>0.025403</td>\n",
       "      <td>0.201299</td>\n",
       "      <td>7.924242</td>\n",
       "      <td>0.022197</td>\n",
       "      <td>1.220227</td>\n",
       "    </tr>\n",
       "    <tr>\n",
       "      <th>39</th>\n",
       "      <td>(Tobacco Excise Tax)</td>\n",
       "      <td>(Soda and Juice, Cigarettes)</td>\n",
       "      <td>0.124556</td>\n",
       "      <td>0.025676</td>\n",
       "      <td>0.025403</td>\n",
       "      <td>0.203947</td>\n",
       "      <td>7.943099</td>\n",
       "      <td>0.022205</td>\n",
       "      <td>1.223944</td>\n",
       "    </tr>\n",
       "  </tbody>\n",
       "</table>\n",
       "</div>"
      ],
      "text/plain": [
       "                         antecedents  \\\n",
       "0                            (Candy)   \n",
       "1               (Snacks and Grocery)   \n",
       "2                   (Soda and Juice)   \n",
       "3                            (Candy)   \n",
       "4                         (Car Wash)   \n",
       "5                           (Fuel 1)   \n",
       "6                         (Fountain)   \n",
       "7                       (Cigarettes)   \n",
       "8                       (Cigarettes)   \n",
       "10              (Snacks and Grocery)   \n",
       "11                          (Coffee)   \n",
       "12                        (Fountain)   \n",
       "13              (Snacks and Grocery)   \n",
       "14                        (Fountain)   \n",
       "15              (Tobacco Excise Tax)   \n",
       "16             (Scratch Off Tickets)   \n",
       "17                 (Lottery Winners)   \n",
       "18                  (Soda and Juice)   \n",
       "19                   (Other Tobacco)   \n",
       "20                  (Soda and Juice)   \n",
       "21              (Snacks and Grocery)   \n",
       "22            (Fountain, Cigarettes)   \n",
       "24  (Cigarettes, Tobacco Excise Tax)   \n",
       "25                        (Fountain)   \n",
       "26                      (Cigarettes)   \n",
       "27              (Tobacco Excise Tax)   \n",
       "28              (Cigarettes, Fuel 1)   \n",
       "30                      (Cigarettes)   \n",
       "31              (Tobacco Excise Tax)   \n",
       "33  (Snacks and Grocery, Cigarettes)   \n",
       "34              (Tobacco Excise Tax)   \n",
       "35                      (Cigarettes)   \n",
       "36      (Soda and Juice, Cigarettes)   \n",
       "38                      (Cigarettes)   \n",
       "39              (Tobacco Excise Tax)   \n",
       "\n",
       "                                 consequents  antecedent support  \\\n",
       "0                       (Snacks and Grocery)            0.068834   \n",
       "1                                    (Candy)            0.113630   \n",
       "2                                    (Candy)            0.198306   \n",
       "3                           (Soda and Juice)            0.068834   \n",
       "4                                   (Fuel 1)            0.033324   \n",
       "5                                 (Car Wash)            0.454247   \n",
       "6                               (Cigarettes)            0.127834   \n",
       "7                                 (Fountain)            0.126195   \n",
       "8                       (Tobacco Excise Tax)            0.126195   \n",
       "10                                  (Coffee)            0.113630   \n",
       "11                      (Snacks and Grocery)            0.052445   \n",
       "12                      (Snacks and Grocery)            0.127834   \n",
       "13                                (Fountain)            0.113630   \n",
       "14                      (Tobacco Excise Tax)            0.127834   \n",
       "15                                (Fountain)            0.124556   \n",
       "16                         (Lottery Winners)            0.055176   \n",
       "17                     (Scratch Off Tickets)            0.022945   \n",
       "18                           (Other Tobacco)            0.198306   \n",
       "19                          (Soda and Juice)            0.045343   \n",
       "20                      (Snacks and Grocery)            0.198306   \n",
       "21                          (Soda and Juice)            0.113630   \n",
       "22                      (Tobacco Excise Tax)            0.020486   \n",
       "24                                (Fountain)            0.124556   \n",
       "25          (Cigarettes, Tobacco Excise Tax)            0.127834   \n",
       "26            (Fountain, Tobacco Excise Tax)            0.126195   \n",
       "27                    (Fountain, Cigarettes)            0.124556   \n",
       "28                      (Tobacco Excise Tax)            0.016116   \n",
       "30              (Tobacco Excise Tax, Fuel 1)            0.126195   \n",
       "31                      (Cigarettes, Fuel 1)            0.124556   \n",
       "33                      (Tobacco Excise Tax)            0.010380   \n",
       "34          (Snacks and Grocery, Cigarettes)            0.124556   \n",
       "35  (Snacks and Grocery, Tobacco Excise Tax)            0.126195   \n",
       "36                      (Tobacco Excise Tax)            0.025676   \n",
       "38      (Soda and Juice, Tobacco Excise Tax)            0.126195   \n",
       "39              (Soda and Juice, Cigarettes)            0.124556   \n",
       "\n",
       "    consequent support   support  confidence       lift  leverage  conviction  \n",
       "0             0.113630  0.018847    0.273810   2.409655  0.011026    1.220575  \n",
       "1             0.068834  0.018847    0.165865   2.409655  0.011026    1.116326  \n",
       "2             0.068834  0.031685    0.159780   2.321243  0.018035    1.108241  \n",
       "3             0.198306  0.031685    0.460317   2.321243  0.018035    1.485491  \n",
       "4             0.454247  0.029227    0.877049   1.930774  0.014090    4.438787  \n",
       "5             0.033324  0.029227    0.064342   1.930774  0.014090    1.033150  \n",
       "6             0.126195  0.020486    0.160256   1.269911  0.004354    1.040562  \n",
       "7             0.127834  0.020486    0.162338   1.269911  0.004354    1.041191  \n",
       "8             0.124556  0.124556    0.987013   7.924242  0.108838   67.409178  \n",
       "10            0.052445  0.011745    0.103365   1.970941  0.005786    1.056791  \n",
       "11            0.113630  0.011745    0.223958   1.970941  0.005786    1.142168  \n",
       "12            0.113630  0.024583    0.192308   1.692400  0.010058    1.097410  \n",
       "13            0.127834  0.024583    0.216346   1.692400  0.010058    1.112948  \n",
       "14            0.124556  0.020213    0.158120   1.269465  0.004291    1.039867  \n",
       "15            0.127834  0.020213    0.162281   1.269465  0.004291    1.041120  \n",
       "16            0.022945  0.018028    0.326733  14.240099  0.016762    1.451215  \n",
       "17            0.055176  0.018028    0.785714  14.240099  0.016762    4.409178  \n",
       "18            0.045343  0.011199    0.056474   1.245486  0.002207    1.011797  \n",
       "19            0.198306  0.011199    0.246988   1.245486  0.002207    1.064649  \n",
       "20            0.113630  0.048347    0.243802   2.145572  0.025814    1.172139  \n",
       "21            0.198306  0.048347    0.425481   2.145572  0.025814    1.395416  \n",
       "22            0.124556  0.020213    0.986667   7.921462  0.017661   65.658290  \n",
       "24            0.127834  0.020213    0.162281   1.269465  0.004291    1.041120  \n",
       "25            0.124556  0.020213    0.158120   1.269465  0.004291    1.039867  \n",
       "26            0.020213  0.020213    0.160173   7.924242  0.017662    1.166654  \n",
       "27            0.020486  0.020213    0.162281   7.921462  0.017661    1.169263  \n",
       "28            0.124556  0.015843    0.983051   7.892432  0.013835   51.651188  \n",
       "30            0.015843  0.015843    0.125541   7.924242  0.013843    1.125447  \n",
       "31            0.016116  0.015843    0.127193   7.892432  0.013835    1.127264  \n",
       "33            0.124556  0.010107    0.973684   7.817232  0.008814   33.266867  \n",
       "34            0.010380  0.010107    0.081140   7.817232  0.008814    1.077009  \n",
       "35            0.010107  0.010107    0.080087   7.924242  0.008831    1.076072  \n",
       "36            0.124556  0.025403    0.989362   7.943099  0.022205   82.291724  \n",
       "38            0.025403  0.025403    0.201299   7.924242  0.022197    1.220227  \n",
       "39            0.025676  0.025403    0.203947   7.943099  0.022205    1.223944  "
      ]
     },
     "execution_count": 181,
     "metadata": {},
     "output_type": "execute_result"
    }
   ],
   "source": [
    "rules.head(rules.shape[0])"
   ]
  },
  {
   "cell_type": "code",
   "execution_count": null,
   "metadata": {},
   "outputs": [],
   "source": []
  }
 ],
 "metadata": {
  "kernelspec": {
   "display_name": "Python (class)",
   "language": "python",
   "name": "class"
  },
  "language_info": {
   "codemirror_mode": {
    "name": "ipython",
    "version": 3
   },
   "file_extension": ".py",
   "mimetype": "text/x-python",
   "name": "python",
   "nbconvert_exporter": "python",
   "pygments_lexer": "ipython3",
   "version": "3.7.5"
  }
 },
 "nbformat": 4,
 "nbformat_minor": 4
}
