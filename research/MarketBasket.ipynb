{
 "cells": [
  {
   "cell_type": "code",
   "execution_count": 1,
   "metadata": {},
   "outputs": [
    {
     "name": "stderr",
     "output_type": "stream",
     "text": [
      "C:\\Users\\rmr\\AppData\\Local\\Continuum\\anaconda3\\envs\\class\\lib\\site-packages\\ipykernel_launcher.py:2: DeprecationWarning: Using or importing the ABCs from 'collections' instead of from 'collections.abc' is deprecated, and in 3.8 it will stop working\n",
      "  \n"
     ]
    }
   ],
   "source": [
    "# pip install pymssql\n",
    "import pymssql\n",
    "import pandas as pd\n",
    "\n",
    "pd.options.display.max_columns = None"
   ]
  },
  {
   "cell_type": "code",
   "execution_count": 2,
   "metadata": {},
   "outputs": [],
   "source": [
    "load_csv = True"
   ]
  },
  {
   "cell_type": "code",
   "execution_count": 3,
   "metadata": {},
   "outputs": [],
   "source": [
    "if load_csv == True:\n",
    "    df_sku = pd.read_csv('df_sku.csv')"
   ]
  },
  {
   "cell_type": "code",
   "execution_count": 4,
   "metadata": {},
   "outputs": [],
   "source": [
    "if load_csv == False:\n",
    "    sqluser = input('Enter SQL User')\n",
    "    sqlpass = input(f'Enter Password for {sqluser}')\n",
    "    ## instance a python db connection object- same form as psycopg2/python-mysql drivers also\n",
    "    conn = pymssql.connect(server=\"192.168.254.13\", user=sqluser,password=passwrd, port=1433)  # You can lookup the port number inside SQL server. \n",
    "\n",
    "    stmt = \"SELECT \\\n",
    "            SKU_ID \\\n",
    "            ,UOM_ID \\\n",
    "            ,SalesCategoryID \\\n",
    "            ,cat.CategoryID \\\n",
    "            ,NACSCategoryID \\\n",
    "            ,Category \\\n",
    "            ,Description \\\n",
    "            ,LongDescription \\\n",
    "            ,ShortDescription \\\n",
    "            ,POSDescription \\\n",
    "            FROM AgilityPB.dbo.tbl_SKU sku \\\n",
    "            left outer join Agility_Net.dbo.tbl_Categories cat on sku.SalesCategoryID = cat.CategoryID\"\n",
    "    # Excute Query here\n",
    "    df_sku = pd.read_sql(stmt,conn)\n",
    "    df_sku.to_csv('df_sku.csv')"
   ]
  },
  {
   "cell_type": "code",
   "execution_count": 5,
   "metadata": {},
   "outputs": [
    {
     "data": {
      "text/html": [
       "<div>\n",
       "<style scoped>\n",
       "    .dataframe tbody tr th:only-of-type {\n",
       "        vertical-align: middle;\n",
       "    }\n",
       "\n",
       "    .dataframe tbody tr th {\n",
       "        vertical-align: top;\n",
       "    }\n",
       "\n",
       "    .dataframe thead th {\n",
       "        text-align: right;\n",
       "    }\n",
       "</style>\n",
       "<table border=\"1\" class=\"dataframe\">\n",
       "  <thead>\n",
       "    <tr style=\"text-align: right;\">\n",
       "      <th></th>\n",
       "      <th>Unnamed: 0</th>\n",
       "      <th>SKU_ID</th>\n",
       "      <th>UOM_ID</th>\n",
       "      <th>SalesCategoryID</th>\n",
       "      <th>CategoryID</th>\n",
       "      <th>NACSCategoryID</th>\n",
       "      <th>Category</th>\n",
       "      <th>Description</th>\n",
       "      <th>LongDescription</th>\n",
       "      <th>ShortDescription</th>\n",
       "      <th>POSDescription</th>\n",
       "    </tr>\n",
       "  </thead>\n",
       "  <tbody>\n",
       "    <tr>\n",
       "      <th>0</th>\n",
       "      <td>0</td>\n",
       "      <td>1</td>\n",
       "      <td>119</td>\n",
       "      <td>40</td>\n",
       "      <td>40</td>\n",
       "      <td>140</td>\n",
       "      <td>General Merchandise</td>\n",
       "      <td>General Merchandise</td>\n",
       "      <td>1000 DRINKING GAMES IN A BOX</td>\n",
       "      <td>1000 DRINK GAME</td>\n",
       "      <td>1000 DRINKING GAMES</td>\n",
       "    </tr>\n",
       "    <tr>\n",
       "      <th>1</th>\n",
       "      <td>1</td>\n",
       "      <td>2</td>\n",
       "      <td>119</td>\n",
       "      <td>52</td>\n",
       "      <td>52</td>\n",
       "      <td>91</td>\n",
       "      <td>Salty Snacks</td>\n",
       "      <td>Salty Snacks Inv</td>\n",
       "      <td>2/$1 RED HOT SAUSAGE</td>\n",
       "      <td>MEAT SNACK RH</td>\n",
       "      <td>2/$1 RED HOT SAUSAGE</td>\n",
       "    </tr>\n",
       "    <tr>\n",
       "      <th>2</th>\n",
       "      <td>2</td>\n",
       "      <td>3</td>\n",
       "      <td>119</td>\n",
       "      <td>52</td>\n",
       "      <td>52</td>\n",
       "      <td>91</td>\n",
       "      <td>Salty Snacks</td>\n",
       "      <td>Salty Snacks Inv</td>\n",
       "      <td>20 COUNT VARIETY PACK</td>\n",
       "      <td>VARIETY 20CT</td>\n",
       "      <td>20 COUNT VARIETY PACK</td>\n",
       "    </tr>\n",
       "    <tr>\n",
       "      <th>3</th>\n",
       "      <td>3</td>\n",
       "      <td>4</td>\n",
       "      <td>119</td>\n",
       "      <td>52</td>\n",
       "      <td>52</td>\n",
       "      <td>91</td>\n",
       "      <td>Salty Snacks</td>\n",
       "      <td>Salty Snacks Inv</td>\n",
       "      <td>26 CT 100 CALORIE VARIETY PACK</td>\n",
       "      <td>VARIETY 100CAL</td>\n",
       "      <td>26CT 100 CALORIE VARIETY</td>\n",
       "    </tr>\n",
       "    <tr>\n",
       "      <th>4</th>\n",
       "      <td>4</td>\n",
       "      <td>5</td>\n",
       "      <td>119</td>\n",
       "      <td>52</td>\n",
       "      <td>52</td>\n",
       "      <td>91</td>\n",
       "      <td>Salty Snacks</td>\n",
       "      <td>Salty Snacks Inv</td>\n",
       "      <td>3 CHEESE MEDLEY NIBBLERS</td>\n",
       "      <td>PRETZEL 3 CHEESE</td>\n",
       "      <td>3 CHEESE MEDLEY NIBBLERS</td>\n",
       "    </tr>\n",
       "  </tbody>\n",
       "</table>\n",
       "</div>"
      ],
      "text/plain": [
       "   Unnamed: 0  SKU_ID  UOM_ID  SalesCategoryID  CategoryID  NACSCategoryID  \\\n",
       "0           0       1     119               40          40             140   \n",
       "1           1       2     119               52          52              91   \n",
       "2           2       3     119               52          52              91   \n",
       "3           3       4     119               52          52              91   \n",
       "4           4       5     119               52          52              91   \n",
       "\n",
       "              Category          Description                 LongDescription  \\\n",
       "0  General Merchandise  General Merchandise    1000 DRINKING GAMES IN A BOX   \n",
       "1         Salty Snacks     Salty Snacks Inv            2/$1 RED HOT SAUSAGE   \n",
       "2         Salty Snacks     Salty Snacks Inv           20 COUNT VARIETY PACK   \n",
       "3         Salty Snacks     Salty Snacks Inv  26 CT 100 CALORIE VARIETY PACK   \n",
       "4         Salty Snacks     Salty Snacks Inv        3 CHEESE MEDLEY NIBBLERS   \n",
       "\n",
       "   ShortDescription            POSDescription  \n",
       "0   1000 DRINK GAME       1000 DRINKING GAMES  \n",
       "1     MEAT SNACK RH      2/$1 RED HOT SAUSAGE  \n",
       "2      VARIETY 20CT     20 COUNT VARIETY PACK  \n",
       "3    VARIETY 100CAL  26CT 100 CALORIE VARIETY  \n",
       "4  PRETZEL 3 CHEESE  3 CHEESE MEDLEY NIBBLERS  "
      ]
     },
     "execution_count": 5,
     "metadata": {},
     "output_type": "execute_result"
    }
   ],
   "source": [
    "df_sku.head()"
   ]
  },
  {
   "cell_type": "code",
   "execution_count": 6,
   "metadata": {},
   "outputs": [],
   "source": [
    "import numpy as np\n",
    "import matplotlib.pyplot as plt\n",
    "from sklearn.datasets import make_blobs\n"
   ]
  },
  {
   "cell_type": "code",
   "execution_count": 7,
   "metadata": {},
   "outputs": [],
   "source": [
    "#generate our dataset\n",
    "dataset = make_blobs(n_samples=200\n",
    "                    ,centers=4\n",
    "                    ,n_features=2\n",
    "                    ,cluster_std=1.6\n",
    "                    ,random_state=50)\n"
   ]
  },
  {
   "cell_type": "code",
   "execution_count": 8,
   "metadata": {},
   "outputs": [],
   "source": [
    "points = dataset[0]"
   ]
  },
  {
   "cell_type": "code",
   "execution_count": 10,
   "metadata": {},
   "outputs": [],
   "source": [
    "from sklearn.cluster import KMeans"
   ]
  },
  {
   "cell_type": "code",
   "execution_count": 11,
   "metadata": {},
   "outputs": [],
   "source": [
    "kmeans = KMeans(n_clusters=4)"
   ]
  },
  {
   "cell_type": "code",
   "execution_count": 12,
   "metadata": {},
   "outputs": [
    {
     "data": {
      "text/plain": [
       "KMeans(algorithm='auto', copy_x=True, init='k-means++', max_iter=300,\n",
       "       n_clusters=4, n_init=10, n_jobs=None, precompute_distances='auto',\n",
       "       random_state=None, tol=0.0001, verbose=0)"
      ]
     },
     "execution_count": 12,
     "metadata": {},
     "output_type": "execute_result"
    }
   ],
   "source": [
    "kmeans.fit(points)"
   ]
  },
  {
   "cell_type": "code",
   "execution_count": 16,
   "metadata": {},
   "outputs": [
    {
     "data": {
      "text/plain": [
       "<matplotlib.collections.PathCollection at 0x1a2180c66c8>"
      ]
     },
     "execution_count": 16,
     "metadata": {},
     "output_type": "execute_result"
    },
    {
     "data": {
      "image/png": "[encoded data removed]",
      "text/plain": [
       "<Figure size 432x288 with 1 Axes>"
      ]
     },
     "metadata": {
      "needs_background": "light"
     },
     "output_type": "display_data"
    }
   ],
   "source": [
    "plt.scatter(dataset[0][:,0], dataset[0][:,1])"
   ]
  },
  {
   "cell_type": "code",
   "execution_count": 17,
   "metadata": {},
   "outputs": [],
   "source": [
    "clusters = kmeans.cluster_centers_"
   ]
  },
  {
   "cell_type": "code",
   "execution_count": 18,
   "metadata": {},
   "outputs": [
    {
     "name": "stdout",
     "output_type": "stream",
     "text": [
      "[[-5.56465793 -2.34988939]\n",
      " [-1.92101646  5.21673484]\n",
      " [ 0.05161133 -5.35489826]\n",
      " [-2.40167949 10.17352695]]\n"
     ]
    }
   ],
   "source": [
    "print(clusters)"
   ]
  },
  {
   "cell_type": "code",
   "execution_count": 19,
   "metadata": {},
   "outputs": [],
   "source": [
    "y_km = kmeans.fit_predict(points)"
   ]
  },
  {
   "cell_type": "code",
   "execution_count": 26,
   "metadata": {},
   "outputs": [
    {
     "data": {
      "image/png": "[encoded data removed]",
      "text/plain": [
       "<Figure size 432x288 with 1 Axes>"
      ]
     },
     "metadata": {
      "needs_background": "light"
     },
     "output_type": "display_data"
    }
   ],
   "source": [
    "plt.scatter(points[y_km == 0,0], points[y_km == 0,1], s=50, color='red')\n",
    "plt.scatter(points[y_km == 1,0], points[y_km == 1,1], s=50, color='green')\n",
    "plt.scatter(points[y_km == 2,0], points[y_km == 2,1], s=50, color='yellow')\n",
    "plt.scatter(points[y_km == 3,0], points[y_km == 3,1], s=50, color='cyan')\n",
    "\n",
    "# mark our centroids\n",
    "plt.scatter(clusters[0,0], clusters[0,1], s=200, color='black', marker='*')\n",
    "plt.scatter(clusters[1,0], clusters[1,1], s=200, color='black', marker='*')\n",
    "plt.scatter(clusters[2,0], clusters[2,1], s=200, color='black', marker='*')\n",
    "plt.scatter(clusters[3,0], clusters[3,1], s=200, color='black', marker='*')\n",
    "\n",
    "plt.show()"
   ]
  },
  {
   "cell_type": "code",
   "execution_count": 27,
   "metadata": {},
   "outputs": [],
   "source": [
    "from sklearn.svm import LinearSVC\n",
    "from sklearn.model_selection import train_test_split\n",
    "from sklearn.naive_bayes import MultinomialNB\n",
    "from sklearn.pipeline import Pipeline\n",
    "from sklearn import metrics\n",
    "from sklearn.feature_extraction.text import CountVectorizer\n",
    "from sklearn.feature_extraction.text import TfidfTransformer"
   ]
  },
  {
   "cell_type": "code",
   "execution_count": null,
   "metadata": {},
   "outputs": [],
   "source": [
    "text_clf = Pipeline([('vect', CountVectorizer()),\n",
    "                     ('tfidf', TfidfTransformer()),\n",
    "                     ('clf', LinearSVC()),\n",
    "                     ])\n",
    "\n",
    "text_clf.fit(X_train, y_train)\n",
    "\n",
    "\n",
    "predicted = text_clf.predict(X_test)\n",
    "\n",
    "print(metrics.classification_report(y_test, predicted))"
   ]
  },
  {
   "cell_type": "code",
   "execution_count": 28,
   "metadata": {},
   "outputs": [],
   "source": [
    "from pandas_profiling import ProfileReport\n",
    "profile = ProfileReport(df_sku, title='Pandas Profiling Report', html={'style':{'full_width':True}})"
   ]
  },
  {
   "cell_type": "code",
   "execution_count": 31,
   "metadata": {},
   "outputs": [],
   "source": [
    "profile.to_file(output_file=\"your_report.html\")"
   ]
  },
  {
   "cell_type": "code",
   "execution_count": null,
   "metadata": {},
   "outputs": [],
   "source": []
  }
 ],
 "metadata": {
  "kernelspec": {
   "display_name": "Python [conda env:class]",
   "language": "python",
   "name": "conda-env-class-py"
  },
  "language_info": {
   "codemirror_mode": {
    "name": "ipython",
    "version": 3
   },
   "file_extension": ".py",
   "mimetype": "text/x-python",
   "name": "python",
   "nbconvert_exporter": "python",
   "pygments_lexer": "ipython3",
   "version": "3.7.4"
  }
 },
 "nbformat": 4,
 "nbformat_minor": 4
}
